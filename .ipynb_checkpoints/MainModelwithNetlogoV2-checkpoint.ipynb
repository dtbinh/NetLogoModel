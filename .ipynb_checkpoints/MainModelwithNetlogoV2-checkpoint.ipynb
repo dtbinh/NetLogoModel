{
 "cells": [
  {
   "cell_type": "code",
   "execution_count": 1,
   "metadata": {
    "collapsed": false
   },
   "outputs": [
    {
     "name": "stderr",
     "output_type": "stream",
     "text": [
      "Using Theano backend.\n",
      "C:\\Users\\Yanjie\\Anaconda\\lib\\site-packages\\theano\\tensor\\signal\\downsample.py:5: UserWarning: downsample module has been moved to the pool module.\n",
      "  warnings.warn(\"downsample module has been moved to the pool module.\")\n"
     ]
    }
   ],
   "source": [
    "# import functions\n",
    "# version 2: did not use imputation. just ML directly \n",
    "\n",
    "# parameters:\n",
    "\n",
    "import pandas as pd\n",
    "import numpy as np\n",
    "import codecs\n",
    "import matplotlib.pyplot as plt\n",
    "\n",
    "from fancyimpute import BiScaler, KNN, NuclearNormMinimization, SoftImpute\n",
    "from sklearn.preprocessing import StandardScaler                 #normalising features\n",
    "from sklearn.cross_validation import train_test_split\n",
    "from sklearn.metrics import mean_squared_error\n",
    "from sklearn.metrics import roc_auc_score\n",
    "from sklearn.metrics import confusion_matrix\n",
    "from sklearn.metrics import precision_score\n",
    "from sklearn.metrics import recall_score\n",
    "from sklearn.pipeline import make_pipeline\n",
    "from sklearn.cross_validation import KFold\n",
    "from sklearn.cross_validation import cross_val_score\n",
    "from sklearn.metrics import accuracy_score\n",
    "\n",
    "from sklearn.linear_model import RidgeClassifier\n",
    "from sklearn.linear_model import Lasso\n",
    "from sklearn.svm import SVC, SVR\n",
    "\n",
    "from sklearn.neighbors import KNeighborsRegressor, KNeighborsClassifier\n",
    "\n",
    "from sklearn.ensemble import RandomForestClassifier, RandomForestRegressor\n",
    "from sklearn.ensemble import GradientBoostingClassifier, GradientBoostingRegressor\n",
    "from sknn import mlp\n",
    "\n",
    "from scipy.optimize import minimize\n",
    "\n",
    "import theano\n",
    "import theano.tensor as T\n",
    "\n",
    "%matplotlib inline\n",
    "\n",
    "np.random.seed=10\n"
   ]
  },
  {
   "cell_type": "code",
   "execution_count": 2,
   "metadata": {
    "collapsed": true
   },
   "outputs": [],
   "source": [
    "import matplotlib.pyplot as plt\n",
    "\n",
    "from py4j.java_gateway import JavaGateway"
   ]
  },
  {
   "cell_type": "code",
   "execution_count": 3,
   "metadata": {
    "collapsed": true
   },
   "outputs": [],
   "source": [
    "%matplotlib inline"
   ]
  },
  {
   "cell_type": "markdown",
   "metadata": {},
   "source": [
    "# set up connection"
   ]
  },
  {
   "cell_type": "code",
   "execution_count": 4,
   "metadata": {
    "collapsed": true
   },
   "outputs": [],
   "source": [
    "gw = JavaGateway() # New gateway connection\n",
    "bridge = gw.entry_point"
   ]
  },
  {
   "cell_type": "markdown",
   "metadata": {},
   "source": [
    "# load netlogo model"
   ]
  },
  {
   "cell_type": "code",
   "execution_count": 5,
   "metadata": {
    "collapsed": true
   },
   "outputs": [],
   "source": [
    "# Path to the model:\n",
    "models_path = \"D:/Work/PhD/Github/NetLogoModel/\"\n",
    "model_name = \"PhD_InitialModelV2.nlogo\""
   ]
  },
  {
   "cell_type": "code",
   "execution_count": 6,
   "metadata": {
    "collapsed": true
   },
   "outputs": [],
   "source": [
    "modelLocation = models_path + model_name"
   ]
  },
  {
   "cell_type": "code",
   "execution_count": 7,
   "metadata": {
    "collapsed": false
   },
   "outputs": [
    {
     "data": {
      "text/plain": [
       "'D:/Work/PhD/Github/NetLogoModel/PhD_InitialModelV2.nlogo'"
      ]
     },
     "execution_count": 7,
     "metadata": {},
     "output_type": "execute_result"
    }
   ],
   "source": [
    "modelLocation"
   ]
  },
  {
   "cell_type": "code",
   "execution_count": 8,
   "metadata": {
    "collapsed": false
   },
   "outputs": [],
   "source": [
    "bridge.openModel(modelLocation)"
   ]
  },
  {
   "cell_type": "markdown",
   "metadata": {},
   "source": [
    "# Run one iteration of the model, one command at a time:"
   ]
  },
  {
   "cell_type": "code",
   "execution_count": null,
   "metadata": {
    "collapsed": false
   },
   "outputs": [],
   "source": [
    "bridge.command(\"set grid-size 21\")\n",
    "bridge.command(\"set nb-people 1\")\n",
    "bridge.command(\"set Show_Names_Nodes? False\")\n",
    "bridge.command(\"set Show_Names_people? False\")\n",
    "bridge.command(\"set car-speed 1\")\n",
    "bridge.command(\"set mobiletowerdata? True\")\n",
    "bridge.command(\"set socialmedia_data? True\")\n",
    "bridge.command(\"set grids_covered_vector 10\")\n",
    "bridge.command(\"set avg_num_calls_perday 100\")\n",
    "bridge.command(\"set avg_call_duration_mins 2\")\n",
    "\n",
    "bridge.command(\"random-seed 0\")\n",
    "bridge.command(\"setup\")\n",
    "bridge.command(\"repeat 144000 [go]\")"
   ]
  },
  {
   "cell_type": "code",
   "execution_count": null,
   "metadata": {
    "collapsed": true
   },
   "outputs": [],
   "source": [
    "bridge.command(\"repeat 144000 [go]\")"
   ]
  },
  {
   "cell_type": "markdown",
   "metadata": {
    "collapsed": false
   },
   "source": [
    "# Have the model report results"
   ]
  },
  {
   "cell_type": "code",
   "execution_count": null,
   "metadata": {
    "collapsed": false
   },
   "outputs": [],
   "source": [
    "!head -n 15 ./agentdata.txt"
   ]
  },
  {
   "cell_type": "code",
   "execution_count": null,
   "metadata": {
    "collapsed": false
   },
   "outputs": [],
   "source": [
    "!head -n 15 ./mobiletowers.txt"
   ]
  },
  {
   "cell_type": "code",
   "execution_count": 9,
   "metadata": {
    "collapsed": true
   },
   "outputs": [],
   "source": [
    "# initiating the netlogo model\n",
    "# and run it for the first 10 days\n",
    "def model_init():\n",
    "    bridge.command(\"set grid-size 21\")\n",
    "    bridge.command(\"set nb-people 1\")\n",
    "    bridge.command(\"set Show_Names_Nodes? False\")\n",
    "    bridge.command(\"set Show_Names_people? False\")\n",
    "    bridge.command(\"set car-speed 1\")\n",
    "    bridge.command(\"set mobiletowerdata? True\")\n",
    "    bridge.command(\"set socialmedia_data? True\")\n",
    "    bridge.command(\"set grids_covered_vector 5\")\n",
    "    bridge.command(\"set avg_num_calls_perday 10\")\n",
    "    bridge.command(\"set avg_call_duration_mins 2\")\n",
    "    bridge.command(\"random-seed 0\")\n",
    "    bridge.command(\"setup\")\n",
    "    #bridge.command(\"repeat \" + str(ini_day) + \" [go]\")\n",
    "    "
   ]
  },
  {
   "cell_type": "code",
   "execution_count": 10,
   "metadata": {
    "collapsed": false
   },
   "outputs": [],
   "source": [
    "# import simuated data\n",
    "# using function as the file can be closed automatically\n",
    "def rawimport(path, columnname):\n",
    "    agentdata = pd.read_csv(path, delimiter=' ', header=None, names=columnname)\n",
    "    agentdata = agentdata.drop(labels=\"todrop\", axis=1)\n",
    "    return agentdata\n"
   ]
  },
  {
   "cell_type": "code",
   "execution_count": 11,
   "metadata": {
    "collapsed": true
   },
   "outputs": [],
   "source": [
    "# run NL model; \n",
    "def run_NL(mob_call):\n",
    "    bridge.command(mob_call)\n"
   ]
  },
  {
   "cell_type": "code",
   "execution_count": 12,
   "metadata": {
    "collapsed": true
   },
   "outputs": [],
   "source": [
    "def data_input():\n",
    "    path = './agentdata.txt'\n",
    "    columnname = [\"todrop\", \"acc_time\", \"day\", \"minute\", \"pid\", \"zone\", \"status\", \"xcor\", \"ycor\", \"tid\"]\n",
    "    agentdata = rawimport(path, columnname)\n",
    "\n",
    "    path = './mobiletowers.txt'\n",
    "    columnname = [\"todrop\", \"acc_time\", \"day\", \"minute\", \"pid\", \"tpid\", \"tzone\", \"radius\", \"tid\", \"txcor\", \"tycor\"]\n",
    "    mobiledata = rawimport(path, columnname)\n",
    "    # leave the last n day(s) out for testing purpose\n",
    "\n",
    "    # mobiledata_ML = mobiledata[mobiledata['day'] <= (mobiledata['day'].max() - last_n)]\n",
    "    mobiledata_ML = mobiledata.drop('radius', axis = 1)\n",
    "    mobiledata_ML.drop('tid', axis=1, inplace=True)\n",
    "    mobiledata_ML.drop('txcor', axis=1, inplace=True)\n",
    "    mobiledata_ML.drop('tycor', axis=1, inplace=True)\n",
    "    \n",
    "#     mobiledata_ML = pd.concat([mobiledata_pre, mobiledata_new])\n",
    "#     mobiledata_ML = mobiledata_ML.reset_index(drop=True)\n",
    "    \n",
    "#     agentdata = pd.concat([agentdata_pre, agentdata_new])\n",
    "#     agentdata = agentdata.reset_index(drop=True)\n",
    "    \n",
    "    return (agentdata, mobiledata_ML)\n"
   ]
  },
  {
   "cell_type": "code",
   "execution_count": 13,
   "metadata": {
    "collapsed": true
   },
   "outputs": [],
   "source": [
    "class ReturnedValue(object):\n",
    "    def __init__(self, clf1, clf2, clf3, clf4):\n",
    "        self.clf1 = clf1\n",
    "        self.clf2 = clf2\n",
    "        self.clf3 = clf3\n",
    "        self.clf4 = clf4\n"
   ]
  },
  {
   "cell_type": "code",
   "execution_count": 14,
   "metadata": {
    "collapsed": false
   },
   "outputs": [],
   "source": [
    "def NL_ML(mobiledata_ML, day_new, traintest_pre):\n",
    "    # prepare for ML\n",
    "    \n",
    "    # need to keep previous training/testing samples, otherwise results flactuates\n",
    "    \n",
    "    mobiledata_new = mobiledata_ML[mobiledata_ML['day']>=day_new]\n",
    "    \n",
    "    X_new = mobiledata_new.drop('tzone', axis=1)\n",
    "    y_new = mobiledata_new['tzone']\n",
    "    trainX_new, testX_new, trainY_new, testY_new = train_test_split(X_new, y_new, random_state = 10)\n",
    "        \n",
    "    trainX = pd.concat([traintest_pre[0], trainX_new])\n",
    "    testX = pd.concat([traintest_pre[1], testX_new])\n",
    "    trainY = pd.concat([traintest_pre[2], trainY_new])\n",
    "    testY = pd.concat([traintest_pre[3], testY_new])\n",
    "    \n",
    "    X = mobiledata_ML.drop('tzone', axis=1)\n",
    "    y = mobiledata_ML['tzone']\n",
    "    \n",
    "    # knn\n",
    "    clf_knn = KNeighborsClassifier(n_neighbors=1).fit(trainX, trainY)\n",
    "    pred_knn = clf_knn.predict(testX)\n",
    "    #print roc_auc_score(testY, pred_knn)\n",
    "    AC_knn = accuracy_score(testY, pred_knn)\n",
    "    RC_knn = recall_score(testY, pred_knn, average=None).mean() \n",
    "    CF_knn = confusion_matrix(testY, pred_knn)\n",
    "    CV_knn = cross_val_score(clf_knn, X, y, cv=3)\n",
    "    ## using ridge regression\n",
    "    clf_rdg = RidgeClassifier(alpha=1).fit(trainX,trainY)\n",
    "    pred_rdg = clf_rdg.predict(testX)\n",
    "    AC_rdg = accuracy_score(testY, pred_rdg)\n",
    "    RC_rdg = recall_score(testY, pred_rdg, average=None).mean()  \n",
    "    CF_rdg =  confusion_matrix(testY, pred_rdg)\n",
    "    CV_rdg = cross_val_score(clf_rdg, X, y, cv=3)\n",
    "    ## using RF\n",
    "    clf_rf = RandomForestClassifier(n_estimators=100, max_depth=10)\n",
    "    clf_rf.fit(trainX, trainY)\n",
    "    pred_rf = clf_rf.predict(testX)\n",
    "    AC_rf = accuracy_score(testY, pred_rf)\n",
    "    RC_rf = recall_score(testY, pred_rf, average=None).mean()   \n",
    "    CF_rf = confusion_matrix(testY, pred_rf)\n",
    "    CV_rf = cross_val_score(clf_rf, X, y, cv=3)\n",
    "    ## using GBDT\n",
    "    clf_gb = GradientBoostingClassifier(n_estimators=100, max_depth=3)\n",
    "    clf_gb.fit(trainX, trainY)\n",
    "    pred_gb = clf_gb.predict(testX)\n",
    "    AC_gb = accuracy_score(testY, pred_gb)\n",
    "    RC_gb = recall_score(testY, pred_gb, average=None).mean()  \n",
    "    CF_gb = confusion_matrix(testY, pred_gb)\n",
    "    CV_gb = cross_val_score(clf_gb, X, y, cv=3)\n",
    "    \n",
    "    trained_clf = [clf_knn, clf_rdg, clf_rf, clf_gb]\n",
    "    trained_CV = [CV_knn, CV_rdg, CV_rf, CV_gb]\n",
    "    trained_RC = [RC_knn, RC_rdg, RC_rf, RC_gb]\n",
    "    trained_CM = [CF_knn, CF_rdg, CF_rf, CF_gb]\n",
    "    trained_AC = [AC_knn, AC_rdg, AC_rf, AC_gb]\n",
    "    traintest = [trainX, testX, trainY, testY]\n",
    "    \n",
    "    return (trained_clf, trained_CV, trained_RC, trained_CM, trained_AC, traintest)"
   ]
  },
  {
   "cell_type": "code",
   "execution_count": 15,
   "metadata": {
    "collapsed": true
   },
   "outputs": [],
   "source": [
    "def pred_agent(trained_clf, agentdata, last_n):\n",
    "    last_minutes = last_n * (-1440)\n",
    "    pred_X = agentdata[last_minutes:].iloc[:,0:4]\n",
    "    pred_X['tpid'] = 0\n",
    "    pred_X['day'] = pred_X['day'] + 1\n",
    "    pred_X['acc_time'] = pred_X['acc_time'] + 1440\n",
    "    pred_y = agentdata[last_minutes:].iloc[:,4]\n",
    "    \n",
    "\n",
    "    pred_knn = trained_clf[0].predict(pred_X)\n",
    "    #print roc_auc_score(testY, pred_knn)\n",
    "    knn_AC = accuracy_score(pred_y, pred_knn)\n",
    "    knn_RC = recall_score(pred_y, pred_knn, average='macro')\n",
    "    knn_CM = confusion_matrix(pred_y, pred_knn)\n",
    "\n",
    "    ## using ridge regression\n",
    "    pred_rdg = trained_clf[1].predict(pred_X)\n",
    "    rdg_AC = accuracy_score(pred_y, pred_rdg)\n",
    "    rdg_RC = recall_score(pred_y, pred_rdg, average='macro')  \n",
    "    rdg_CM = confusion_matrix(pred_y, pred_rdg)\n",
    "\n",
    "    ## using RF\n",
    "    pred_rf = trained_clf[2].predict(pred_X)\n",
    "    rf_AC = accuracy_score(pred_y, pred_rf)\n",
    "    rf_RC = recall_score(pred_y, pred_rf, average='macro')  \n",
    "    rf_CM = confusion_matrix(pred_y, pred_rf)\n",
    "\n",
    "    ## using GBDT\n",
    "    pred_gb = trained_clf[3].predict(pred_X)\n",
    "    gb_AC = accuracy_score(pred_y, pred_gb)\n",
    "    gb_RC = recall_score(pred_y, pred_gb, average='macro')  \n",
    "    gb_CM = confusion_matrix(pred_y, pred_gb)\n",
    "    \n",
    "    pr_RC = [knn_RC, rdg_RC, rf_RC, gb_RC]\n",
    "    pr_CM = [knn_CM, rdg_CM, rf_CM, gb_CM]\n",
    "    pr_AC = [knn_AC, rdg_AC, rf_AC, gb_AC]\n",
    "    pr_data = [pred_X, pred_y]\n",
    "\n",
    "    return (pr_RC, pr_CM, pr_AC, pr_data)\n"
   ]
  },
  {
   "cell_type": "code",
   "execution_count": 16,
   "metadata": {
    "collapsed": false,
    "scrolled": true
   },
   "outputs": [
    {
     "name": "stdout",
     "output_type": "stream",
     "text": [
      "0\n",
      "2"
     ]
    },
    {
     "name": "stderr",
     "output_type": "stream",
     "text": [
      "C:\\Users\\Yanjie\\Anaconda\\lib\\site-packages\\sklearn\\cross_validation.py:516: Warning: The least populated class in y has only 1 members, which is too few. The minimum number of labels for any class cannot be less than n_folds=3.\n",
      "  % (min_labels, self.n_folds)), Warning)\n",
      "C:\\Users\\Yanjie\\Anaconda\\lib\\site-packages\\sklearn\\cross_validation.py:516: Warning: The least populated class in y has only 2 members, which is too few. The minimum number of labels for any class cannot be less than n_folds=3.\n",
      "  % (min_labels, self.n_folds)), Warning)\n"
     ]
    },
    {
     "name": "stdout",
     "output_type": "stream",
     "text": [
      "\n",
      "4\n",
      "6\n",
      "8\n",
      "10\n",
      "12\n",
      "14\n",
      "16\n",
      "18\n",
      "20\n",
      "22\n",
      "24\n",
      "26\n",
      "28\n",
      "30\n",
      "32\n",
      "34\n",
      "36\n",
      "38\n",
      "40\n",
      "42\n",
      "44\n",
      "46\n",
      "48\n",
      "50\n",
      "52\n",
      "54\n",
      "56\n",
      "58\n",
      "60\n",
      "62\n",
      "64\n",
      "66\n",
      "68\n",
      "70\n",
      "72\n",
      "74\n",
      "76\n",
      "78\n",
      "80\n",
      "82\n",
      "84\n",
      "86\n",
      "88\n",
      "90\n",
      "92\n",
      "94\n",
      "96\n",
      "98\n",
      "100\n",
      "102\n",
      "104\n",
      "106\n",
      "108\n",
      "110\n",
      "112\n",
      "114\n",
      "116\n",
      "118\n",
      "120\n",
      "122\n",
      "124\n",
      "126\n",
      "128\n",
      "130\n",
      "132\n",
      "134\n",
      "136\n",
      "138\n",
      "140\n",
      "142\n",
      "144\n",
      "146\n",
      "148\n",
      "150\n",
      "152\n",
      "154\n",
      "156\n",
      "158\n",
      "160\n",
      "162\n",
      "164\n",
      "166\n",
      "168\n",
      "170\n",
      "172\n",
      "174\n",
      "176\n",
      "178\n",
      "180\n",
      "182\n",
      "184\n",
      "186\n",
      "188\n",
      "190\n",
      "192\n",
      "194\n",
      "196\n",
      "198\n",
      "200\n",
      "202\n",
      "204\n",
      "206\n",
      "208\n",
      "210\n",
      "212\n",
      "214\n",
      "216\n",
      "218\n",
      "220\n",
      "222\n",
      "224\n",
      "226\n",
      "228\n",
      "230\n",
      "232\n",
      "234\n",
      "236\n",
      "238\n",
      "240\n",
      "242\n",
      "244\n",
      "246\n",
      "248\n",
      "250\n",
      "252\n",
      "254\n",
      "256\n",
      "258\n",
      "260\n",
      "262\n",
      "264\n",
      "266\n",
      "268\n",
      "270\n",
      "272\n",
      "274\n",
      "276\n",
      "278\n",
      "280\n",
      "282\n",
      "284\n",
      "286\n",
      "288\n",
      "290\n",
      "292\n",
      "294\n",
      "296\n",
      "298\n"
     ]
    }
   ],
   "source": [
    "## run Netlogo and carryout ML\n",
    "knn_all_RC = []\n",
    "rdg_all_RC = []\n",
    "rf_all_RC = []\n",
    "gb_all_RC = []\n",
    "\n",
    "knn_all_CM = []\n",
    "rdg_all_CM = []\n",
    "rf_all_CM = []\n",
    "gb_all_CM = []\n",
    "\n",
    "knn_all_AC = []\n",
    "rdg_all_AC = []\n",
    "rf_all_AC = []\n",
    "gb_all_AC = []\n",
    "\n",
    "knn_all_cv_tr = []\n",
    "rdg_all_cv_tr = []\n",
    "rf_all_cv_tr = []\n",
    "gb_all_cv_tr = []\n",
    "\n",
    "knn_all_CM_tr = []\n",
    "rdg_all_CM_tr = []\n",
    "rf_all_CM_tr = []\n",
    "gb_all_CM_tr = []\n",
    "\n",
    "knn_all_RC_tr = []\n",
    "rdg_all_RC_tr = []\n",
    "rf_all_RC_tr = []\n",
    "gb_all_RC_tr = []\n",
    "\n",
    "knn_all_AC_tr = []\n",
    "rdg_all_AC_tr = []\n",
    "rf_all_AC_tr = []\n",
    "gb_all_AC_tr = []\n",
    "\n",
    "agentdata_tot = {}\n",
    "mobiledata_tot = {}\n",
    "traintestsplit_tot = {}\n",
    "pr_data_tot ={}\n",
    "traintestsplit = [None, None, None, None]\n",
    "\n",
    "ini_day = 0 # define the number of days to initiate the model (i.e. the original training data)\n",
    "\n",
    "last_n = 1 # define the number of days to be left out from simulation data for testing purpose\n",
    "tot_day = 300 # define the number of days to be simulated\n",
    "sim_day = 2 # define for one simulation how many days to be simulated\n",
    "#num_sim = 1440 # define the duration of simulation (in minutes)\n",
    "\n",
    "## initiating the model, \n",
    "model_init()\n",
    "\n",
    "## loop + prediction\n",
    "for x in range(0, tot_day, sim_day):\n",
    "    print x\n",
    "    currentday = x\n",
    "    sim_min = sim_day*1440\n",
    "    mob_call = \"repeat \" + str(sim_min) + \" [go]\" \n",
    "    run_NL(mob_call)\n",
    "    agentdata, mobiledata_ML = data_input()\n",
    "    train_classifier, train_CV, train_RC, train_CM, train_AC, traintestsplit = NL_ML(mobiledata_ML, currentday,\n",
    "                                                                                    traintestsplit)\n",
    "    pred_RC, pred_CM, pred_AC, pred_data = pred_agent(train_classifier, agentdata, last_n)\n",
    "    \n",
    "    agentdata_tot[x] = agentdata\n",
    "    mobiledata_tot[x] = mobiledata_ML\n",
    "    traintestsplit_tot[x] = traintestsplit\n",
    "    pr_data_tot[x] = pred_data\n",
    "    \n",
    "    knn_all_RC.append(pred_RC[0])\n",
    "    rdg_all_RC.append(pred_RC[1])\n",
    "    rf_all_RC.append(pred_RC[2])\n",
    "    gb_all_RC.append(pred_RC[3])\n",
    "    knn_all_CM.append(pred_CM[0])\n",
    "    rdg_all_CM.append(pred_CM[1])\n",
    "    rf_all_CM.append(pred_CM[2])\n",
    "    gb_all_CM.append(pred_CM[3])\n",
    "    knn_all_AC.append(pred_AC[0])\n",
    "    rdg_all_AC.append(pred_AC[1])\n",
    "    rf_all_AC.append(pred_AC[2])\n",
    "    gb_all_AC.append(pred_AC[3])\n",
    "    \n",
    "    knn_all_cv_tr.append(train_CV[0])\n",
    "    rdg_all_cv_tr.append(train_CV[1])\n",
    "    rf_all_cv_tr.append(train_CV[2])\n",
    "    gb_all_cv_tr.append(train_CV[3])\n",
    "    knn_all_CM_tr.append(train_CM[0])\n",
    "    rdg_all_CM_tr.append(train_CM[1])\n",
    "    rf_all_CM_tr.append(train_CM[2])\n",
    "    gb_all_CM_tr.append(train_CM[3])\n",
    "    knn_all_RC_tr.append(train_RC[0])\n",
    "    rdg_all_RC_tr.append(train_RC[1])\n",
    "    rf_all_RC_tr.append(train_RC[2])\n",
    "    gb_all_RC_tr.append(train_RC[3])\n",
    "    knn_all_AC_tr.append(train_AC[0])\n",
    "    rdg_all_AC_tr.append(train_AC[1])\n",
    "    rf_all_AC_tr.append(train_AC[2])\n",
    "    gb_all_AC_tr.append(train_AC[3])"
   ]
  },
  {
   "cell_type": "code",
   "execution_count": 25,
   "metadata": {
    "collapsed": false
   },
   "outputs": [
    {
     "data": {
      "text/plain": [
       "[array([[1, 0, 0, 0],\n",
       "        [0, 0, 1, 0],\n",
       "        [0, 1, 0, 0],\n",
       "        [0, 1, 0, 0]]), array([[1, 1, 0, 0],\n",
       "        [0, 2, 1, 1],\n",
       "        [0, 1, 0, 0],\n",
       "        [0, 1, 0, 0]]), array([[3, 1, 2, 0],\n",
       "        [0, 2, 2, 1],\n",
       "        [0, 1, 0, 0],\n",
       "        [0, 1, 0, 0]]), array([[6, 1, 2, 0],\n",
       "        [0, 2, 2, 2],\n",
       "        [0, 2, 1, 0],\n",
       "        [0, 1, 0, 0]]), array([[8, 4, 2, 0],\n",
       "        [0, 3, 3, 2],\n",
       "        [0, 2, 1, 0],\n",
       "        [0, 1, 0, 0]]), array([[9, 4, 2, 0],\n",
       "        [0, 5, 3, 2],\n",
       "        [0, 2, 2, 0],\n",
       "        [1, 1, 0, 1]]), array([[11,  4,  2,  0],\n",
       "        [ 1,  5,  3,  2],\n",
       "        [ 1,  2,  2,  0],\n",
       "        [ 1,  2,  0,  1]]), array([[13,  4,  2,  0],\n",
       "        [ 2,  6,  3,  2],\n",
       "        [ 1,  3,  2,  0],\n",
       "        [ 1,  2,  0,  1]]), array([[16,  4,  2,  0],\n",
       "        [ 2,  6,  3,  2],\n",
       "        [ 1,  3,  2,  0],\n",
       "        [ 1,  2,  0,  2]]), array([[22,  4,  2,  0],\n",
       "        [ 2,  6,  3,  2],\n",
       "        [ 1,  3,  2,  0],\n",
       "        [ 1,  2,  0,  2]]), array([[25,  4,  2,  0],\n",
       "        [ 3,  6,  3,  2],\n",
       "        [ 1,  3,  2,  0],\n",
       "        [ 1,  2,  0,  2]]), array([[27,  4,  2,  0],\n",
       "        [ 4,  6,  3,  2],\n",
       "        [ 2,  3,  2,  0],\n",
       "        [ 2,  2,  0,  2]]), array([[30,  4,  2,  0],\n",
       "        [ 4,  6,  5,  2],\n",
       "        [ 2,  3,  2,  0],\n",
       "        [ 2,  2,  0,  2]]), array([[33,  4,  2,  0],\n",
       "        [ 4,  6,  6,  3],\n",
       "        [ 2,  3,  2,  0],\n",
       "        [ 2,  2,  0,  2]]), array([[36,  4,  2,  0],\n",
       "        [ 4,  6,  6,  3],\n",
       "        [ 2,  4,  2,  0],\n",
       "        [ 3,  2,  0,  2]]), array([[38,  4,  2,  1],\n",
       "        [ 4,  6,  7,  3],\n",
       "        [ 2,  4,  3,  1],\n",
       "        [ 3,  2,  0,  2]]), array([[41,  4,  2,  1],\n",
       "        [ 5,  8,  7,  3],\n",
       "        [ 2,  5,  3,  1],\n",
       "        [ 3,  2,  0,  2]]), array([[42,  5,  2,  1],\n",
       "        [ 5,  9,  7,  3],\n",
       "        [ 2,  5,  3,  1],\n",
       "        [ 3,  2,  0,  2]]), array([[48,  5,  2,  1],\n",
       "        [ 5, 10,  7,  3],\n",
       "        [ 2,  5,  3,  1],\n",
       "        [ 3,  2,  0,  2]]), array([[48,  7,  2,  1],\n",
       "        [ 5, 11,  7,  3],\n",
       "        [ 2,  5,  3,  1],\n",
       "        [ 3,  3,  0,  2]]), array([[52,  7,  2,  1],\n",
       "        [ 5, 12,  7,  3],\n",
       "        [ 2,  5,  3,  1],\n",
       "        [ 3,  3,  0,  2]]), array([[55,  8,  2,  1],\n",
       "        [ 5, 15,  7,  3],\n",
       "        [ 2,  5,  3,  1],\n",
       "        [ 3,  3,  0,  2]]), array([[59,  8,  2,  1],\n",
       "        [ 5, 16,  8,  3],\n",
       "        [ 2,  5,  3,  1],\n",
       "        [ 4,  3,  0,  2]]), array([[61,  8,  2,  1],\n",
       "        [ 5, 19,  9,  3],\n",
       "        [ 2,  5,  3,  1],\n",
       "        [ 4,  3,  0,  2]]), array([[63,  8,  2,  1],\n",
       "        [ 5, 20,  9,  3],\n",
       "        [ 2,  6,  3,  1],\n",
       "        [ 4,  3,  0,  2]]), array([[65,  9,  2,  1],\n",
       "        [ 5, 21,  9,  3],\n",
       "        [ 2,  6,  3,  1],\n",
       "        [ 4,  3,  0,  2]]), array([[67, 10,  2,  1],\n",
       "        [ 5, 22, 10,  3],\n",
       "        [ 2,  6,  4,  1],\n",
       "        [ 4,  3,  0,  2]]), array([[67, 12,  2,  1],\n",
       "        [ 5, 24, 10,  4],\n",
       "        [ 2,  6,  4,  1],\n",
       "        [ 4,  3,  0,  2]]), array([[71, 12,  2,  1],\n",
       "        [ 5, 25, 10,  4],\n",
       "        [ 2,  6,  4,  1],\n",
       "        [ 4,  3,  0,  2]]), array([[72, 12,  2,  3],\n",
       "        [ 5, 25, 10,  4],\n",
       "        [ 2,  6,  6,  1],\n",
       "        [ 4,  3,  0,  2]]), array([[74, 13,  2,  3],\n",
       "        [ 5, 26, 10,  4],\n",
       "        [ 2,  6,  7,  1],\n",
       "        [ 5,  3,  0,  2]]), array([[78, 13,  2,  3],\n",
       "        [ 5, 26, 10,  4],\n",
       "        [ 2,  6,  8,  1],\n",
       "        [ 5,  3,  0,  3]]), array([[83, 13,  2,  4],\n",
       "        [ 5, 26, 10,  4],\n",
       "        [ 2,  6,  8,  1],\n",
       "        [ 5,  3,  0,  3]]), array([[88, 13,  2,  4],\n",
       "        [ 5, 26, 10,  4],\n",
       "        [ 2,  7,  8,  1],\n",
       "        [ 5,  3,  0,  4]]), array([[93, 13,  2,  4],\n",
       "        [ 5, 27, 10,  4],\n",
       "        [ 2,  7,  8,  1],\n",
       "        [ 5,  3,  0,  4]]), array([[96, 13,  2,  4],\n",
       "        [ 6, 27, 11,  4],\n",
       "        [ 2,  8,  8,  1],\n",
       "        [ 5,  3,  0,  4]]), array([[99, 13,  2,  4],\n",
       "        [ 6, 27, 11,  5],\n",
       "        [ 2,  8,  8,  1],\n",
       "        [ 5,  3,  0,  4]]), array([[102,  13,   2,   4],\n",
       "        [  6,  28,  11,   5],\n",
       "        [  2,   8,   8,   1],\n",
       "        [  5,   3,   0,   4]]), array([[106,  13,   2,   4],\n",
       "        [  6,  29,  11,   5],\n",
       "        [  2,   8,   8,   1],\n",
       "        [  5,   3,   0,   5]]), array([[109,  14,   2,   4],\n",
       "        [  6,  29,  11,   5],\n",
       "        [  2,   9,  10,   1],\n",
       "        [  5,   3,   0,   5]]), array([[111,  15,   2,   4],\n",
       "        [  6,  29,  11,   5],\n",
       "        [  2,  10,  10,   1],\n",
       "        [  5,   3,   0,   5]]), array([[112,  16,   2,   4],\n",
       "        [  6,  30,  11,   5],\n",
       "        [  2,  11,  10,   1],\n",
       "        [  5,   3,   0,   5]]), array([[114,  16,   2,   4],\n",
       "        [  6,  32,  11,   5],\n",
       "        [  2,  11,  10,   1],\n",
       "        [  5,   3,   0,   5]]), array([[117,  16,   2,   4],\n",
       "        [  6,  35,  11,   6],\n",
       "        [  2,  11,  10,   1],\n",
       "        [  5,   3,   0,   5]]), array([[120,  18,   2,   4],\n",
       "        [  6,  35,  11,   6],\n",
       "        [  2,  11,  10,   1],\n",
       "        [  5,   3,   0,   5]]), array([[122,  20,   2,   4],\n",
       "        [  6,  35,  11,   6],\n",
       "        [  2,  11,  12,   1],\n",
       "        [  5,   3,   0,   5]]), array([[124,  21,   2,   5],\n",
       "        [  6,  35,  11,   6],\n",
       "        [  2,  11,  13,   1],\n",
       "        [  5,   3,   0,   5]]), array([[125,  21,   2,   5],\n",
       "        [  8,  36,  11,   6],\n",
       "        [  2,  12,  13,   1],\n",
       "        [  5,   3,   0,   5]]), array([[129,  21,   2,   5],\n",
       "        [  8,  36,  11,   6],\n",
       "        [  2,  12,  13,   1],\n",
       "        [  5,   4,   0,   5]]), array([[131,  21,   2,   5],\n",
       "        [  9,  37,  11,   6],\n",
       "        [  2,  12,  13,   1],\n",
       "        [  5,   4,   0,   5]]), array([[134,  21,   2,   5],\n",
       "        [  9,  38,  11,   6],\n",
       "        [  2,  12,  13,   1],\n",
       "        [  5,   4,   0,   5]]), array([[135,  22,   2,   5],\n",
       "        [  9,  41,  11,   6],\n",
       "        [  2,  12,  14,   1],\n",
       "        [  5,   4,   0,   5]]), array([[139,  22,   2,   5],\n",
       "        [  9,  42,  11,   6],\n",
       "        [  2,  12,  15,   1],\n",
       "        [  5,   4,   0,   5]]), array([[140,  24,   2,   5],\n",
       "        [  9,  44,  11,   6],\n",
       "        [  2,  12,  15,   1],\n",
       "        [  5,   4,   0,   5]]), array([[142,  24,   4,   5],\n",
       "        [  9,  44,  11,   6],\n",
       "        [  2,  12,  15,   1],\n",
       "        [  5,   4,   1,   5]]), array([[146,  24,   4,   5],\n",
       "        [  9,  44,  11,   6],\n",
       "        [  2,  12,  15,   1],\n",
       "        [  5,   4,   1,   6]]), array([[150,  24,   4,   5],\n",
       "        [  9,  44,  11,   6],\n",
       "        [  2,  12,  16,   1],\n",
       "        [  5,   5,   1,   6]]), array([[152,  24,   4,   5],\n",
       "        [  9,  46,  11,   6],\n",
       "        [  2,  12,  16,   1],\n",
       "        [  5,   5,   1,   6]]), array([[153,  24,   4,   8],\n",
       "        [  9,  47,  11,   6],\n",
       "        [  2,  12,  16,   1],\n",
       "        [  5,   5,   1,   6]]), array([[158,  24,   4,   8],\n",
       "        [  9,  47,  11,   7],\n",
       "        [  2,  12,  16,   1],\n",
       "        [  5,   5,   1,   7]]), array([[159,  24,   4,   8],\n",
       "        [ 11,  48,  11,   7],\n",
       "        [  2,  13,  16,   1],\n",
       "        [  5,   5,   1,   7]]), array([[162,  24,   4,   8],\n",
       "        [ 11,  49,  11,   7],\n",
       "        [  2,  13,  16,   1],\n",
       "        [  6,   5,   1,   7]]), array([[166,  24,   4,   8],\n",
       "        [ 11,  51,  11,   7],\n",
       "        [  2,  13,  17,   1],\n",
       "        [  6,   5,   1,   8]]), array([[168,  24,   4,   8],\n",
       "        [ 11,  53,  11,   7],\n",
       "        [  2,  13,  17,   1],\n",
       "        [  6,   5,   1,   8]]), array([[171,  24,   4,   8],\n",
       "        [ 11,  53,  11,   8],\n",
       "        [  2,  13,  17,   1],\n",
       "        [  6,   5,   1,   8]]), array([[172,  25,   4,   8],\n",
       "        [ 11,  55,  11,   8],\n",
       "        [  2,  13,  17,   1],\n",
       "        [  6,   5,   1,   8]]), array([[173,  25,   5,   8],\n",
       "        [ 11,  56,  12,   8],\n",
       "        [  2,  13,  17,   1],\n",
       "        [  7,   5,   1,   8]]), array([[175,  25,   5,   8],\n",
       "        [ 12,  56,  12,   8],\n",
       "        [  2,  13,  17,   1],\n",
       "        [  7,   5,   1,   8]]), array([[178,  25,   5,   8],\n",
       "        [ 13,  58,  12,   8],\n",
       "        [  2,  13,  17,   1],\n",
       "        [  7,   5,   1,   8]]), array([[181,  26,   5,   8],\n",
       "        [ 13,  58,  12,   8],\n",
       "        [  2,  13,  17,   1],\n",
       "        [  7,   5,   1,   8]]), array([[183,  26,   5,   8],\n",
       "        [ 13,  60,  12,   8],\n",
       "        [  2,  14,  17,   1],\n",
       "        [  7,   5,   1,   8]]), array([[183,  27,   5,  10],\n",
       "        [ 13,  60,  12,   9],\n",
       "        [  2,  14,  17,   1],\n",
       "        [  7,   5,   1,   8]]), array([[185,  27,   5,  10],\n",
       "        [ 13,  61,  12,  10],\n",
       "        [  2,  14,  17,   1],\n",
       "        [  7,   5,   1,   8]]), array([[189,  27,   5,  10],\n",
       "        [ 13,  61,  13,  10],\n",
       "        [  2,  14,  17,   1],\n",
       "        [  7,   5,   1,   8]]), array([[195,  27,   5,  10],\n",
       "        [ 13,  62,  13,  10],\n",
       "        [  2,  14,  17,   1],\n",
       "        [  7,   5,   1,   9]]), array([[199,  27,   5,  10],\n",
       "        [ 13,  62,  13,  10],\n",
       "        [  2,  14,  17,   1],\n",
       "        [  7,   5,   1,  10]]), array([[203,  27,   5,  10],\n",
       "        [ 13,  62,  13,  10],\n",
       "        [  2,  14,  17,   1],\n",
       "        [  7,   5,   1,  10]]), array([[204,  27,   5,  10],\n",
       "        [ 13,  63,  13,  10],\n",
       "        [  2,  14,  17,   1],\n",
       "        [  9,   5,   1,  10]]), array([[206,  28,   5,  10],\n",
       "        [ 13,  65,  13,  10],\n",
       "        [  2,  14,  17,   1],\n",
       "        [  9,   5,   1,  11]]), array([[208,  28,   5,  10],\n",
       "        [ 13,  66,  13,  10],\n",
       "        [  2,  15,  17,   1],\n",
       "        [ 10,   5,   1,  11]]), array([[209,  28,   5,  12],\n",
       "        [ 13,  67,  13,  10],\n",
       "        [  2,  15,  17,   1],\n",
       "        [ 10,   5,   1,  11]]), array([[212,  28,   5,  12],\n",
       "        [ 13,  70,  13,  10],\n",
       "        [  2,  15,  17,   1],\n",
       "        [ 10,   5,   1,  11]]), array([[214,  28,   5,  12],\n",
       "        [ 13,  70,  13,  10],\n",
       "        [  2,  16,  17,   1],\n",
       "        [ 10,   5,   1,  11]]), array([[214,  29,   5,  12],\n",
       "        [ 13,  72,  13,  10],\n",
       "        [  2,  16,  17,   1],\n",
       "        [ 10,   6,   1,  11]]), array([[214,  29,   5,  12],\n",
       "        [ 13,  73,  13,  10],\n",
       "        [  2,  17,  18,   1],\n",
       "        [ 10,   6,   1,  11]]), array([[218,  29,   5,  12],\n",
       "        [ 13,  75,  13,  10],\n",
       "        [  2,  17,  18,   1],\n",
       "        [ 11,   6,   1,  11]]), array([[220,  29,   5,  12],\n",
       "        [ 13,  75,  13,  10],\n",
       "        [  2,  19,  18,   1],\n",
       "        [ 11,   6,   1,  11]]), array([[222,  29,   5,  12],\n",
       "        [ 13,  77,  14,  10],\n",
       "        [  2,  19,  19,   1],\n",
       "        [ 11,   6,   1,  11]]), array([[223,  31,   5,  12],\n",
       "        [ 13,  78,  14,  10],\n",
       "        [  2,  19,  19,   1],\n",
       "        [ 11,   7,   1,  11]]), array([[225,  31,   5,  12],\n",
       "        [ 14,  78,  14,  10],\n",
       "        [  2,  19,  19,   1],\n",
       "        [ 13,   7,   1,  11]]), array([[227,  31,   5,  12],\n",
       "        [ 14,  81,  14,  10],\n",
       "        [  2,  19,  19,   1],\n",
       "        [ 14,   7,   1,  11]]), array([[229,  31,   5,  12],\n",
       "        [ 14,  81,  14,  12],\n",
       "        [  2,  20,  19,   1],\n",
       "        [ 14,   7,   1,  11]]), array([[233,  31,   5,  12],\n",
       "        [ 15,  81,  14,  12],\n",
       "        [  2,  21,  19,   1],\n",
       "        [ 14,   7,   1,  11]]), array([[235,  31,   5,  12],\n",
       "        [ 15,  81,  15,  12],\n",
       "        [  2,  22,  19,   1],\n",
       "        [ 14,   7,   1,  11]]), array([[238,  31,   5,  12],\n",
       "        [ 15,  82,  16,  12],\n",
       "        [  2,  23,  19,   1],\n",
       "        [ 14,   7,   1,  11]]), array([[240,  31,   5,  12],\n",
       "        [ 15,  82,  16,  12],\n",
       "        [  2,  24,  19,   1],\n",
       "        [ 14,   7,   1,  12]]), array([[243,  31,   5,  12],\n",
       "        [ 15,  83,  16,  13],\n",
       "        [  2,  24,  19,   1],\n",
       "        [ 14,   7,   1,  13]]), array([[245,  31,   5,  12],\n",
       "        [ 15,  86,  16,  13],\n",
       "        [  2,  24,  19,   1],\n",
       "        [ 14,   8,   1,  13]]), array([[247,  31,   5,  12],\n",
       "        [ 15,  86,  16,  13],\n",
       "        [  4,  24,  19,   1],\n",
       "        [ 15,   8,   1,  13]]), array([[250,  31,   5,  12],\n",
       "        [ 15,  87,  16,  14],\n",
       "        [  4,  24,  19,   1],\n",
       "        [ 15,   8,   1,  14]]), array([[251,  31,   5,  12],\n",
       "        [ 17,  88,  16,  14],\n",
       "        [  4,  24,  19,   1],\n",
       "        [ 16,   8,   1,  14]]), array([[255,  31,   5,  12],\n",
       "        [ 17,  88,  16,  14],\n",
       "        [  4,  24,  20,   1],\n",
       "        [ 16,   8,   1,  14]]), array([[257,  31,   5,  12],\n",
       "        [ 17,  90,  17,  14],\n",
       "        [  4,  24,  21,   1],\n",
       "        [ 16,   8,   1,  14]]), array([[259,  32,   5,  12],\n",
       "        [ 17,  90,  17,  14],\n",
       "        [  4,  24,  21,   1],\n",
       "        [ 16,   8,   1,  14]]), array([[264,  32,   5,  12],\n",
       "        [ 18,  91,  17,  14],\n",
       "        [  4,  24,  21,   1],\n",
       "        [ 16,   8,   1,  14]]), array([[267,  32,   5,  12],\n",
       "        [ 19,  91,  17,  14],\n",
       "        [  4,  24,  21,   1],\n",
       "        [ 16,   8,   1,  15]]), array([[268,  34,   5,  12],\n",
       "        [ 19,  92,  17,  14],\n",
       "        [  4,  24,  21,   1],\n",
       "        [ 16,   8,   1,  15]]), array([[269,  34,   7,  12],\n",
       "        [ 19,  93,  18,  14],\n",
       "        [  4,  24,  21,   1],\n",
       "        [ 16,   8,   1,  15]]), array([[269,  36,   7,  13],\n",
       "        [ 19,  94,  18,  14],\n",
       "        [  4,  24,  21,   1],\n",
       "        [ 16,   8,   1,  15]]), array([[273,  36,   7,  13],\n",
       "        [ 19,  94,  18,  14],\n",
       "        [  4,  24,  21,   1],\n",
       "        [ 17,   8,   1,  15]]), array([[278,  36,   7,  13],\n",
       "        [ 19,  95,  19,  14],\n",
       "        [  4,  24,  21,   1],\n",
       "        [ 17,   8,   1,  15]]), array([[281,  36,   7,  13],\n",
       "        [ 20,  95,  19,  14],\n",
       "        [  4,  24,  21,   1],\n",
       "        [ 17,   8,   1,  15]]), array([[283,  36,   7,  13],\n",
       "        [ 20,  97,  19,  14],\n",
       "        [  4,  25,  21,   1],\n",
       "        [ 17,   8,   1,  15]]), array([[283,  38,   7,  13],\n",
       "        [ 20,  99,  19,  14],\n",
       "        [  4,  25,  21,   1],\n",
       "        [ 17,   9,   1,  15]]), array([[283,  38,   7,  13],\n",
       "        [ 20, 100,  19,  14],\n",
       "        [  4,  26,  21,   1],\n",
       "        [ 17,  10,   1,  15]]), array([[286,  38,   7,  13],\n",
       "        [ 20, 100,  19,  14],\n",
       "        [  4,  26,  21,   1],\n",
       "        [ 17,  10,   1,  15]]), array([[287,  40,   7,  13],\n",
       "        [ 20, 100,  20,  14],\n",
       "        [  4,  26,  21,   1],\n",
       "        [ 17,  10,   1,  15]]), array([[288,  40,   7,  13],\n",
       "        [ 21, 100,  22,  14],\n",
       "        [  4,  26,  21,   1],\n",
       "        [ 18,  10,   1,  15]]), array([[290,  40,   7,  13],\n",
       "        [ 21, 101,  22,  14],\n",
       "        [  4,  27,  21,   1],\n",
       "        [ 18,  10,   1,  15]]), array([[294,  40,   7,  15],\n",
       "        [ 21, 102,  22,  14],\n",
       "        [  4,  27,  21,   1],\n",
       "        [ 18,  10,   1,  15]]), array([[298,  40,   7,  15],\n",
       "        [ 22, 102,  22,  14],\n",
       "        [  4,  27,  21,   1],\n",
       "        [ 18,  10,   1,  15]]), array([[301,  40,   7,  15],\n",
       "        [ 22, 103,  22,  14],\n",
       "        [  4,  28,  22,   1],\n",
       "        [ 18,  10,   1,  15]]), array([[301,  40,   7,  17],\n",
       "        [ 22, 104,  22,  14],\n",
       "        [  4,  29,  22,   1],\n",
       "        [ 18,  10,   1,  15]]), array([[301,  42,   7,  17],\n",
       "        [ 22, 105,  22,  14],\n",
       "        [  4,  29,  23,   1],\n",
       "        [ 18,  10,   1,  15]]), array([[303,  42,   7,  17],\n",
       "        [ 22, 106,  23,  14],\n",
       "        [  4,  30,  23,   1],\n",
       "        [ 18,  10,   1,  16]]), array([[307,  42,   7,  17],\n",
       "        [ 22, 109,  23,  14],\n",
       "        [  4,  30,  23,   1],\n",
       "        [ 18,  10,   1,  16]]), array([[310,  42,   7,  17],\n",
       "        [ 22, 109,  23,  14],\n",
       "        [  6,  30,  23,   1],\n",
       "        [ 18,  10,   1,  16]]), array([[310,  42,   7,  18],\n",
       "        [ 22, 110,  23,  14],\n",
       "        [  6,  30,  23,   1],\n",
       "        [ 18,  13,   1,  16]]), array([[311,  42,   7,  18],\n",
       "        [ 24, 110,  23,  14],\n",
       "        [  7,  30,  24,   1],\n",
       "        [ 18,  13,   1,  16]]), array([[313,  45,   7,  18],\n",
       "        [ 25, 110,  24,  14],\n",
       "        [  7,  30,  24,   1],\n",
       "        [ 18,  13,   1,  16]]), array([[317,  45,   7,  18],\n",
       "        [ 25, 112,  24,  14],\n",
       "        [  7,  30,  24,   1],\n",
       "        [ 18,  13,   1,  16]]), array([[319,  45,   7,  18],\n",
       "        [ 25, 113,  24,  14],\n",
       "        [  7,  30,  24,   1],\n",
       "        [ 18,  13,   1,  16]]), array([[323,  45,   7,  19],\n",
       "        [ 25, 113,  25,  14],\n",
       "        [  7,  30,  24,   1],\n",
       "        [ 18,  13,   1,  16]]), array([[328,  45,   7,  19],\n",
       "        [ 26, 113,  25,  14],\n",
       "        [  7,  31,  24,   1],\n",
       "        [ 18,  13,   1,  16]]), array([[331,  45,   7,  19],\n",
       "        [ 26, 114,  25,  14],\n",
       "        [  7,  31,  24,   1],\n",
       "        [ 19,  13,   1,  16]]), array([[336,  45,   7,  19],\n",
       "        [ 26, 114,  25,  14],\n",
       "        [  7,  31,  25,   1],\n",
       "        [ 19,  13,   1,  16]]), array([[339,  45,   7,  19],\n",
       "        [ 27, 114,  25,  14],\n",
       "        [  7,  31,  25,   1],\n",
       "        [ 19,  13,   1,  17]]), array([[341,  45,   7,  19],\n",
       "        [ 27, 117,  25,  14],\n",
       "        [  7,  31,  25,   1],\n",
       "        [ 19,  13,   1,  17]]), array([[344,  46,   7,  19],\n",
       "        [ 28, 117,  25,  14],\n",
       "        [  7,  31,  25,   1],\n",
       "        [ 19,  13,   1,  17]]), array([[348,  46,   7,  19],\n",
       "        [ 28, 117,  26,  14],\n",
       "        [  7,  31,  26,   1],\n",
       "        [ 19,  13,   1,  17]]), array([[348,  48,   7,  19],\n",
       "        [ 28, 118,  26,  14],\n",
       "        [  7,  31,  27,   1],\n",
       "        [ 19,  13,   1,  17]]), array([[351,  48,   7,  19],\n",
       "        [ 28, 121,  26,  14],\n",
       "        [  7,  31,  27,   1],\n",
       "        [ 19,  13,   1,  17]]), array([[354,  48,   7,  19],\n",
       "        [ 28, 122,  26,  14],\n",
       "        [  7,  31,  27,   1],\n",
       "        [ 19,  13,   1,  17]]), array([[355,  48,   7,  19],\n",
       "        [ 30, 122,  26,  14],\n",
       "        [  8,  31,  27,   1],\n",
       "        [ 19,  13,   1,  18]]), array([[359,  48,   7,  19],\n",
       "        [ 30, 123,  26,  14],\n",
       "        [  8,  31,  27,   1],\n",
       "        [ 19,  13,   1,  19]]), array([[363,  48,   7,  19],\n",
       "        [ 30, 124,  26,  14],\n",
       "        [  8,  31,  28,   1],\n",
       "        [ 19,  13,   1,  19]]), array([[365,  48,   7,  20],\n",
       "        [ 30, 126,  26,  14],\n",
       "        [  8,  31,  28,   1],\n",
       "        [ 19,  13,   1,  20]]), array([[369,  48,   7,  20],\n",
       "        [ 30, 127,  27,  14],\n",
       "        [  8,  31,  28,   1],\n",
       "        [ 19,  13,   1,  20]]), array([[372,  48,   8,  20],\n",
       "        [ 31, 128,  27,  14],\n",
       "        [  8,  31,  28,   1],\n",
       "        [ 19,  13,   2,  20]]), array([[373,  50,   8,  20],\n",
       "        [ 31, 130,  27,  14],\n",
       "        [  8,  31,  30,   1],\n",
       "        [ 19,  13,   2,  20]])]"
      ]
     },
     "execution_count": 25,
     "metadata": {},
     "output_type": "execute_result"
    }
   ],
   "source": [
    "knn_all_CM_tr"
   ]
  },
  {
   "cell_type": "code",
   "execution_count": 27,
   "metadata": {
    "collapsed": false
   },
   "outputs": [
    {
     "data": {
      "text/plain": [
       "[      acc_time  day  minute  pid  tpid\n",
       " 8         1623    1     183  441     0\n",
       " 2          482    0     482  441     0\n",
       " 10        2209    1     769  441     0\n",
       " 5         1002    0    1002  441     0\n",
       " 11        2249    1     809  441     0\n",
       " 14        2836    1    1396  441     0\n",
       " 1          423    0     423  441     0\n",
       " 0          406    0     406  441     0\n",
       " 4          908    0     908  441     0\n",
       " 13        2570    1    1130  441     0\n",
       " 9         2019    1     579  441     0\n",
       " 23        4047    2    1167  441     0\n",
       " 17        3130    2     250  441     0\n",
       " 25        4358    3      38  441     0\n",
       " 20        3792    2     912  441     0\n",
       " 26        4416    3      96  441     0\n",
       " 29        5537    3    1217  441     0\n",
       " 16        3089    2     209  441     0\n",
       " 15        2915    2      35  441     0\n",
       " 19        3475    2     595  441     0\n",
       " 28        5415    3    1095  441     0\n",
       " 24        4168    2    1288  441     0\n",
       " 32        6414    4     654  441     0\n",
       " 40        7866    5     666  441     0\n",
       " 43        8107    5     907  441     0\n",
       " 38        7464    5     264  441     0\n",
       " 44        8211    5    1011  441     0\n",
       " 46        8468    5    1268  441     0\n",
       " 48        8583    5    1383  441     0\n",
       " 42        7992    5     792  441     0\n",
       " ...        ...  ...     ...  ...   ...\n",
       " 2820    427027  296     787  441     0\n",
       " 2831    428557  297     877  441     0\n",
       " 2834    429101  297    1421  441     0\n",
       " 2818    426950  296     710  441     0\n",
       " 2830    428286  297     606  441     0\n",
       " 2826    428065  297     385  441     0\n",
       " 2827    428067  297     387  441     0\n",
       " 2810    426282  296      42  441     0\n",
       " 2825    427929  297     249  441     0\n",
       " 2814    426425  296     185  441     0\n",
       " 2819    427001  296     761  441     0\n",
       " 2858    431845  299    1285  441     0\n",
       " 2848    430539  298    1419  441     0\n",
       " 2847    430486  298    1366  441     0\n",
       " 2855    431441  299     881  441     0\n",
       " 2838    429690  298     570  441     0\n",
       " 2859    431848  299    1288  441     0\n",
       " 2841    429851  298     731  441     0\n",
       " 2853    431293  299     733  441     0\n",
       " 2845    430039  298     919  441     0\n",
       " 2857    431568  299    1008  441     0\n",
       " 2860    431965  299    1405  441     0\n",
       " 2843    429954  298     834  441     0\n",
       " 2856    431525  299     965  441     0\n",
       " 2851    430954  299     394  441     0\n",
       " 2852    431170  299     610  441     0\n",
       " 2835    429219  298      99  441     0\n",
       " 2850    430948  299     388  441     0\n",
       " 2839    429717  298     597  441     0\n",
       " 2844    429984  298     864  441     0\n",
       " \n",
       " [2084 rows x 5 columns],       acc_time  day  minute  pid  tpid\n",
       " 3          754    0     754  441     0\n",
       " 7         1480    1      40  441     0\n",
       " 12        2374    1     934  441     0\n",
       " 6         1090    0    1090  441     0\n",
       " 18        3319    2     439  441     0\n",
       " 22        3893    2    1013  441     0\n",
       " 27        5268    3     948  441     0\n",
       " 21        3846    2     966  441     0\n",
       " 33        6491    4     731  441     0\n",
       " 37        7422    5     222  441     0\n",
       " 47        8571    5    1371  441     0\n",
       " 35        6895    4    1135  441     0\n",
       " 36        6986    4    1226  441     0\n",
       " 63       10932    7     852  441     0\n",
       " 54        9506    6     866  441     0\n",
       " 51        8950    6     310  441     0\n",
       " 60       10233    7     153  441     0\n",
       " 56        9631    6     991  441     0\n",
       " 67       11292    7    1212  441     0\n",
       " 75       12153    8     633  441     0\n",
       " 71       11686    8     166  441     0\n",
       " 83       12838    8    1318  441     0\n",
       " 72       11767    8     247  441     0\n",
       " 82       12828    8    1308  441     0\n",
       " 89       13666    9     706  441     0\n",
       " 84       12956    8    1436  441     0\n",
       " 109      16473   11     633  441     0\n",
       " 100      15222   10     822  441     0\n",
       " 97       15068   10     668  441     0\n",
       " 106      16276   11     436  441     0\n",
       " ...        ...  ...     ...  ...   ...\n",
       " 2746    417625  290      25  441     0\n",
       " 2755    418849  290    1249  441     0\n",
       " 2751    418446  290     846  441     0\n",
       " 2762    420177  291    1137  441     0\n",
       " 2779    422607  293     687  441     0\n",
       " 2770    421624  292    1144  441     0\n",
       " 2767    421488  292    1008  441     0\n",
       " 2776    422308  293     388  441     0\n",
       " 2772    421839  292    1359  441     0\n",
       " 2784    422976  293    1056  441     0\n",
       " 2792    424047  294     687  441     0\n",
       " 2788    423617  294     257  441     0\n",
       " 2794    424298  294     938  441     0\n",
       " 2789    423796  294     436  441     0\n",
       " 2798    424911  295     111  441     0\n",
       " 2799    425102  295     302  441     0\n",
       " 2815    426832  296     592  441     0\n",
       " 2811    426289  296      49  441     0\n",
       " 2823    427633  296    1393  441     0\n",
       " 2812    426309  296      69  441     0\n",
       " 2822    427304  296    1064  441     0\n",
       " 2829    428224  297     544  441     0\n",
       " 2824    427708  297      28  441     0\n",
       " 2854    431428  299     868  441     0\n",
       " 2840    429747  298     627  441     0\n",
       " 2849    430757  299     197  441     0\n",
       " 2842    429944  298     824  441     0\n",
       " 2836    429568  298     448  441     0\n",
       " 2837    429597  298     477  441     0\n",
       " 2846    430065  298     945  441     0\n",
       " \n",
       " [777 rows x 5 columns], 8       15\n",
       " 2       15\n",
       " 10      35\n",
       " 5       25\n",
       " 11      35\n",
       " 14      15\n",
       " 1       15\n",
       " 0       15\n",
       " 4       25\n",
       " 13      15\n",
       " 9       25\n",
       " 23      15\n",
       " 17      15\n",
       " 25      15\n",
       " 20      25\n",
       " 26      15\n",
       " 29      15\n",
       " 16      15\n",
       " 15      15\n",
       " 19      25\n",
       " 28      45\n",
       " 24      15\n",
       " 32      25\n",
       " 40      25\n",
       " 43      25\n",
       " 38      15\n",
       " 44      25\n",
       " 46      15\n",
       " 48      15\n",
       " 42      35\n",
       "         ..\n",
       " 2820    35\n",
       " 2831    35\n",
       " 2834    15\n",
       " 2818    25\n",
       " 2830    25\n",
       " 2826    15\n",
       " 2827    15\n",
       " 2810    15\n",
       " 2825    15\n",
       " 2814    15\n",
       " 2819    35\n",
       " 2858    15\n",
       " 2848    15\n",
       " 2847    15\n",
       " 2855    35\n",
       " 2838    25\n",
       " 2859    15\n",
       " 2841    25\n",
       " 2853    25\n",
       " 2845    25\n",
       " 2857    25\n",
       " 2860    15\n",
       " 2843    35\n",
       " 2856    25\n",
       " 2851    15\n",
       " 2852    25\n",
       " 2835    15\n",
       " 2850    15\n",
       " 2839    25\n",
       " 2844    35\n",
       " Name: tzone, dtype: int64, 3       35\n",
       " 7       15\n",
       " 12      25\n",
       " 6       45\n",
       " 18      15\n",
       " 22      25\n",
       " 27      25\n",
       " 21      25\n",
       " 33      25\n",
       " 37      15\n",
       " 47      15\n",
       " 35      15\n",
       " 36      15\n",
       " 63      35\n",
       " 54      35\n",
       " 51      15\n",
       " 60      15\n",
       " 56      25\n",
       " 67      15\n",
       " 75      25\n",
       " 71      15\n",
       " 83      15\n",
       " 72      15\n",
       " 82      15\n",
       " 89      25\n",
       " 84      15\n",
       " 109     25\n",
       " 100     35\n",
       " 97      25\n",
       " 106     15\n",
       "         ..\n",
       " 2746    15\n",
       " 2755    15\n",
       " 2751    35\n",
       " 2762    15\n",
       " 2779    25\n",
       " 2770    15\n",
       " 2767    25\n",
       " 2776    15\n",
       " 2772    15\n",
       " 2784    45\n",
       " 2792    25\n",
       " 2788    15\n",
       " 2794    25\n",
       " 2789    15\n",
       " 2798    15\n",
       " 2799    15\n",
       " 2815    25\n",
       " 2811    15\n",
       " 2823    15\n",
       " 2812    15\n",
       " 2822    45\n",
       " 2829    25\n",
       " 2824    15\n",
       " 2854    35\n",
       " 2840    25\n",
       " 2849    15\n",
       " 2842    35\n",
       " 2836    15\n",
       " 2837    15\n",
       " 2846    25\n",
       " Name: tzone, dtype: int64]"
      ]
     },
     "execution_count": 27,
     "metadata": {},
     "output_type": "execute_result"
    }
   ],
   "source": [
    "traintestsplit_tot[298]"
   ]
  },
  {
   "cell_type": "code",
   "execution_count": 18,
   "metadata": {
    "collapsed": false
   },
   "outputs": [
    {
     "data": {
      "text/plain": [
       "<matplotlib.legend.Legend at 0xb08fb908>"
      ]
     },
     "execution_count": 18,
     "metadata": {},
     "output_type": "execute_result"
    },
    {
     "data": {
      "image/png": "[encoded data removed]",
      "text/plain": [
       "<matplotlib.figure.Figure at 0x79ea2128>"
      ]
     },
     "metadata": {},
     "output_type": "display_data"
    }
   ],
   "source": [
    "fig3 = plt.figure(figsize=(10,5))\n",
    "ax = fig3.add_subplot(1, 1, 1)\n",
    "#ax.plot(mobiledata_fs['minute'][pd.notnull(mobiledata_fs['tzone'])], 'k.')\n",
    "#ax.plot(pd.notnull(mobiledata_fs['tzone']), 'k.')\n",
    "#ax.set_yticks([0, 1, 2])\n",
    "ax.plot(knn_all_AC, label='KNN', color=\"g\")\n",
    "ax.plot(rdg_all_AC, label='Ridge', color=\"b\")\n",
    "ax.plot(rf_all_AC, label='RF', color=\"y\")\n",
    "ax.plot(gb_all_AC, label='GBDT', color=\"r\")\n",
    "ax.set_yticks([0, 0.2, 0.4, 0.6, 0.8, 1])\n",
    "ax.set_ylabel(\"precision\")\n",
    "ax.set_xlabel(\"Number of days\")\n",
    "#ax.set_xticklabels(range(1,10))\n",
    "ax.legend(loc='best')"
   ]
  },
  {
   "cell_type": "code",
   "execution_count": 19,
   "metadata": {
    "collapsed": false
   },
   "outputs": [
    {
     "data": {
      "text/plain": [
       "<matplotlib.legend.Legend at 0x396cef28>"
      ]
     },
     "execution_count": 19,
     "metadata": {},
     "output_type": "execute_result"
    },
    {
     "data": {
      "image/png": "[encoded data removed]",
      "text/plain": [
       "<matplotlib.figure.Figure at 0x79eecd30>"
      ]
     },
     "metadata": {},
     "output_type": "display_data"
    }
   ],
   "source": [
    "fig3 = plt.figure(figsize=(10,5))\n",
    "ax = fig3.add_subplot(1, 1, 1)\n",
    "#ax.plot(mobiledata_fs['minute'][pd.notnull(mobiledata_fs['tzone'])], 'k.')\n",
    "#ax.plot(pd.notnull(mobiledata_fs['tzone']), 'k.')\n",
    "#ax.set_yticks([0, 1, 2])\n",
    "ax.plot(knn_all_AC_tr, label='KNN', color=\"g\")\n",
    "ax.plot(rdg_all_AC_tr, label='Ridge', color=\"b\")\n",
    "ax.plot(rf_all_AC_tr, label='RF', color=\"y\")\n",
    "ax.plot(gb_all_AC_tr, label='GBDT', color=\"r\")\n",
    "ax.set_yticks([0, 0.2, 0.4, 0.6, 0.8, 1])\n",
    "ax.set_ylabel(\"precision\")\n",
    "ax.set_xlabel(\"Number of days\")\n",
    "#ax.set_xticklabels(range(1,10))\n",
    "ax.legend(loc='best')"
   ]
  },
  {
   "cell_type": "code",
   "execution_count": 20,
   "metadata": {
    "collapsed": false,
    "scrolled": true
   },
   "outputs": [
    {
     "data": {
      "text/plain": [
       "<matplotlib.legend.Legend at 0x4f167ba8>"
      ]
     },
     "execution_count": 20,
     "metadata": {},
     "output_type": "execute_result"
    },
    {
     "data": {
      "image/png": "[encoded data removed]",
      "text/plain": [
       "<matplotlib.figure.Figure at 0x396ddb00>"
      ]
     },
     "metadata": {},
     "output_type": "display_data"
    }
   ],
   "source": [
    "fig3 = plt.figure(figsize=(10,5))\n",
    "ax = fig3.add_subplot(1, 1, 1)\n",
    "#ax.plot(mobiledata_fs['minute'][pd.notnull(mobiledata_fs['tzone'])], 'k.')\n",
    "#ax.plot(pd.notnull(mobiledata_fs['tzone']), 'k.')\n",
    "#ax.set_yticks([0, 1, 2])\n",
    "ax.plot(knn_all_RC, label='KNN', color=\"g\")\n",
    "ax.plot(rdg_all_RC, label='Ridge', color=\"b\")\n",
    "ax.plot(rf_all_RC, label='RF', color=\"y\")\n",
    "ax.plot(gb_all_RC, label='GBDT', color=\"r\")\n",
    "ax.set_yticks([0, 0.2, 0.4, 0.6, 0.8, 1])\n",
    "ax.set_ylabel(\"precision\")\n",
    "ax.set_xlabel(\"Call Frequency - number of calls per day\")\n",
    "#ax.set_xticklabels(range(1,10))\n",
    "ax.legend(loc='best')"
   ]
  },
  {
   "cell_type": "code",
   "execution_count": 21,
   "metadata": {
    "collapsed": false,
    "scrolled": true
   },
   "outputs": [
    {
     "data": {
      "text/plain": [
       "<matplotlib.legend.Legend at 0x34a0a128>"
      ]
     },
     "execution_count": 21,
     "metadata": {},
     "output_type": "execute_result"
    },
    {
     "data": {
      "image/png": "[encoded data removed]",
      "text/plain": [
       "<matplotlib.figure.Figure at 0x4f22d208>"
      ]
     },
     "metadata": {},
     "output_type": "display_data"
    }
   ],
   "source": [
    "fig3 = plt.figure(figsize=(10,5))\n",
    "ax = fig3.add_subplot(1, 1, 1)\n",
    "#ax.plot(mobiledata_fs['minute'][pd.notnull(mobiledata_fs['tzone'])], 'k.')\n",
    "#ax.plot(pd.notnull(mobiledata_fs['tzone']), 'k.')\n",
    "#ax.set_yticks([0, 1, 2])\n",
    "ax.plot(knn_all_RC_tr, label='KNN', color=\"g\")\n",
    "ax.plot(rdg_all_RC_tr, label='Ridge', color=\"b\")\n",
    "ax.plot(rf_all_RC_tr, label='RF', color=\"y\")\n",
    "ax.plot(gb_all_RC_tr, label='GBDT', color=\"r\")\n",
    "ax.set_yticks([0, 0.2, 0.4, 0.6, 0.8, 1])\n",
    "ax.set_ylabel(\"precision\")\n",
    "ax.set_xlabel(\"Call Frequency - number of calls per day\")\n",
    "#ax.set_xticklabels(range(1,10))\n",
    "ax.legend(loc='best')"
   ]
  },
  {
   "cell_type": "code",
   "execution_count": 22,
   "metadata": {
    "collapsed": false,
    "scrolled": true
   },
   "outputs": [
    {
     "data": {
      "text/plain": [
       "<matplotlib.axes._subplots.AxesSubplot at 0x2f6aadd8>"
      ]
     },
     "execution_count": 22,
     "metadata": {},
     "output_type": "execute_result"
    },
    {
     "data": {
      "image/png": "[encoded data removed]",
      "text/plain": [
       "<matplotlib.figure.Figure at 0x2f6aae48>"
      ]
     },
     "metadata": {},
     "output_type": "display_data"
    }
   ],
   "source": [
    "# checking the distribution of mobile phone calls\n",
    "fig2 = plt.figure(figsize=(10,5))\n",
    "ax = fig2.add_subplot(1, 1, 1)\n",
    "#ax.plot(mobiledata_fs['minute'][pd.notnull(mobiledata_fs['tzone'])], 'k.')\n",
    "#ax.plot(pd.notnull(mobiledata_fs['tzone']), 'k.')\n",
    "#ax.set_yticks([0, 1, 2])\n",
    "(mobiledata_ML['minute'][pd.notnull(mobiledata_ML['tzone'])]).hist(bins=12)\n",
    "#plt.hist(mobiledata_fs['minute'][pd.notnull(mobiledata_fs['tzone'])], bins=50)"
   ]
  },
  {
   "cell_type": "code",
   "execution_count": 23,
   "metadata": {
    "collapsed": false
   },
   "outputs": [
    {
     "data": {
      "text/plain": [
       "[<matplotlib.axis.YTick at 0xaff10978>,\n",
       " <matplotlib.axis.YTick at 0xaff104e0>,\n",
       " <matplotlib.axis.YTick at 0x3993aa58>]"
      ]
     },
     "execution_count": 23,
     "metadata": {},
     "output_type": "execute_result"
    },
    {
     "data": {
      "image/png": "[encoded data removed]",
      "text/plain": [
       "<matplotlib.figure.Figure at 0x4ec9e828>"
      ]
     },
     "metadata": {},
     "output_type": "display_data"
    }
   ],
   "source": [
    "fig = plt.figure(figsize=(20,10))\n",
    "ax1 = fig.add_subplot(2, 2, 1)\n",
    "ax2 = fig.add_subplot(2, 2, 2)\n",
    "ax1.scatter(mobiledata_ML['minute'], mobiledata_ML['tzone'])\n",
    "ax1.set_xticks(range(0, 1440, 200))\n",
    "ax1.set_yticks(range(0, 45, 15))\n",
    "# ax2.plot(mobiledata_sel['minute'], mobiledata_sel['tzone_y'])\n",
    "# ax2.set_xticks(range(0, 1440, 200))\n",
    "# ax2.set_yticks(range(0, 45, 15))"
   ]
  },
  {
   "cell_type": "code",
   "execution_count": null,
   "metadata": {
    "collapsed": false
   },
   "outputs": [],
   "source": [
    "mobiledata_ML[mobiledata_ML['minute']==4]\n"
   ]
  },
  {
   "cell_type": "code",
   "execution_count": null,
   "metadata": {
    "collapsed": false
   },
   "outputs": [],
   "source": [
    "aa = agentdata[agentdata['day']==162]\n",
    "bb = agentdata[agentdata['day']==177]"
   ]
  },
  {
   "cell_type": "code",
   "execution_count": null,
   "metadata": {
    "collapsed": false
   },
   "outputs": [],
   "source": [
    "print aa[aa['minute']==789], bb[bb['minute']==789]"
   ]
  },
  {
   "cell_type": "code",
   "execution_count": null,
   "metadata": {
    "collapsed": true
   },
   "outputs": [],
   "source": [
    "class User(object):\n",
    "    def __init__(self, name, email):\n",
    "        self.name = name\n",
    "        self.email = email\n",
    "    def commit(self):\n",
    "        pass\n",
    "\n",
    "jason = User('jason', 'jason@email.com')\n",
    "jack = User('jack', 'jack@yahoo.com')"
   ]
  },
  {
   "cell_type": "code",
   "execution_count": 42,
   "metadata": {
    "collapsed": false
   },
   "outputs": [],
   "source": [
    "trainX, testX, trainY, testY = traintestsplit_tot[296]\n",
    "pred_X, pred_y = pr_data_tot[296]"
   ]
  },
  {
   "cell_type": "code",
   "execution_count": 46,
   "metadata": {
    "collapsed": false
   },
   "outputs": [],
   "source": [
    "#trainX.drop('acc_time', axis=1, inplace=True)\n",
    "trainX.drop('day', axis=1, inplace=True)\n",
    "#testX.drop('acc_time', axis=1, inplace=True)\n",
    "testX.drop('day', axis=1, inplace=True)\n",
    "#pred_X.drop('acc_time', axis=1, inplace=True)\n",
    "pred_X.drop('day', axis=1, inplace=True)"
   ]
  },
  {
   "cell_type": "code",
   "execution_count": 47,
   "metadata": {
    "collapsed": false
   },
   "outputs": [
    {
     "name": "stdout",
     "output_type": "stream",
     "text": [
      "[ 1.  1.  1.  1.]\n",
      "1.0\n",
      "1.0\n",
      "1.0\n",
      "[[448   0   0   0]\n",
      " [  0 200   0   0]\n",
      " [  0   0  68   0]\n",
      " [  0   0   0  54]]\n",
      "[ 1.          0.98092643  0.99328859  0.96808511]\n",
      "0.992361111111\n",
      "0.987592663019\n",
      "0.992361111111\n",
      "[[830   1   0   1]\n",
      " [  0 360   1   2]\n",
      " [  0   6 148   0]\n",
      " [  0   0   0  91]]\n"
     ]
    }
   ],
   "source": [
    "# knn\n",
    "clf_knn = KNeighborsClassifier(n_neighbors=1).fit(trainX, trainY)\n",
    "pred_knn = clf_knn.predict(testX)\n",
    "#print roc_auc_score(testY, pred_knn)\n",
    "print precision_score(testY, pred_knn, average=None)\n",
    "print accuracy_score(testY, pred_knn)\n",
    "print recall_score(testY, pred_knn, average='macro')\n",
    "print recall_score(testY, pred_knn, average='micro')\n",
    "print confusion_matrix(testY, pred_knn)\n",
    "\n",
    "pred_knn = clf_knn.predict(pred_X)\n",
    "print precision_score(pred_y, pred_knn, average=None)\n",
    "print accuracy_score(pred_y, pred_knn)\n",
    "print recall_score(pred_y, pred_knn, average='macro')\n",
    "print recall_score(pred_y, pred_knn, average='micro')\n",
    "print confusion_matrix(pred_y, pred_knn)"
   ]
  },
  {
   "cell_type": "code",
   "execution_count": 45,
   "metadata": {
    "collapsed": false
   },
   "outputs": [
    {
     "name": "stdout",
     "output_type": "stream",
     "text": [
      "[ 0.99777283  0.99489796  0.97101449  0.94642857]\n",
      "0.990909090909\n",
      "0.985443899782\n",
      "0.990909090909\n",
      "[[448   0   0   0]\n",
      " [  0 195   2   3]\n",
      " [  0   1  67   0]\n",
      " [  1   0   0  53]]\n",
      "[ 0.99878935  0.96368715  0.95890411  0.82727273]\n",
      "0.972916666667\n",
      "0.962772667673\n",
      "0.972916666667\n",
      "[[825   0   0   7]\n",
      " [  0 345   6  12]\n",
      " [  1  13 140   0]\n",
      " [  0   0   0  91]]\n"
     ]
    }
   ],
   "source": [
    "# knn\n",
    "clf_knn = KNeighborsClassifier(n_neighbors=1).fit(trainX, trainY)\n",
    "pred_knn = clf_knn.predict(testX)\n",
    "#print roc_auc_score(testY, pred_knn)\n",
    "print precision_score(testY, pred_knn, average=None)\n",
    "print accuracy_score(testY, pred_knn)\n",
    "print recall_score(testY, pred_knn, average='macro')\n",
    "print recall_score(testY, pred_knn, average='micro')\n",
    "print confusion_matrix(testY, pred_knn)\n",
    "\n",
    "pred_knn = clf_knn.predict(pred_X)\n",
    "print precision_score(pred_y, pred_knn, average=None)\n",
    "print accuracy_score(pred_y, pred_knn)\n",
    "print recall_score(pred_y, pred_knn, average='macro')\n",
    "print recall_score(pred_y, pred_knn, average='micro')\n",
    "print confusion_matrix(pred_y, pred_knn)"
   ]
  },
  {
   "cell_type": "code",
   "execution_count": 43,
   "metadata": {
    "collapsed": false
   },
   "outputs": [
    {
     "name": "stdout",
     "output_type": "stream",
     "text": [
      "[ 0.86511628  0.58181818  0.43076923  0.36363636]\n",
      "0.711688311688\n",
      "0.563123054777\n",
      "0.711688311688\n",
      "[[372  48   8  20]\n",
      " [ 31 128  27  14]\n",
      " [  8  31  28   1]\n",
      " [ 19  13   2  20]]\n",
      "[ 0.37641026  0.          0.          0.        ]\n",
      "0.254861111111\n",
      "0.110276442308\n",
      "0.254861111111\n",
      "[[367 292 173   0]\n",
      " [363   0   0   0]\n",
      " [154   0   0   0]\n",
      " [ 91   0   0   0]]\n"
     ]
    }
   ],
   "source": [
    "# knn\n",
    "clf_knn = KNeighborsClassifier(n_neighbors=1).fit(trainX, trainY)\n",
    "pred_knn = clf_knn.predict(testX)\n",
    "#print roc_auc_score(testY, pred_knn)\n",
    "print precision_score(testY, pred_knn, average=None)\n",
    "print accuracy_score(testY, pred_knn)\n",
    "print recall_score(testY, pred_knn, average='macro')\n",
    "print recall_score(testY, pred_knn, average='micro')\n",
    "print confusion_matrix(testY, pred_knn)\n",
    "\n",
    "pred_knn = clf_knn.predict(pred_X)\n",
    "print precision_score(pred_y, pred_knn, average=None)\n",
    "print accuracy_score(pred_y, pred_knn)\n",
    "print recall_score(pred_y, pred_knn, average='macro')\n",
    "print recall_score(pred_y, pred_knn, average='micro')\n",
    "print confusion_matrix(pred_y, pred_knn)\n"
   ]
  },
  {
   "cell_type": "code",
   "execution_count": null,
   "metadata": {
    "collapsed": false
   },
   "outputs": [],
   "source": [
    "path = './agentdata.txt'\n",
    "columnname = [\"todrop\", \"acc_time\", \"day\", \"minute\", \"pid\", \"zone\", \"status\", \"xcor\", \"ycor\", \"tid\"]\n",
    "agentdata = rawimport(path, columnname)\n",
    "\n",
    "path = './mobiletowers.txt'\n",
    "columnname = [\"todrop\", \"acc_time\", \"day\", \"minute\", \"pid\", \"tpid\", \"tzone\", \"radius\", \"tid\", \"txcor\", \"tycor\"]\n",
    "mobiledata = rawimport(path, columnname)\n",
    "\n"
   ]
  },
  {
   "cell_type": "code",
   "execution_count": null,
   "metadata": {
    "collapsed": false
   },
   "outputs": [],
   "source": [
    "# leave the last n day(s) out for testing purpose\n",
    "\n",
    "#mobiledata_ML = mobiledata[mobiledata['day'] <= (mobiledata['day'].max() - last_n)]\n",
    "mobiledata_ML = mobiledata.drop('radius', axis = 1)\n",
    "mobiledata_ML.drop('tid', axis=1, inplace=True)\n",
    "mobiledata_ML.drop('txcor', axis=1, inplace=True)\n",
    "mobiledata_ML.drop('tycor', axis=1, inplace=True)"
   ]
  },
  {
   "cell_type": "code",
   "execution_count": null,
   "metadata": {
    "collapsed": true
   },
   "outputs": [],
   "source": [
    "# prepare for ML\n",
    "X = mobiledata_ML.drop('tzone', axis=1)\n",
    "y = mobiledata_ML['tzone']\n",
    "trainX, testX, trainY, testY = train_test_split(X, y)"
   ]
  },
  {
   "cell_type": "code",
   "execution_count": null,
   "metadata": {
    "collapsed": false
   },
   "outputs": [],
   "source": [
    "#k fold cross-validation\n",
    "from sklearn.cross_validation import KFold\n",
    "\n",
    "for train_indices, test_indices in KFold(len(X), n_folds=3):\n",
    "    fold_trainX = X.iloc[train_indices, :]\n",
    "    fold_testX  = X.iloc[test_indices, :]\n",
    "    fold_trainY = y[train_indices]\n",
    "    fold_testY  = y[test_indices]\n",
    "    clf_knn = KNeighborsClassifier(n_neighbors=2).fit(fold_trainX, fold_trainY)\n",
    "    pred_knn = clf_knn.predict(fold_testX)\n",
    "    #print roc_auc_score(testY, pred_knn)\n",
    "    print precision_score(fold_testY, pred_knn, average='micro')  \n",
    "    print recall_score(fold_testY, pred_knn, average='micro')\n",
    "    confusion_matrix(fold_testY, pred_knn)\n",
    "    #print fold_trainY\n",
    "\n"
   ]
  },
  {
   "cell_type": "code",
   "execution_count": 29,
   "metadata": {
    "collapsed": false
   },
   "outputs": [
    {
     "name": "stdout",
     "output_type": "stream",
     "text": [
      "[ 0.86542923  0.58035714  0.44776119  0.36363636]\n",
      "0.711711711712\n",
      "0.56738928829\n",
      "0.711711711712\n",
      "[[373  50   8  20]\n",
      " [ 31 130  27  14]\n",
      " [  8  31  30   1]\n",
      " [ 19  13   2  20]]\n"
     ]
    },
    {
     "ename": "NameError",
     "evalue": "name 'X' is not defined",
     "output_type": "error",
     "traceback": [
      "\u001b[1;31m---------------------------------------------------------------------------\u001b[0m",
      "\u001b[1;31mNameError\u001b[0m                                 Traceback (most recent call last)",
      "\u001b[1;32m<ipython-input-29-5b54d3ff8e58>\u001b[0m in \u001b[0;36m<module>\u001b[1;34m()\u001b[0m\n\u001b[0;32m     10\u001b[0m \u001b[1;32mprint\u001b[0m \u001b[0mrecall_score\u001b[0m\u001b[1;33m(\u001b[0m\u001b[0mtestY\u001b[0m\u001b[1;33m,\u001b[0m \u001b[0mpred_knn\u001b[0m\u001b[1;33m,\u001b[0m \u001b[0maverage\u001b[0m\u001b[1;33m=\u001b[0m\u001b[1;34m'micro'\u001b[0m\u001b[1;33m)\u001b[0m\u001b[1;33m\u001b[0m\u001b[0m\n\u001b[0;32m     11\u001b[0m \u001b[1;32mprint\u001b[0m \u001b[0mconfusion_matrix\u001b[0m\u001b[1;33m(\u001b[0m\u001b[0mtestY\u001b[0m\u001b[1;33m,\u001b[0m \u001b[0mpred_knn\u001b[0m\u001b[1;33m)\u001b[0m\u001b[1;33m\u001b[0m\u001b[0m\n\u001b[1;32m---> 12\u001b[1;33m \u001b[0mcross_val_score\u001b[0m\u001b[1;33m(\u001b[0m\u001b[0mclf_knn\u001b[0m\u001b[1;33m,\u001b[0m \u001b[0mX\u001b[0m\u001b[1;33m,\u001b[0m \u001b[0my\u001b[0m\u001b[1;33m,\u001b[0m \u001b[0mcv\u001b[0m\u001b[1;33m=\u001b[0m\u001b[1;36m3\u001b[0m\u001b[1;33m)\u001b[0m\u001b[1;33m\u001b[0m\u001b[0m\n\u001b[0m",
      "\u001b[1;31mNameError\u001b[0m: name 'X' is not defined"
     ]
    }
   ],
   "source": [
    "\n",
    "\n",
    "# knn\n",
    "clf_knn = KNeighborsClassifier(n_neighbors=1).fit(trainX, trainY)\n",
    "pred_knn = clf_knn.predict(testX)\n",
    "#print roc_auc_score(testY, pred_knn)\n",
    "print precision_score(testY, pred_knn, average=None)\n",
    "print accuracy_score(testY, pred_knn)\n",
    "print recall_score(testY, pred_knn, average='macro')\n",
    "print recall_score(testY, pred_knn, average='micro')\n",
    "print confusion_matrix(testY, pred_knn)\n",
    "cross_val_score(clf_knn, X, y, cv=3)"
   ]
  },
  {
   "cell_type": "code",
   "execution_count": null,
   "metadata": {
    "collapsed": false
   },
   "outputs": [],
   "source": [
    "## using ridge regression\n",
    "clf_rdg = RidgeClassifier(alpha=1).fit(trainX,trainY)\n",
    "pred_rdg = clf_rdg.predict(testX)\n",
    "print precision_score(testY, pred_rdg, average='micro')  \n",
    "print confusion_matrix(testY, pred_rdg)\n",
    "cross_val_score(clf_rdg, X, y, cv=3)"
   ]
  },
  {
   "cell_type": "code",
   "execution_count": null,
   "metadata": {
    "collapsed": false
   },
   "outputs": [],
   "source": [
    "## using RF\n",
    "clf_rf = RandomForestClassifier(n_estimators=100, max_depth=100)\n",
    "clf_rf.fit(trainX, trainY)\n",
    "pred_rf = clf_rf.predict(testX)\n",
    "print precision_score(testY, pred_rf, average='micro')  \n",
    "print confusion_matrix(testY, pred_rf)\n",
    "cross_val_score(clf_rf, X, y, cv=3)"
   ]
  },
  {
   "cell_type": "code",
   "execution_count": null,
   "metadata": {
    "collapsed": false
   },
   "outputs": [],
   "source": [
    "## using GBDT\n",
    "clf_gb = GradientBoostingClassifier(n_estimators=100, max_depth=3)\n",
    "clf_gb.fit(trainX, trainY)\n",
    "pred_gb = clf_gb.predict(testX)\n",
    "print precision_score(testY, pred_gb, average='micro')  \n",
    "print confusion_matrix(testY, pred_gb)\n",
    "cross_val_score(clf_gb, X, y, cv=3)\n",
    "#test_qualities = []\n",
    "# for p in clf_gb.staged_predict_proba(testX):\n",
    "#     test_qualities.append(precision_score(testY, p[:, 1]))\n",
    "# plt.plot(test_qualities)"
   ]
  },
  {
   "cell_type": "code",
   "execution_count": null,
   "metadata": {
    "collapsed": false
   },
   "outputs": [],
   "source": [
    "last_n = 1\n",
    "last_minutes = last_n * (-1440)\n",
    "pred_X = agentdata[last_minutes:].iloc[:,0:4]\n",
    "pred_X['tpid'] = 0\n",
    "pred_y = agentdata[last_minutes:].iloc[:,4]\n",
    "\n",
    "# pred_knn = trained_clf.clf1.predict(pred_X)\n",
    "# #print roc_auc_score(testY, pred_knn)\n",
    "# knn_AC = accuracy_score(pred_y, pred_knn)\n",
    "# knn_RC = recall_score(pred_y, pred_knn, average='macro')\n",
    "# knn_CM = confusion_matrix(pred_y, pred_knn)\n",
    "\n",
    "# ## using ridge regression\n",
    "# pred_rdg = trained_clf.clf2.predict(pred_X)\n",
    "# rdg_AC = accuracy_score(pred_y, pred_rdg)\n",
    "# rdg_RC = recall_score(pred_y, pred_rdg, average='macro')  \n",
    "# rdg_CM = confusion_matrix(pred_y, pred_rdg)\n",
    "\n",
    "# ## using RF\n",
    "# pred_rf = trained_clf.clf3.predict(pred_X)\n",
    "# rf_AC = accuracy_score(pred_y, pred_rf)\n",
    "# rf_RC = recall_score(pred_y, pred_rf, average='macro')  \n",
    "# rf_CM = confusion_matrix(pred_y, pred_rf)\n",
    "\n",
    "## using GBDT\n",
    "pred_gb = clf_gb.predict(pred_X)\n",
    "gb_AC = accuracy_score(pred_y, pred_gb)\n",
    "gb_RC = recall_score(pred_y, pred_gb, average='macro')  \n",
    "gb_CM = confusion_matrix(pred_y, pred_gb)"
   ]
  },
  {
   "cell_type": "code",
   "execution_count": null,
   "metadata": {
    "collapsed": false
   },
   "outputs": [],
   "source": [
    "gb_CM"
   ]
  },
  {
   "cell_type": "code",
   "execution_count": null,
   "metadata": {
    "collapsed": false
   },
   "outputs": [],
   "source": [
    "## using SVM\n",
    "## solving multi-classification problem?\n",
    "clf_svc = SVC()\n",
    "clf_svc.fit(trainX, trainY)\n",
    "pred_svc = clf_svc.predict(testX)\n",
    "print precision_score(testY, pred_svc, average='micro')  \n",
    "print confusion_matrix(testY, pred_svc)\n",
    "cross_val_score(clf_svc, X, y, cv=3)\n"
   ]
  },
  {
   "cell_type": "code",
   "execution_count": null,
   "metadata": {
    "collapsed": false
   },
   "outputs": [],
   "source": [
    "## prediction\n",
    "# pre_agent1 = mobiledata[:1]\n",
    "# pre_agent = pd.concat([pre_agent1]*1440)\n",
    "# pre_agent['day']=mobiledata['day'].max()+1\n",
    "# pre_agent['minute']=range(0,1440)\n",
    "# pre_agent['acc_time']=pre_agent['minute'] + pre_agent['day']*1440\n",
    "# pre_agent.drop('tzone', axis=1, inplace=True)\n",
    "# pre_agent.drop('radius', axis=1, inplace=True)\n",
    "# pre_agent.drop('tid', axis=1, inplace=True)\n",
    "# pre_agent.drop('txcor', axis=1, inplace=True)\n",
    "# pre_agent.drop('tycor', axis=1, inplace=True)\n",
    "pred_X = agentdata[-1440:].iloc[:,0:4]\n",
    "pred_X['tpid'] = 0\n",
    "pred_y = agentdata[-1440:].iloc[:,4]\n"
   ]
  },
  {
   "cell_type": "code",
   "execution_count": null,
   "metadata": {
    "collapsed": false
   },
   "outputs": [],
   "source": [
    "\n",
    "pred_knn = clf_knn.predict(pred_X)\n",
    "#print roc_auc_score(testY, pred_knn)\n",
    "knn_PR = precision_score(pred_y, pred_knn, average='micro')\n",
    "knn_CM = confusion_matrix(pred_y, pred_knn)\n",
    "\n",
    "## using ridge regression\n",
    "pred_rdg = clf_rdg.predict(pred_X)\n",
    "rdg_PR = precision_score(pred_y, pred_rdg, average='micro')  \n",
    "rdg_CM = confusion_matrix(pred_y, pred_rdg)\n",
    "\n",
    "## using RF\n",
    "pred_rf = clf_rf.predict(pred_X)\n",
    "rf_PR = precision_score(pred_y, pred_rf, average='micro')  \n",
    "rf_CM = confusion_matrix(pred_y, pred_rf)\n",
    "\n",
    "## using GBDT\n",
    "pred_gb = clf_gb.predict(pred_X)\n",
    "gb_PR = precision_score(pred_y, pred_gb, average='micro')  \n",
    "gb_CM = confusion_matrix(pred_y, pred_gb)\n",
    "\n",
    "print knn_PR, rdg_PR, rf_PR, gb_PR\n"
   ]
  },
  {
   "cell_type": "code",
   "execution_count": null,
   "metadata": {
    "collapsed": false
   },
   "outputs": [],
   "source": [
    "pred_gb\n",
    "\n",
    "\n",
    "\n",
    "\n"
   ]
  },
  {
   "cell_type": "code",
   "execution_count": null,
   "metadata": {
    "collapsed": true
   },
   "outputs": [],
   "source": [
    "pre_agent"
   ]
  },
  {
   "cell_type": "code",
   "execution_count": null,
   "metadata": {
    "collapsed": true
   },
   "outputs": [],
   "source": [
    "# prepare for ML\n",
    "X = mobiledata_fs_filled.drop('zone', axis=1)\n",
    "y = mobiledata_fs_filled['zone']\n",
    "trainX, testX, trainY, testY = train_test_split(X, y)\n",
    "\n",
    "## using KNN\n",
    "# weights might need to be changed - more weights towards the recent data?\n",
    "# metrics? canberra, minkowski\n",
    "clf_knn = KNeighborsClassifier(n_neighbors=1).fit(trainX, trainY)\n",
    "pred_knn = clf_knn.predict(testX)\n",
    "#print roc_auc_score(testY, pred_knn)\n",
    "knn_PR = precision_score(testY, pred_knn, average='micro')\n",
    "knn_CM = confusion_matrix(testY, pred_knn)\n",
    "\n",
    "## using ridge regression\n",
    "clf_rdg = RidgeClassifier(alpha=1).fit(trainX,trainY)\n",
    "pred_rdg = clf_rdg.predict(testX)\n",
    "rdg_PR = precision_score(testY, pred_rdg, average='micro')  \n",
    "rdg_CM = confusion_matrix(testY, pred_rdg)\n",
    "\n",
    "## using RF\n",
    "clf_rf = RandomForestClassifier(n_estimators=100, max_depth=10)\n",
    "clf_rf.fit(trainX, trainY)\n",
    "pred_rf = clf_rf.predict(testX)\n",
    "rf_PR = precision_score(testY, pred_rf, average='micro')  \n",
    "rf_CM = confusion_matrix(testY, pred_rf)\n",
    "\n",
    "## using GBDT\n",
    "clf_gb = GradientBoostingClassifier(n_estimators=100, max_depth=3)\n",
    "clf_gb.fit(trainX, trainY)\n",
    "pred_gb = clf_gb.predict(testX)\n",
    "gb_PR = precision_score(testY, pred_gb, average='micro')  \n",
    "gb_CM = confusion_matrix(testY, pred_gb)"
   ]
  },
  {
   "cell_type": "code",
   "execution_count": null,
   "metadata": {
    "collapsed": true
   },
   "outputs": [],
   "source": []
  },
  {
   "cell_type": "code",
   "execution_count": null,
   "metadata": {
    "collapsed": true
   },
   "outputs": [],
   "source": []
  },
  {
   "cell_type": "code",
   "execution_count": null,
   "metadata": {
    "collapsed": true
   },
   "outputs": [],
   "source": []
  },
  {
   "cell_type": "code",
   "execution_count": null,
   "metadata": {
    "collapsed": true
   },
   "outputs": [],
   "source": []
  },
  {
   "cell_type": "code",
   "execution_count": null,
   "metadata": {
    "collapsed": true
   },
   "outputs": [],
   "source": []
  },
  {
   "cell_type": "code",
   "execution_count": null,
   "metadata": {
    "collapsed": true
   },
   "outputs": [],
   "source": []
  },
  {
   "cell_type": "code",
   "execution_count": null,
   "metadata": {
    "collapsed": true
   },
   "outputs": [],
   "source": [
    "#class ReturnValue(object):\n",
    "#    def __init__(self, y0, y1):\n",
    "#        self.y0 = y0\n",
    "#        self.y1 = y1\n",
    "\n",
    "def data_input():\n",
    "    path = './agentdata.txt'\n",
    "    columnname = [\"todrop\", \"acc_time\", \"day\", \"minute\", \"pid\", \"zone\", \"status\", \"xcor\", \"ycor\", \"tid\"]\n",
    "    agentdata = rawimport(path, columnname)\n",
    "    \n",
    "    path = './mobiletowers.txt'\n",
    "    columnname = [\"todrop\", \"acc_time\", \"day\", \"minute\", \"pid\", \"tpid\", \"tzone\", \"radius\", \"tid\", \"txcor\", \"tycor\"]\n",
    "    mobiledata = rawimport(path, columnname)\n",
    "    \n",
    "    # extend data to full (missing data shown as NaN)\n",
    "    mobiledata = mobiledata.drop(labels = [\"tid\"], axis=1)\n",
    "\n",
    "    mobiledata_fs = pd.merge(agentdata, mobiledata, how = 'left', on = [\"acc_time\", 'day', 'minute', \"pid\"])\n",
    "    #mobiledata_fs = pd.merge(agentdata_ri, mobiledata_ri, how = 'left', left_index = True, right_index = True)\n",
    "    #print mobiledata_fs.count()\n",
    "    #mobiledata_fs\n",
    "# fill the missing data using NN (k=1)\n",
    "# the reason why \"day\" and \"minute\" need to be removed before imputation is that the imputation is done based on features.\n",
    "# in other words, the day and minute will have impacts on the imputed results\n",
    "# to maintain a continuity of a user between days it is necessary to remove \"day\" and \"minute\" before imputation and add them back later\n",
    "# also no need to imputate tower id\n",
    "    mobiledata_fs_test = mobiledata_fs.drop(labels = [\"day\"], axis=1)\n",
    "    mobiledata_fs_test = mobiledata_fs_test.drop(labels = [\"minute\"], axis=1)\n",
    "    mobiledata_fs_test = mobiledata_fs_test.drop(labels = [\"tid\"], axis=1)\n",
    "    mobiledata_fs_filled = KNN(k=1).complete(mobiledata_fs_test)\n",
    "    mobiledata_fs_filled = pd.DataFrame(mobiledata_fs_filled, columns = [\"acc_time\", \"pid\", \"zone\", \n",
    "                                                                     \"status\", \"xcor\", \"ycor\", \"tpid\", \"tzone\", \n",
    "                                                                     \"radius\", \"txcor\", \"tycor\"])\n",
    "# add the day and minute information back\n",
    "    mobiledata_daymin = mobiledata_fs.ix[:,[0, 1, 2, 3, 8]]\n",
    "    mobiledata_fs_filled = pd.merge(mobiledata_daymin, mobiledata_fs_filled, how = 'left', on = [\"acc_time\", \"pid\"])\n",
    "    mobiledata_cp = pd.merge(mobiledata_fs, mobiledata_fs_filled, how = 'left', on = [\"acc_time\", 'day', 'minute', \"pid\"])\n",
    "    mobiledata_fs_filled.fillna(-1, inplace=True)\n",
    "    \n",
    "    return (mobiledata_fs, mobiledata_fs_filled, mobiledata_cp)"
   ]
  },
  {
   "cell_type": "code",
   "execution_count": null,
   "metadata": {
    "collapsed": false
   },
   "outputs": [],
   "source": [
    "#run_NL()\n",
    "\n",
    "mobiledata_fs, mobiledata_fs_filled, mobiledata_cp = data_input()\n",
    "#miss_imput()"
   ]
  },
  {
   "cell_type": "code",
   "execution_count": null,
   "metadata": {
    "collapsed": false,
    "scrolled": true
   },
   "outputs": [],
   "source": [
    "print mobiledata_fs_filled.count()"
   ]
  },
  {
   "cell_type": "code",
   "execution_count": null,
   "metadata": {
    "collapsed": false
   },
   "outputs": [],
   "source": [
    "mobiledata_fs_filled.zone.max()\n"
   ]
  },
  {
   "cell_type": "code",
   "execution_count": null,
   "metadata": {
    "collapsed": false
   },
   "outputs": [],
   "source": [
    "fig = plt.figure(figsize=(20,10))\n",
    "ax1 = fig.add_subplot(2, 2, 1)\n",
    "ax2 = fig.add_subplot(2, 2, 2)\n",
    "mobiledata_sel = mobiledata_cp[mobiledata_cp['day'] == 0]\n",
    "ax1.scatter(mobiledata_sel['minute'], mobiledata_sel['tzone_x'])\n",
    "ax1.set_xticks(range(0, 1440, 200))\n",
    "ax1.set_yticks(range(0, 45, 15))\n",
    "ax2.plot(mobiledata_sel['minute'], mobiledata_sel['tzone_y'])\n",
    "ax2.set_xticks(range(0, 1440, 200))\n",
    "ax2.set_yticks(range(0, 45, 15))"
   ]
  },
  {
   "cell_type": "code",
   "execution_count": null,
   "metadata": {
    "collapsed": false
   },
   "outputs": [],
   "source": [
    "# checking the distribution of mobile phone calls\n",
    "fig2 = plt.figure(figsize=(10,5))\n",
    "ax = fig2.add_subplot(1, 1, 1)\n",
    "#ax.plot(mobiledata_fs['minute'][pd.notnull(mobiledata_fs['tzone'])], 'k.')\n",
    "#ax.plot(pd.notnull(mobiledata_fs['tzone']), 'k.')\n",
    "#ax.set_yticks([0, 1, 2])\n",
    "(mobiledata_fs['minute'][pd.notnull(mobiledata_fs['tzone'])]).hist(bins=12)\n",
    "#plt.hist(mobiledata_fs['minute'][pd.notnull(mobiledata_fs['tzone'])], bins=50)"
   ]
  },
  {
   "cell_type": "code",
   "execution_count": null,
   "metadata": {
    "collapsed": true
   },
   "outputs": [],
   "source": [
    "# ML\n",
    "def NL_ML(mobiledata_fs_filled):\n",
    "    # prepare for ML\n",
    "    X = mobiledata_fs_filled.drop('zone', axis=1)\n",
    "    y = mobiledata_fs_filled['zone']\n",
    "    trainX, testX, trainY, testY = train_test_split(X, y)\n",
    "    \n",
    "    ## using KNN\n",
    "    # weights might need to be changed - more weights towards the recent data?\n",
    "    # metrics? canberra, minkowski\n",
    "    clf_knn = KNeighborsClassifier(n_neighbors=1).fit(trainX, trainY)\n",
    "    pred_knn = clf_knn.predict(testX)\n",
    "    #print roc_auc_score(testY, pred_knn)\n",
    "    knn_PR = precision_score(testY, pred_knn, average='micro')\n",
    "    knn_CM = confusion_matrix(testY, pred_knn)\n",
    "    \n",
    "    ## using ridge regression\n",
    "    clf_rdg = RidgeClassifier(alpha=1).fit(trainX,trainY)\n",
    "    pred_rdg = clf_rdg.predict(testX)\n",
    "    rdg_PR = precision_score(testY, pred_rdg, average='micro')  \n",
    "    rdg_CM = confusion_matrix(testY, pred_rdg)\n",
    "    \n",
    "    ## using RF\n",
    "    clf_rf = RandomForestClassifier(n_estimators=100, max_depth=10)\n",
    "    clf_rf.fit(trainX, trainY)\n",
    "    pred_rf = clf_rf.predict(testX)\n",
    "    rf_PR = precision_score(testY, pred_rf, average='micro')  \n",
    "    rf_CM = confusion_matrix(testY, pred_rf)\n",
    "    \n",
    "    ## using GBDT\n",
    "    clf_gb = GradientBoostingClassifier(n_estimators=100, max_depth=3)\n",
    "    clf_gb.fit(trainX, trainY)\n",
    "    pred_gb = clf_gb.predict(testX)\n",
    "    gb_PR = precision_score(testY, pred_gb, average='micro')  \n",
    "    gb_CM = confusion_matrix(testY, pred_gb)\n",
    "    \n",
    "    return (knn_PR, knn_CM, rdg_PR, rdg_CM, rf_PR, rf_CM, gb_PR, gb_CM)"
   ]
  },
  {
   "cell_type": "code",
   "execution_count": null,
   "metadata": {
    "collapsed": false
   },
   "outputs": [],
   "source": []
  },
  {
   "cell_type": "code",
   "execution_count": null,
   "metadata": {
    "collapsed": false
   },
   "outputs": [],
   "source": []
  },
  {
   "cell_type": "code",
   "execution_count": null,
   "metadata": {
    "collapsed": false
   },
   "outputs": [],
   "source": []
  },
  {
   "cell_type": "code",
   "execution_count": null,
   "metadata": {
    "collapsed": false
   },
   "outputs": [],
   "source": [
    "fig3 = plt.figure(figsize=(10,5))\n",
    "ax = fig3.add_subplot(1, 1, 1)\n",
    "#ax.plot(mobiledata_fs['minute'][pd.notnull(mobiledata_fs['tzone'])], 'k.')\n",
    "#ax.plot(pd.notnull(mobiledata_fs['tzone']), 'k.')\n",
    "#ax.set_yticks([0, 1, 2])\n",
    "ax.plot(knn_all_PR, label='NN', color=\"g\")\n",
    "ax.plot(rdg_all_PR, label='Ridge', color=\"b\")\n",
    "ax.plot(rf_all_PR, label='RF', color=\"y\")\n",
    "ax.plot(gb_all_PR, label='GBDT', color=\"r\")\n",
    "ax.set_yticks([0, 0.2, 0.4, 0.6, 0.8, 1])\n",
    "ax.set_ylabel(\"precision\")\n",
    "ax.set_xlabel(\"Call Frequency - number of calls per day\")\n",
    "ax.set_xticklabels(range(1,10))\n",
    "ax.legend(loc='best')"
   ]
  },
  {
   "cell_type": "code",
   "execution_count": null,
   "metadata": {
    "collapsed": false
   },
   "outputs": [],
   "source": [
    "knn_all_PR"
   ]
  },
  {
   "cell_type": "code",
   "execution_count": null,
   "metadata": {
    "collapsed": false
   },
   "outputs": [],
   "source": [
    "t = NL_ML(comdata_fs_filled)"
   ]
  },
  {
   "cell_type": "code",
   "execution_count": null,
   "metadata": {
    "collapsed": false
   },
   "outputs": [],
   "source": [
    "print gb_all_PR\n"
   ]
  },
  {
   "cell_type": "code",
   "execution_count": null,
   "metadata": {
    "collapsed": false
   },
   "outputs": [],
   "source": [
    "print t\n"
   ]
  },
  {
   "cell_type": "code",
   "execution_count": null,
   "metadata": {
    "collapsed": false
   },
   "outputs": [],
   "source": [
    "# prepare for ML\n",
    "\n",
    "X = mobiledata_fs_filled.drop('zone', axis=1)\n",
    "y = mobiledata_fs_filled['zone']\n",
    "\n",
    "trainX, testX, trainY, testY = train_test_split(X, y)\n"
   ]
  },
  {
   "cell_type": "code",
   "execution_count": null,
   "metadata": {
    "collapsed": false
   },
   "outputs": [],
   "source": [
    "## using KNN\n",
    "# weights might need to be changed - more weights towards the recent data?\n",
    "# metrics? canberra, minkowski\n",
    "\n",
    "\n",
    "clf_knn = KNeighborsClassifier(n_neighbors=1).fit(trainX, trainY)\n",
    "pred_knn = clf_knn.predict(testX)\n",
    "#print roc_auc_score(testY, pred_knn)\n",
    "print precision_score(testY, pred_knn, average='micro')  \n",
    "print recall_score(testY, pred_knn, average='micro')\n",
    "confusion_matrix(testY, pred_knn)"
   ]
  },
  {
   "cell_type": "code",
   "execution_count": null,
   "metadata": {
    "collapsed": false
   },
   "outputs": [],
   "source": [
    "pred_knn.shape"
   ]
  },
  {
   "cell_type": "code",
   "execution_count": null,
   "metadata": {
    "collapsed": false
   },
   "outputs": [],
   "source": [
    "testX, pred_knn"
   ]
  },
  {
   "cell_type": "code",
   "execution_count": null,
   "metadata": {
    "collapsed": false
   },
   "outputs": [],
   "source": [
    "## using Ridge\n",
    "\n",
    "clf_rdg = RidgeClassifier(alpha=1).fit(trainX,trainY)\n",
    "pred_rdg = clf_rdg.predict(testX)\n",
    "print precision_score(testY, pred_rdg, average='micro')  \n",
    "print recall_score(testY, pred_rdg, average='micro')\n",
    "confusion_matrix(testY, pred_rdg)"
   ]
  },
  {
   "cell_type": "code",
   "execution_count": null,
   "metadata": {
    "collapsed": true
   },
   "outputs": [],
   "source": [
    "## using Lasso\n",
    "\n",
    "clf_las = Lasso(alpha=1).fit(trainX,trainY)\n",
    "pred_las = clf_las.predict(testX)\n",
    "print precision_score(testY, pred_las, average='micro')  \n",
    "print recall_score(testY, pred_las, average='micro')\n",
    "confusion_matrix(testY, pred_las)"
   ]
  },
  {
   "cell_type": "code",
   "execution_count": null,
   "metadata": {
    "collapsed": false
   },
   "outputs": [],
   "source": [
    "## using RF\n",
    "\n",
    "clf_rf = RandomForestClassifier(n_estimators=100, max_depth=10)\n",
    "clf_rf.fit(trainX, trainY)\n",
    "pred_rf = clf_rf.predict(testX)\n",
    "print precision_score(testY, pred_rf, average='micro')  \n",
    "print recall_score(testY, pred_rf, average='micro')\n",
    "confusion_matrix(testY, pred_rf)"
   ]
  },
  {
   "cell_type": "code",
   "execution_count": null,
   "metadata": {
    "collapsed": false
   },
   "outputs": [],
   "source": [
    "## using GBDT\n",
    "\n",
    "clf_gb = GradientBoostingClassifier(n_estimators=100, max_depth=3)\n",
    "clf_gb.fit(trainX, trainY)\n",
    "pred_gb = clf_gb.predict(testX)\n",
    "print precision_score(testY, pred_gb, average='micro')  \n",
    "print recall_score(testY, pred_gb, average='micro')\n",
    "confusion_matrix(testY, pred_gb)"
   ]
  },
  {
   "cell_type": "code",
   "execution_count": null,
   "metadata": {
    "collapsed": true
   },
   "outputs": [],
   "source": [
    "# neural network\n",
    "def fit_predict_NN(trainX, trainY, testX, activate_functions, hidden_layers):\n",
    "    X_ = theano.shared(trainX, name='X')\n",
    "    y_ = theano.shared(trainY, name='y')\n",
    "    param = T.vector()\n",
    "    dim = X.shape[1]\n",
    "    \n",
    "    def activation(data_, parameter):\n",
    "        n_previous = 0\n",
    "        dim_previous = dim\n",
    "        h = data_\n",
    "        for n_hidden, func in zip(hidden_layers, activate_functions):\n",
    "            N = dim_previous * n_hidden\n",
    "            W_ = parameter[n_previous:n_previous + N].reshape((dim_previous, n_hidden))\n",
    "            h = func(h.dot(W_))\n",
    "            dim_previous = n_hidden\n",
    "            n_previous += N\n",
    "\n",
    "        # output     \n",
    "        v_ = parameter[n_previous:]\n",
    "        output = h.dot(v_)\n",
    "        n_previous = n_previous + dim_previous\n",
    "        \n",
    "        return T.nnet.sigmoid(output), n_previous\n",
    "\n",
    "    p_sig = activation(X_, param)[0]\n",
    "    p_bck = 1 - p_sig\n",
    "    llh_ = y_.dot(T.log(p_sig)) + (1 - y_).dot(T.log(p_bck))\n",
    "    loss = -llh_\n",
    "    \n",
    "    # optimize\n",
    "    loss_function = theano.function([param], loss)\n",
    "    loss_grad = theano.function([param], theano.grad(loss, param))\n",
    "    result = minimize(loss_function, jac=loss_grad, x0=numpy.random.normal(size=activation(X_, param)[1]))\n",
    "    optimal_params = result['x']\n",
    "    \n",
    "    # predict data\n",
    "    data = T.matrix()\n",
    "    compiled_activation = theano.function([data, param], activation(data, param)[0])\n",
    "    \n",
    "    return compiled_activation(testX, optimal_params)\n"
   ]
  },
  {
   "cell_type": "code",
   "execution_count": null,
   "metadata": {
    "collapsed": true
   },
   "outputs": [],
   "source": [
    "## define activation function\n",
    "#sigmoid (which we used, T.nnet.sigmoid)\n",
    "#leaky ReLU (defined below)\n",
    "#softplus (T.nnet.softplus)\n",
    "\n",
    "def LeakyReLU(x):\n",
    "    return T.switch(x > 0, x, 0.5 * x)\n"
   ]
  },
  {
   "cell_type": "code",
   "execution_count": null,
   "metadata": {
    "collapsed": false
   },
   "outputs": [],
   "source": [
    "pred = fit_predict_NN(trainX, trainY, testX, [T.nnet.sigmoid] * 3, [20, 10, 5])\n",
    "print precision_score(testY, pred, average='micro')  \n",
    "print recall_score(testY, pred, average='micro')"
   ]
  },
  {
   "cell_type": "code",
   "execution_count": null,
   "metadata": {
    "collapsed": true
   },
   "outputs": [],
   "source": []
  },
  {
   "cell_type": "code",
   "execution_count": null,
   "metadata": {
    "collapsed": false
   },
   "outputs": [],
   "source": [
    "import numpy as np\n",
    "import time\n",
    "import theano\n",
    "A = np.random.rand(1000,10000).astype(theano.config.floatX)\n",
    "B = np.random.rand(10000,1000).astype(theano.config.floatX)\n",
    "np_start = time.time()\n",
    "AB = A.dot(B)\n",
    "np_end = time.time()\n",
    "X,Y = theano.tensor.matrices('XY')\n",
    "mf = theano.function([X,Y],X.dot(Y))\n",
    "t_start = time.time()\n",
    "tAB = mf(A,B)\n",
    "t_end = time.time()\n",
    "print(\"NP time: %f[s], theano time: %f[s] (times should be close when run on CPU!)\" %(\n",
    "                                           np_end-np_start, t_end-t_start))\n",
    "print(\"Result difference: %f\" % (np.abs(AB-tAB).max(), ))"
   ]
  },
  {
   "cell_type": "code",
   "execution_count": null,
   "metadata": {
    "collapsed": true
   },
   "outputs": [],
   "source": []
  }
 ],
 "metadata": {
  "kernelspec": {
   "display_name": "Python 2",
   "language": "python",
   "name": "python2"
  },
  "language_info": {
   "codemirror_mode": {
    "name": "ipython",
    "version": 2
   },
   "file_extension": ".py",
   "mimetype": "text/x-python",
   "name": "python",
   "nbconvert_exporter": "python",
   "pygments_lexer": "ipython2",
   "version": "2.7.11"
  }
 },
 "nbformat": 4,
 "nbformat_minor": 0
}
