{
 "cells": [
  {
   "cell_type": "code",
   "execution_count": 1,
   "metadata": {
    "collapsed": false
   },
   "outputs": [
    {
     "name": "stderr",
     "output_type": "stream",
     "text": [
      "Using Theano backend.\n",
      "C:\\Users\\Yanjie\\Anaconda\\lib\\site-packages\\theano\\tensor\\signal\\downsample.py:5: UserWarning: downsample module has been moved to the pool module.\n",
      "  warnings.warn(\"downsample module has been moved to the pool module.\")\n"
     ]
    }
   ],
   "source": [
    "# import functions\n",
    "# version 2: did not use imputation. just ML directly \n",
    "\n",
    "# parameters:\n",
    "\n",
    "import pandas as pd\n",
    "import numpy as np\n",
    "import codecs\n",
    "import matplotlib.pyplot as plt\n",
    "\n",
    "from datetime import datetime\n",
    "from dateutil.parser import parse\n",
    "from fancyimpute import BiScaler, KNN, NuclearNormMinimization, SoftImpute\n",
    "from sklearn.preprocessing import StandardScaler                 #normalising features\n",
    "from sklearn.cross_validation import train_test_split\n",
    "from sklearn.metrics import mean_squared_error\n",
    "from sklearn.metrics import roc_auc_score\n",
    "from sklearn.metrics import confusion_matrix\n",
    "from sklearn.metrics import precision_score\n",
    "from sklearn.metrics import recall_score\n",
    "from sklearn.pipeline import make_pipeline\n",
    "from sklearn.cross_validation import KFold\n",
    "from sklearn.cross_validation import cross_val_score\n",
    "from sklearn.metrics import accuracy_score\n",
    "\n",
    "from sklearn.linear_model import RidgeClassifier\n",
    "from sklearn.linear_model import Lasso\n",
    "from sklearn.svm import SVC, SVR\n",
    "\n",
    "from sklearn.neighbors import KNeighborsRegressor, KNeighborsClassifier\n",
    "\n",
    "from sklearn.ensemble import RandomForestClassifier, RandomForestRegressor\n",
    "from sklearn.ensemble import GradientBoostingClassifier, GradientBoostingRegressor\n",
    "from sknn import mlp\n",
    "\n",
    "from scipy.optimize import minimize\n",
    "\n",
    "import theano\n",
    "import theano.tensor as T\n",
    "\n",
    "%matplotlib inline\n",
    "\n",
    "np.random.seed=10\n"
   ]
  },
  {
   "cell_type": "code",
   "execution_count": 2,
   "metadata": {
    "collapsed": true
   },
   "outputs": [],
   "source": [
    "import matplotlib.pyplot as plt\n",
    "\n",
    "from py4j.java_gateway import JavaGateway"
   ]
  },
  {
   "cell_type": "code",
   "execution_count": 3,
   "metadata": {
    "collapsed": true
   },
   "outputs": [],
   "source": [
    "%matplotlib inline"
   ]
  },
  {
   "cell_type": "markdown",
   "metadata": {},
   "source": [
    "# set up connection"
   ]
  },
  {
   "cell_type": "code",
   "execution_count": 4,
   "metadata": {
    "collapsed": true
   },
   "outputs": [],
   "source": [
    "gw = JavaGateway() # New gateway connection\n",
    "bridge = gw.entry_point"
   ]
  },
  {
   "cell_type": "markdown",
   "metadata": {},
   "source": [
    "# load netlogo model"
   ]
  },
  {
   "cell_type": "code",
   "execution_count": 5,
   "metadata": {
    "collapsed": true
   },
   "outputs": [],
   "source": [
    "# Path to the model:\n",
    "models_path = \"D:/Work/PhD/Github/NetLogoModel/\"\n",
    "model_name = \"PhD_InitialModelV2.nlogo\""
   ]
  },
  {
   "cell_type": "code",
   "execution_count": 6,
   "metadata": {
    "collapsed": true
   },
   "outputs": [],
   "source": [
    "modelLocation = models_path + model_name"
   ]
  },
  {
   "cell_type": "code",
   "execution_count": 7,
   "metadata": {
    "collapsed": false
   },
   "outputs": [
    {
     "data": {
      "text/plain": [
       "'D:/Work/PhD/Github/NetLogoModel/PhD_InitialModelV2.nlogo'"
      ]
     },
     "execution_count": 7,
     "metadata": {},
     "output_type": "execute_result"
    }
   ],
   "source": [
    "modelLocation"
   ]
  },
  {
   "cell_type": "code",
   "execution_count": 8,
   "metadata": {
    "collapsed": false
   },
   "outputs": [],
   "source": [
    "bridge.openModel(modelLocation)"
   ]
  },
  {
   "cell_type": "markdown",
   "metadata": {},
   "source": [
    "# Run one iteration of the model, one command at a time:"
   ]
  },
  {
   "cell_type": "code",
   "execution_count": null,
   "metadata": {
    "collapsed": false
   },
   "outputs": [],
   "source": [
    "bridge.command(\"set grid-size 21\")\n",
    "bridge.command(\"set nb-people 1\")\n",
    "bridge.command(\"set Show_Names_Nodes? False\")\n",
    "bridge.command(\"set Show_Names_people? False\")\n",
    "bridge.command(\"set car-speed 1\")\n",
    "bridge.command(\"set mobiletowerdata? True\")\n",
    "bridge.command(\"set socialmedia_data? True\")\n",
    "bridge.command(\"set grids_covered_vector 10\")\n",
    "bridge.command(\"set avg_num_calls_perday 100\")\n",
    "bridge.command(\"set avg_call_duration_mins 2\")\n",
    "\n",
    "bridge.command(\"random-seed 0\")\n",
    "bridge.command(\"setup\")\n",
    "bridge.command(\"repeat 1440 [go]\")"
   ]
  },
  {
   "cell_type": "code",
   "execution_count": null,
   "metadata": {
    "collapsed": true
   },
   "outputs": [],
   "source": [
    "bridge.command(\"repeat 144000 [go]\")"
   ]
  },
  {
   "cell_type": "markdown",
   "metadata": {
    "collapsed": false
   },
   "source": [
    "# Have the model report results"
   ]
  },
  {
   "cell_type": "code",
   "execution_count": null,
   "metadata": {
    "collapsed": false
   },
   "outputs": [],
   "source": [
    "!head -n 15 ./agentdata.txt"
   ]
  },
  {
   "cell_type": "code",
   "execution_count": null,
   "metadata": {
    "collapsed": false
   },
   "outputs": [],
   "source": [
    "!head -n 15 ./mobiletowers.txt"
   ]
  },
  {
   "cell_type": "code",
   "execution_count": 9,
   "metadata": {
    "collapsed": true
   },
   "outputs": [],
   "source": [
    "# initiating the netlogo model\n",
    "# and run it for the first 10 days\n",
    "def model_init(ini_mins):\n",
    "    bridge.command(\"set grid-size 21\")\n",
    "    bridge.command(\"set nb-people 1\")\n",
    "    bridge.command(\"set Show_Names_Nodes? False\")\n",
    "    bridge.command(\"set Show_Names_people? False\")\n",
    "    bridge.command(\"set car-speed 1\")\n",
    "    bridge.command(\"set mobiletowerdata? True\")\n",
    "    bridge.command(\"set socialmedia_data? True\")\n",
    "    bridge.command(\"set grids_covered_vector 5\")\n",
    "    bridge.command(\"set avg_num_calls_perday 10\")\n",
    "    bridge.command(\"set avg_call_duration_mins 2\")\n",
    "    bridge.command(\"random-seed 0\")\n",
    "    bridge.command(\"setup\")\n",
    "    bridge.command(\"repeat \" + str(ini_mins) + \" [go]\")\n",
    "    "
   ]
  },
  {
   "cell_type": "code",
   "execution_count": 10,
   "metadata": {
    "collapsed": false
   },
   "outputs": [],
   "source": [
    "# import simuated data\n",
    "# using function as the file can be closed automatically\n",
    "def rawimport(path, columnname):\n",
    "    agentdata = pd.read_csv(path, delimiter=' ', header=None, names=columnname)\n",
    "    agentdata = agentdata.drop(labels=\"todrop\", axis=1)\n",
    "    return agentdata\n"
   ]
  },
  {
   "cell_type": "code",
   "execution_count": 11,
   "metadata": {
    "collapsed": true
   },
   "outputs": [],
   "source": [
    "# run NL model; \n",
    "def run_NL(mob_call):\n",
    "    bridge.command(mob_call)\n"
   ]
  },
  {
   "cell_type": "code",
   "execution_count": 12,
   "metadata": {
    "collapsed": true
   },
   "outputs": [],
   "source": [
    "def data_input():\n",
    "    path = './agentdata.txt'\n",
    "    columnname = [\"todrop\", \"acc_time\", \"day\", \"acc_min\", \"pid\", \"zone\", \"status\", \"xcor\", \"ycor\", \"tid\"]\n",
    "    agentdata = rawimport(path, columnname)\n",
    "    dt_stamp = [datetime.strptime(x,  '%Y-%m-%d %H:%M') for x in agentdata[\"acc_time\"]]\n",
    "    dow = [datetime.isoweekday(x) for x in dt_stamp]\n",
    "    hr = [x.hour for x in dt_stamp]\n",
    "    minu = [x.minute for x in dt_stamp]\n",
    "    agentdata['dow'] = dow\n",
    "    agentdata['hour'] = hr\n",
    "    agentdata['minute'] = minu\n",
    "    \n",
    "    path = './mobiletowers.txt'\n",
    "    columnname = [\"todrop\", \"acc_time\", \"day\", \"acc_min\", \"pid\", \"tpid\", \"tzone\", \"radius\", \"tid\", \"txcor\", \"tycor\"]\n",
    "    mobiledata = rawimport(path, columnname)\n",
    "    dt_stamp = [datetime.strptime(x,  '%Y-%m-%d %H:%M') for x in mobiledata[\"acc_time\"]]\n",
    "    dow = [datetime.isoweekday(x) for x in dt_stamp]\n",
    "    hr = [x.hour for x in dt_stamp]\n",
    "    minu = [x.minute for x in dt_stamp]\n",
    "    mobiledata['dow'] = dow\n",
    "    mobiledata['hour'] = hr\n",
    "    mobiledata['minute'] = minu\n",
    "    # leave the last n day(s) out for testing purpose\n",
    "\n",
    "    # mobiledata_ML = mobiledata[mobiledata['day'] <= (mobiledata['day'].max() - last_n)]\n",
    "    mobiledata_ML = mobiledata.drop('radius', axis = 1)\n",
    "    mobiledata_ML.drop('acc_time', axis=1, inplace=True)\n",
    "    mobiledata_ML.drop('acc_min', axis=1, inplace=True)\n",
    "    mobiledata_ML.drop('tid', axis=1, inplace=True)\n",
    "    mobiledata_ML.drop('txcor', axis=1, inplace=True)\n",
    "    mobiledata_ML.drop('tycor', axis=1, inplace=True)\n",
    "    \n",
    "    agentdata.drop('acc_time', axis=1, inplace=True)\n",
    "    agentdata.drop('acc_min', axis=1, inplace=True)\n",
    "#     mobiledata_ML = pd.concat([mobiledata_pre, mobiledata_new])\n",
    "#     mobiledata_ML = mobiledata_ML.reset_index(drop=True)\n",
    "    \n",
    "#     agentdata = pd.concat([agentdata_pre, agentdata_new])\n",
    "#     agentdata = agentdata.reset_index(drop=True)\n",
    "    \n",
    "    return (agentdata, mobiledata_ML)\n"
   ]
  },
  {
   "cell_type": "code",
   "execution_count": 13,
   "metadata": {
    "collapsed": true
   },
   "outputs": [],
   "source": [
    "class ReturnedValue(object):\n",
    "    def __init__(self, clf1, clf2, clf3, clf4):\n",
    "        self.clf1 = clf1\n",
    "        self.clf2 = clf2\n",
    "        self.clf3 = clf3\n",
    "        self.clf4 = clf4\n"
   ]
  },
  {
   "cell_type": "code",
   "execution_count": 14,
   "metadata": {
    "collapsed": false
   },
   "outputs": [],
   "source": [
    "def NL_ML(mobiledata_ML, day_new, traintest_pre):\n",
    "    # prepare for ML\n",
    "    \n",
    "    # need to keep previous training/testing samples, otherwise results flactuates\n",
    "    \n",
    "    mobiledata_new = mobiledata_ML[mobiledata_ML['day']>=day_new]\n",
    "    \n",
    "    X_new = mobiledata_new.drop('tzone', axis=1)\n",
    "    X_new = X_new.drop('day', axis=1)\n",
    "    y_new = mobiledata_new['tzone']\n",
    "    trainX_new, testX_new, trainY_new, testY_new = train_test_split(X_new, y_new, random_state = 10)\n",
    "        \n",
    "    trainX = pd.concat([traintest_pre[0], trainX_new])\n",
    "    testX = pd.concat([traintest_pre[1], testX_new])\n",
    "    trainY = pd.concat([traintest_pre[2], trainY_new])\n",
    "    testY = pd.concat([traintest_pre[3], testY_new])\n",
    "    \n",
    "    X = mobiledata_ML.drop('tzone', axis=1)\n",
    "    y = mobiledata_ML['tzone']\n",
    "    \n",
    "    # knn\n",
    "    clf_knn = KNeighborsClassifier(n_neighbors=1).fit(trainX, trainY)\n",
    "    pred_knn = clf_knn.predict(testX)\n",
    "    #print roc_auc_score(testY, pred_knn)\n",
    "    AC_knn = accuracy_score(testY, pred_knn)\n",
    "    RC_knn = recall_score(testY, pred_knn, average=None).mean()\n",
    "    CF_knn = confusion_matrix(testY, pred_knn)\n",
    "#    CV_knn = cross_val_score(clf_knn, X, y, cv=3)\n",
    "    ## using ridge regression\n",
    "    clf_rdg = RidgeClassifier(alpha=1).fit(trainX,trainY)\n",
    "    pred_rdg = clf_rdg.predict(testX)\n",
    "    AC_rdg = accuracy_score(testY, pred_rdg)\n",
    "    RC_rdg = recall_score(testY, pred_rdg, average=None).mean()  \n",
    "    CF_rdg =  confusion_matrix(testY, pred_rdg)\n",
    "#    CV_rdg = cross_val_score(clf_rdg, X, y, cv=3)\n",
    "    ## using RF\n",
    "    clf_rf = RandomForestClassifier(n_estimators=100, max_depth=100)\n",
    "    clf_rf.fit(trainX, trainY)\n",
    "    pred_rf = clf_rf.predict(testX)\n",
    "    AC_rf = accuracy_score(testY, pred_rf)\n",
    "    RC_rf = recall_score(testY, pred_rf, average=None).mean()   \n",
    "    CF_rf = confusion_matrix(testY, pred_rf)\n",
    "#    CV_rf = cross_val_score(clf_rf, X, y, cv=3)\n",
    "    ## using GBDT\n",
    "    clf_gb = GradientBoostingClassifier(n_estimators=100, max_depth=3)\n",
    "    clf_gb.fit(trainX, trainY)\n",
    "    pred_gb = clf_gb.predict(testX)\n",
    "    AC_gb = accuracy_score(testY, pred_gb)\n",
    "    RC_gb = recall_score(testY, pred_gb, average=None).mean()  \n",
    "    CF_gb = confusion_matrix(testY, pred_gb)\n",
    "#    CV_gb = cross_val_score(clf_gb, X, y, cv=3)\n",
    "    \n",
    "    trained_clf = [clf_knn, clf_rdg, clf_rf, clf_gb]\n",
    "#    trained_CV = [CV_knn, CV_rdg, CV_rf, CV_gb]\n",
    "    trained_RC = [RC_knn, RC_rdg, RC_rf, RC_gb]\n",
    "    trained_CM = [CF_knn, CF_rdg, CF_rf, CF_gb]\n",
    "    trained_AC = [AC_knn, AC_rdg, AC_rf, AC_gb]\n",
    "    traintest = [trainX, testX, trainY, testY]\n",
    "    \n",
    "    return (trained_clf, trained_RC, trained_CM, trained_AC, traintest)"
   ]
  },
  {
   "cell_type": "code",
   "execution_count": 15,
   "metadata": {
    "collapsed": true
   },
   "outputs": [],
   "source": [
    "def pred_agent(trained_clf, agentdata, last_n):\n",
    "    last_minutes = last_n * (-1440)\n",
    "    pred_X = pd.DataFrame(None)\n",
    "    pred_X['pid'] = agentdata['pid'][last_minutes:]\n",
    "    pred_X['tpid'] = 0\n",
    "    pred_X = pd.concat([pred_X, agentdata[last_minutes:].iloc[:,-3:]], axis = 1)\n",
    "\n",
    "#    pred_X['day'] = pred_X['day'] + 1\n",
    "#    pred_X['acc_time'] = pred_X['acc_time'] + 1440\n",
    "    pred_y = agentdata[last_minutes:].iloc[:,2]\n",
    "    \n",
    "\n",
    "    pred_knn = trained_clf[0].predict(pred_X)\n",
    "    #print roc_auc_score(testY, pred_knn)\n",
    "    knn_AC = accuracy_score(pred_y, pred_knn)\n",
    "    knn_RC = recall_score(pred_y, pred_knn, average='macro')\n",
    "    knn_CM = confusion_matrix(pred_y, pred_knn)\n",
    "\n",
    "    ## using ridge regression\n",
    "    pred_rdg = trained_clf[1].predict(pred_X)\n",
    "    rdg_AC = accuracy_score(pred_y, pred_rdg)\n",
    "    rdg_RC = recall_score(pred_y, pred_rdg, average='macro')  \n",
    "    rdg_CM = confusion_matrix(pred_y, pred_rdg)\n",
    "\n",
    "    ## using RF\n",
    "    pred_rf = trained_clf[2].predict(pred_X)\n",
    "    rf_AC = accuracy_score(pred_y, pred_rf)\n",
    "    rf_RC = recall_score(pred_y, pred_rf, average='macro')  \n",
    "    rf_CM = confusion_matrix(pred_y, pred_rf)\n",
    "\n",
    "    ## using GBDT\n",
    "    pred_gb = trained_clf[3].predict(pred_X)\n",
    "    gb_AC = accuracy_score(pred_y, pred_gb)\n",
    "    gb_RC = recall_score(pred_y, pred_gb, average='macro')  \n",
    "    gb_CM = confusion_matrix(pred_y, pred_gb)\n",
    "    \n",
    "    pr_RC = [knn_RC, rdg_RC, rf_RC, gb_RC]\n",
    "    pr_CM = [knn_CM, rdg_CM, rf_CM, gb_CM]\n",
    "    pr_AC = [knn_AC, rdg_AC, rf_AC, gb_AC]\n",
    "    pr_data = [pred_X, pred_y]\n",
    "\n",
    "    return (pr_RC, pr_CM, pr_AC, pr_data)\n"
   ]
  },
  {
   "cell_type": "code",
   "execution_count": 16,
   "metadata": {
    "collapsed": false,
    "scrolled": true
   },
   "outputs": [
    {
     "name": "stdout",
     "output_type": "stream",
     "text": [
      "1\n",
      "2\n",
      "3\n",
      "4\n",
      "5\n",
      "6\n",
      "7\n",
      "8\n",
      "9\n",
      "10\n",
      "11\n",
      "12\n",
      "13\n",
      "14\n",
      "15\n",
      "16\n",
      "17\n",
      "18\n",
      "19\n",
      "20\n",
      "21\n",
      "22\n",
      "23\n",
      "24\n",
      "25\n",
      "26\n",
      "27\n",
      "28\n",
      "29\n",
      "30\n",
      "31\n",
      "32\n",
      "33\n",
      "34\n",
      "35\n",
      "36\n",
      "37\n",
      "38\n",
      "39\n",
      "40\n",
      "41\n",
      "42\n",
      "43\n",
      "44\n",
      "45\n",
      "46\n",
      "47\n",
      "48\n",
      "49\n",
      "50\n",
      "51\n",
      "52\n",
      "53\n",
      "54\n",
      "55\n",
      "56\n",
      "57\n",
      "58\n",
      "59\n",
      "60\n",
      "61\n",
      "62\n",
      "63\n",
      "64\n",
      "65\n",
      "66\n",
      "67\n",
      "68\n",
      "69\n",
      "70\n",
      "71\n",
      "72\n",
      "73\n",
      "74\n",
      "75\n",
      "76\n",
      "77\n",
      "78\n",
      "79\n",
      "80\n",
      "81\n",
      "82\n",
      "83\n",
      "84\n",
      "85\n",
      "86\n",
      "87\n",
      "88\n",
      "89\n",
      "90\n",
      "91\n",
      "92\n",
      "93\n",
      "94\n",
      "95\n",
      "96\n",
      "97\n",
      "98\n",
      "99\n"
     ]
    },
    {
     "name": "stderr",
     "output_type": "stream",
     "text": [
      "C:\\Users\\Yanjie\\Anaconda\\lib\\site-packages\\sklearn\\metrics\\classification.py:1076: UndefinedMetricWarning: Recall is ill-defined and being set to 0.0 in labels with no true samples.\n",
      "  'recall', 'true', average, warn_for)\n"
     ]
    }
   ],
   "source": [
    "## run Netlogo and carryout ML\n",
    "knn_all_RC = []\n",
    "rdg_all_RC = []\n",
    "rf_all_RC = []\n",
    "gb_all_RC = []\n",
    "\n",
    "knn_all_CM = []\n",
    "rdg_all_CM = []\n",
    "rf_all_CM = []\n",
    "gb_all_CM = []\n",
    "\n",
    "knn_all_AC = []\n",
    "rdg_all_AC = []\n",
    "rf_all_AC = []\n",
    "gb_all_AC = []\n",
    "\n",
    "knn_all_cv_tr = []\n",
    "rdg_all_cv_tr = []\n",
    "rf_all_cv_tr = []\n",
    "gb_all_cv_tr = []\n",
    "\n",
    "knn_all_CM_tr = []\n",
    "rdg_all_CM_tr = []\n",
    "rf_all_CM_tr = []\n",
    "gb_all_CM_tr = []\n",
    "\n",
    "knn_all_RC_tr = []\n",
    "rdg_all_RC_tr = []\n",
    "rf_all_RC_tr = []\n",
    "gb_all_RC_tr = []\n",
    "\n",
    "knn_all_AC_tr = []\n",
    "rdg_all_AC_tr = []\n",
    "rf_all_AC_tr = []\n",
    "gb_all_AC_tr = []\n",
    "\n",
    "agentdata_tot = {}\n",
    "mobiledata_tot = {}\n",
    "traintestsplit_tot = {}\n",
    "pr_data_tot ={}\n",
    "traintestsplit = [None, None, None, None]\n",
    "\n",
    "ini_day = 1 # define the number of days to initiate the model (i.e. the original training data)\n",
    "\n",
    "last_n = 1 # define the number of days to be left out from simulation data for testing purpose\n",
    "tot_day = 100 # define the number of days to be simulated\n",
    "sim_day = 1 # define for one simulation how many days to be simulated\n",
    "#num_sim = 1440 # define the duration of simulation (in minutes)\n",
    "\n",
    "## initiating the model, \n",
    "model_init(ini_day*1440)\n",
    "\n",
    "## loop + prediction\n",
    "for x in range(1, tot_day, sim_day):\n",
    "    print x\n",
    "    currentday = x\n",
    "    sim_min = sim_day*1440\n",
    "    mob_call = \"repeat \" + str(sim_min) + \" [go]\" \n",
    "    run_NL(mob_call)\n",
    "    agentdata, mobiledata_ML = data_input()\n",
    "    train_classifier, train_RC, train_CM, train_AC, traintestsplit = NL_ML(mobiledata_ML, currentday,\n",
    "                                                                                    traintestsplit)\n",
    "    pred_RC, pred_CM, pred_AC, pred_data = pred_agent(train_classifier, agentdata, last_n)\n",
    "    \n",
    "    agentdata_tot[x] = agentdata\n",
    "    mobiledata_tot[x] = mobiledata_ML\n",
    "    traintestsplit_tot[x] = traintestsplit\n",
    "    pr_data_tot[x] = pred_data\n",
    "    \n",
    "    knn_all_RC.append(pred_RC[0])\n",
    "    rdg_all_RC.append(pred_RC[1])\n",
    "    rf_all_RC.append(pred_RC[2])\n",
    "    gb_all_RC.append(pred_RC[3])\n",
    "    knn_all_CM.append(pred_CM[0])\n",
    "    rdg_all_CM.append(pred_CM[1])\n",
    "    rf_all_CM.append(pred_CM[2])\n",
    "    gb_all_CM.append(pred_CM[3])\n",
    "    knn_all_AC.append(pred_AC[0])\n",
    "    rdg_all_AC.append(pred_AC[1])\n",
    "    rf_all_AC.append(pred_AC[2])\n",
    "    gb_all_AC.append(pred_AC[3])\n",
    "    \n",
    "#     knn_all_cv_tr.append(train_CV[0])\n",
    "#     rdg_all_cv_tr.append(train_CV[1])\n",
    "#     rf_all_cv_tr.append(train_CV[2])\n",
    "#     gb_all_cv_tr.append(train_CV[3])\n",
    "    knn_all_CM_tr.append(train_CM[0])\n",
    "    rdg_all_CM_tr.append(train_CM[1])\n",
    "    rf_all_CM_tr.append(train_CM[2])\n",
    "    gb_all_CM_tr.append(train_CM[3])\n",
    "    knn_all_RC_tr.append(train_RC[0])\n",
    "    rdg_all_RC_tr.append(train_RC[1])\n",
    "    rf_all_RC_tr.append(train_RC[2])\n",
    "    gb_all_RC_tr.append(train_RC[3])\n",
    "    knn_all_AC_tr.append(train_AC[0])\n",
    "    rdg_all_AC_tr.append(train_AC[1])\n",
    "    rf_all_AC_tr.append(train_AC[2])\n",
    "    gb_all_AC_tr.append(train_AC[3])"
   ]
  },
  {
   "cell_type": "code",
   "execution_count": null,
   "metadata": {
    "collapsed": false
   },
   "outputs": [],
   "source": [
    "last_minutes = last_n * (-1440)\n",
    "pred_X = pd.DataFrame(None)\n",
    "pred_X['pid'] = agentdata['pid'][last_minutes:]\n",
    "pred_X['tpid'] = 0"
   ]
  },
  {
   "cell_type": "code",
   "execution_count": 49,
   "metadata": {
    "collapsed": false,
    "scrolled": false
   },
   "outputs": [
    {
     "data": {
      "text/plain": [
       "<matplotlib.legend.Legend at 0x56de9828>"
      ]
     },
     "execution_count": 49,
     "metadata": {},
     "output_type": "execute_result"
    },
    {
     "data": {
      "image/png": "[encoded data removed]",
      "text/plain": [
       "<matplotlib.figure.Figure at 0x5b45b9e8>"
      ]
     },
     "metadata": {},
     "output_type": "display_data"
    }
   ],
   "source": [
    "fig3 = plt.figure(figsize=(10,5))\n",
    "ax = fig3.add_subplot(1, 1, 1)\n",
    "#ax.plot(mobiledata_fs['minute'][pd.notnull(mobiledata_fs['tzone'])], 'k.')\n",
    "#ax.plot(pd.notnull(mobiledata_fs['tzone']), 'k.')\n",
    "#ax.set_yticks([0, 1, 2])\n",
    "ax.plot(knn_all_AC, label='KNN', color=\"g\")\n",
    "ax.plot(rdg_all_AC, label='Ridge', color=\"b\")\n",
    "ax.plot(rf_all_AC, label='RF', color=\"y\")\n",
    "ax.plot(gb_all_AC, label='GBDT', color=\"r\")\n",
    "ax.set_yticks([0, 0.2, 0.4, 0.6, 0.8, 1])\n",
    "vals = ax.get_yticks()\n",
    "ax.set_yticklabels(['{:3.0f}%'.format(x*100) for x in vals])\n",
    "ax.set_ylabel(\"Accuracy\")\n",
    "ax.set_xlabel(\"Number of days\")\n",
    "ax.set_xticks(range(0, len(knn_all_AC), 10))\n",
    "ax.set_xticklabels(range(ini_day, tot_day + 1, 10))\n",
    "ax.legend(loc='best')"
   ]
  },
  {
   "cell_type": "code",
   "execution_count": 50,
   "metadata": {
    "collapsed": false
   },
   "outputs": [
    {
     "data": {
      "text/plain": [
       "<matplotlib.legend.Legend at 0x56ff82e8>"
      ]
     },
     "execution_count": 50,
     "metadata": {},
     "output_type": "execute_result"
    },
    {
     "data": {
      "image/png": "[encoded data removed]",
      "text/plain": [
       "<matplotlib.figure.Figure at 0x570e3048>"
      ]
     },
     "metadata": {},
     "output_type": "display_data"
    }
   ],
   "source": [
    "fig3 = plt.figure(figsize=(10,5))\n",
    "ax = fig3.add_subplot(1, 1, 1)\n",
    "#ax.plot(mobiledata_fs['minute'][pd.notnull(mobiledata_fs['tzone'])], 'k.')\n",
    "#ax.plot(pd.notnull(mobiledata_fs['tzone']), 'k.')\n",
    "#ax.set_yticks([0, 1, 2])\n",
    "ax.plot(knn_all_AC_tr, label='KNN', color=\"g\")\n",
    "ax.plot(rdg_all_AC_tr, label='Ridge', color=\"b\")\n",
    "ax.plot(rf_all_AC_tr, label='RF', color=\"y\")\n",
    "ax.plot(gb_all_AC_tr, label='GBDT', color=\"r\")\n",
    "ax.set_yticks([0, 0.2, 0.4, 0.6, 0.8, 1])\n",
    "vals = ax.get_yticks()\n",
    "ax.set_yticklabels(['{:3.0f}%'.format(x*100) for x in vals])\n",
    "ax.set_ylabel(\"Accuracy\")\n",
    "ax.set_xlabel(\"Number of simulated days\")\n",
    "ax.set_xticks(range(0, len(knn_all_AC_tr), 10))\n",
    "ax.set_xticklabels(range(ini_day, tot_day + 1, 10))\n",
    "ax.legend(loc='best')"
   ]
  },
  {
   "cell_type": "code",
   "execution_count": 51,
   "metadata": {
    "collapsed": false,
    "scrolled": true
   },
   "outputs": [
    {
     "data": {
      "text/plain": [
       "<matplotlib.legend.Legend at 0x27a20e48>"
      ]
     },
     "execution_count": 51,
     "metadata": {},
     "output_type": "execute_result"
    },
    {
     "data": {
      "image/png": "[encoded data removed]",
      "text/plain": [
       "<matplotlib.figure.Figure at 0x5b55e6a0>"
      ]
     },
     "metadata": {},
     "output_type": "display_data"
    }
   ],
   "source": [
    "fig3 = plt.figure(figsize=(10,5))\n",
    "ax = fig3.add_subplot(1, 1, 1)\n",
    "#ax.plot(mobiledata_fs['minute'][pd.notnull(mobiledata_fs['tzone'])], 'k.')\n",
    "#ax.plot(pd.notnull(mobiledata_fs['tzone']), 'k.')\n",
    "#ax.set_yticks([0, 1, 2])\n",
    "ax.plot(knn_all_RC, label='KNN', color=\"g\")\n",
    "ax.plot(rdg_all_RC, label='Ridge', color=\"b\")\n",
    "ax.plot(rf_all_RC, label='RF', color=\"y\")\n",
    "ax.plot(gb_all_RC, label='GBDT', color=\"r\")\n",
    "ax.set_yticks([0, 0.2, 0.4, 0.6, 0.8, 1])\n",
    "vals = ax.get_yticks()\n",
    "ax.set_yticklabels(['{:3.0f}%'.format(x*100) for x in vals])\n",
    "ax.set_ylabel(\"Accuracy\")\n",
    "ax.set_xlabel(\"Number of simulated days\")\n",
    "ax.set_xticks(range(0, len(knn_all_RC), 10))\n",
    "ax.set_xticklabels(range(ini_day, tot_day + 1, 10))\n",
    "ax.legend(loc='best')"
   ]
  },
  {
   "cell_type": "code",
   "execution_count": 52,
   "metadata": {
    "collapsed": false,
    "scrolled": true
   },
   "outputs": [
    {
     "data": {
      "text/plain": [
       "<matplotlib.legend.Legend at 0x5b629518>"
      ]
     },
     "execution_count": 52,
     "metadata": {},
     "output_type": "execute_result"
    },
    {
     "data": {
      "image/png": "[encoded data removed]",
      "text/plain": [
       "<matplotlib.figure.Figure at 0x5ba2cf60>"
      ]
     },
     "metadata": {},
     "output_type": "display_data"
    }
   ],
   "source": [
    "fig3 = plt.figure(figsize=(10,5))\n",
    "ax = fig3.add_subplot(1, 1, 1)\n",
    "#ax.plot(mobiledata_fs['minute'][pd.notnull(mobiledata_fs['tzone'])], 'k.')\n",
    "#ax.plot(pd.notnull(mobiledata_fs['tzone']), 'k.')\n",
    "#ax.set_yticks([0, 1, 2])\n",
    "ax.plot(knn_all_RC_tr, label='KNN', color=\"g\")\n",
    "ax.plot(rdg_all_RC_tr, label='Ridge', color=\"b\")\n",
    "ax.plot(rf_all_RC_tr, label='RF', color=\"y\")\n",
    "ax.plot(gb_all_RC_tr, label='GBDT', color=\"r\")\n",
    "ax.set_yticks([0, 0.2, 0.4, 0.6, 0.8, 1])\n",
    "vals = ax.get_yticks()\n",
    "ax.set_yticklabels(['{:3.0f}%'.format(x*100) for x in vals])\n",
    "ax.set_ylabel(\"Accuracy\")\n",
    "ax.set_xlabel(\"Number of simulated days\")\n",
    "ax.set_xticks(range(0, len(knn_all_RC_tr), 10))\n",
    "ax.set_xticklabels(range(ini_day, tot_day + 1, 10))\n",
    "ax.legend(loc='best')"
   ]
  },
  {
   "cell_type": "code",
   "execution_count": 85,
   "metadata": {
    "collapsed": false
   },
   "outputs": [
    {
     "name": "stdout",
     "output_type": "stream",
     "text": [
      "[   0  120  240  360  480  600  720  840  960 1080 1200 1320 1440]\n"
     ]
    },
    {
     "data": {
      "text/plain": [
       "<matplotlib.text.Text at 0x606317f0>"
      ]
     },
     "execution_count": 85,
     "metadata": {},
     "output_type": "execute_result"
    },
    {
     "data": {
      "image/png": "[encoded data removed]",
      "text/plain": [
       "<matplotlib.figure.Figure at 0x5e34e0b8>"
      ]
     },
     "metadata": {},
     "output_type": "display_data"
    }
   ],
   "source": [
    "mobiledata_PL = mobiledata_ML.copy()\n",
    "mobiledata_PL['min_acc'] = mobiledata_PL['hour'] * 60 + mobiledata_PL['minute']\n",
    "fig1 = plt.figure(figsize=(10,5))\n",
    "ax = fig1.add_subplot(1, 1, 1)\n",
    "ax.scatter(mobiledata_PL['min_acc'], mobiledata_PL['tzone'], marker = \"|\")\n",
    "ax.set_xticks(range(0, 1441, 1440/12))\n",
    "ax.set_yticks(range(0, 46, 15))\n",
    "vals = ax.get_xticks()\n",
    "print vals\n",
    "ax.set_xticklabels(['{:02.0f}h'.format(x/60) for x in vals])\n",
    "ax.set_ylabel(\"Zone number\")\n",
    "ax.set_xlabel(\"Time\")\n",
    "# ax2.plot(mobiledata_sel['minute'], mobiledata_sel['tzone_y'])\n",
    "# ax2.set_xticks(range(0, 1440, 200))\n",
    "# ax2.set_yticks(range(0, 45, 15))"
   ]
  },
  {
   "cell_type": "code",
   "execution_count": 80,
   "metadata": {
    "collapsed": false
   },
   "outputs": [
    {
     "name": "stdout",
     "output_type": "stream",
     "text": [
      "[   0  120  240  360  480  600  720  840  960 1080 1200 1320 1440]\n"
     ]
    },
    {
     "data": {
      "text/plain": [
       "<matplotlib.text.Text at 0x5fa00128>"
      ]
     },
     "execution_count": 80,
     "metadata": {},
     "output_type": "execute_result"
    },
    {
     "data": {
      "image/png": "[encoded data removed]",
      "text/plain": [
       "<matplotlib.figure.Figure at 0x5fc74358>"
      ]
     },
     "metadata": {},
     "output_type": "display_data"
    }
   ],
   "source": [
    "# checking the distribution of mobile phone calls\n",
    "fig2 = plt.figure(figsize=(10,5))\n",
    "ax = fig2.add_subplot(1, 1, 1)\n",
    "#ax.plot(mobiledata_fs['minute'][pd.notnull(mobiledata_fs['tzone'])], 'k.')\n",
    "#ax.plot(pd.notnull(mobiledata_fs['tzone']), 'k.')\n",
    "#ax.set_yticks([0, 1, 2])\n",
    "(mobiledata_PL['min_acc'][pd.notnull(mobiledata_PL['tzone'])]).hist(bins=12)\n",
    "ax.set_xticks(range(0, 1441, 1440/12))\n",
    "vals = ax.get_xticks()\n",
    "print vals\n",
    "ax.set_xticklabels(['{:02.0f}h'.format(x/60) for x in vals])\n",
    "ax.set_ylabel(\"Number of calls (accumulated)\")\n",
    "ax.set_xlabel(\"Time\")\n",
    "#ax.set_xticks(range(0, 1440, 1440/12))\n",
    "#plt.hist(mobiledata_fs['minute'][pd.notnull(mobiledata_fs['tzone'])], bins=50)"
   ]
  },
  {
   "cell_type": "code",
   "execution_count": null,
   "metadata": {
    "collapsed": false
   },
   "outputs": [],
   "source": [
    "mobiledata_PL = mobiledata_ML.copy()\n",
    "mobiledata_PL['min_acc'] = mobiledata_PL['hour'] * 60 + mobiledata_PL['minute']\n",
    "print mobiledata_PL.max()\n",
    "print mobiledata_PL.min()"
   ]
  },
  {
   "cell_type": "code",
   "execution_count": 89,
   "metadata": {
    "collapsed": false
   },
   "outputs": [
    {
     "name": "stderr",
     "output_type": "stream",
     "text": [
      "INFO (theano.gof.compilelock): Refreshing lock C:\\Users\\Yanjie\\AppData\\Local\\Theano\\compiledir_Windows-10-10.0.10586-Intel64_Family_6_Model_42_Stepping_7_GenuineIntel-2.7.11-64\\lock_dir\\lock\n",
      "INFO:theano.gof.compilelock:Refreshing lock C:\\Users\\Yanjie\\AppData\\Local\\Theano\\compiledir_Windows-10-10.0.10586-Intel64_Family_6_Model_42_Stepping_7_GenuineIntel-2.7.11-64\\lock_dir\\lock\n"
     ]
    },
    {
     "name": "stdout",
     "output_type": "stream",
     "text": [
      "===============================\n",
      "===============================\n",
      "C:\\Users\\Yanjie\\AppData\\Local\\Theano\\compiledir_Windows-10-10.0.10586-Intel64_Family_6_Model_42_Stepping_7_GenuineIntel-2.7.11-64\\tmpzvqp1o\\mod.cpp:3:31: fatal error: theano_mod_helper.h: No such file or directory\r\n",
      "compilation terminated.\r\n",
      "\n"
     ]
    },
    {
     "name": "stderr",
     "output_type": "stream",
     "text": [
      "00001\t#include <Python.h>\n",
      "00002\t#include <iostream>\n",
      "00003\t#include \"theano_mod_helper.h\"\n",
      "00004\t#include <math.h>\n",
      "00005\t#include <numpy/arrayobject.h>\n",
      "00006\t#include <numpy/arrayscalars.h>\n",
      "00007\t#include <iostream>\n",
      "00008\t#include <time.h>\n",
      "00009\t#include <sys/time.h>\n",
      "00010\t//////////////////////\n",
      "00011\t////  Support Code\n",
      "00012\t//////////////////////\n",
      "00013\t\n",
      "00014\t\n",
      "00015\t    extern \"C\"\n",
      "00016\t    {\n",
      "00017\t\n",
      "00018\t        void xerbla_(char*, void *);\n",
      "00019\t\n",
      "00020\t    /***********/\n",
      "00021\t    /* Level 1 */\n",
      "00022\t    /***********/\n",
      "00023\t\n",
      "00024\t    /* Single Precision */\n",
      "00025\t\n",
      "00026\t        void srot_(const int*, float *, const int*, float *, const int*, const float *, const float *);\n",
      "00027\t        void srotg_(float *,float *,float *,float *);\n",
      "00028\t        void srotm_( const int*, float *, const int*, float *, const int*, const float *);\n",
      "00029\t        void srotmg_(float *,float *,float *,const float *, float *);\n",
      "00030\t        void sswap_( const int*, float *, const int*, float *, const int*);\n",
      "00031\t        void scopy_( const int*, const float *, const int*, float *, const int*);\n",
      "00032\t        void saxpy_( const int*, const float *, const float *, const int*, float *, const int*);\n",
      "00033\t        float sdot_(const int*, const float *, const int*, const float *, const int*);\n",
      "00034\t        void sdot_sub_(const int*, const float *, const int*, const float *, const int*, float *);\n",
      "00035\t        void sdsdot_sub_( const int*, const float *, const float *, const int*, const float *, const int*, float *);\n",
      "00036\t        void sscal_( const int*, const float *, float *, const int*);\n",
      "00037\t        void snrm2_sub_( const int*, const float *, const int*, float *);\n",
      "00038\t        void sasum_sub_( const int*, const float *, const int*, float *);\n",
      "00039\t        void isamax_sub_( const int*, const float * , const int*, const int*);\n",
      "00040\t\n",
      "00041\t    /* Double Precision */\n",
      "00042\t\n",
      "00043\t        void drot_(const int*, double *, const int*, double *, const int*, const double *, const double *);\n",
      "00044\t        void drotg_(double *,double *,double *,double *);\n",
      "00045\t        void drotm_( const int*, double *, const int*, double *, const int*, const double *);\n",
      "00046\t        void drotmg_(double *,double *,double *,const double *, double *);\n",
      "00047\t        void dswap_( const int*, double *, const int*, double *, const int*);\n",
      "00048\t        void dcopy_( const int*, const double *, const int*, double *, const int*);\n",
      "00049\t        void daxpy_( const int*, const double *, const double *, const int*, double *, const int*);\n",
      "00050\t        void dswap_( const int*, double *, const int*, double *, const int*);\n",
      "00051\t        double ddot_(const int*, const double *, const int*, const double *, const int*);\n",
      "00052\t        void dsdot_sub_(const int*, const float *, const int*, const float *, const int*, double *);\n",
      "00053\t        void ddot_sub_( const int*, const double *, const int*, const double *, const int*, double *);\n",
      "00054\t        void dscal_( const int*, const double *, double *, const int*);\n",
      "00055\t        void dnrm2_sub_( const int*, const double *, const int*, double *);\n",
      "00056\t        void dasum_sub_( const int*, const double *, const int*, double *);\n",
      "00057\t        void idamax_sub_( const int*, const double * , const int*, const int*);\n",
      "00058\t\n",
      "00059\t    /* Single Complex Precision */\n",
      "00060\t\n",
      "00061\t        void cswap_( const int*, void *, const int*, void *, const int*);\n",
      "00062\t        void ccopy_( const int*, const void *, const int*, void *, const int*);\n",
      "00063\t        void caxpy_( const int*, const void *, const void *, const int*, void *, const int*);\n",
      "00064\t        void cswap_( const int*, void *, const int*, void *, const int*);\n",
      "00065\t        void cdotc_sub_( const int*, const void *, const int*, const void *, const int*, void *);\n",
      "00066\t        void cdotu_sub_( const int*, const void *, const int*, const void *, const int*, void *);\n",
      "00067\t        void cscal_( const int*, const void *, void *, const int*);\n",
      "00068\t        void icamax_sub_( const int*, const void *, const int*, const int*);\n",
      "00069\t        void csscal_( const int*, const float *, void *, const int*);\n",
      "00070\t        void scnrm2_sub_( const int*, const void *, const int*, float *);\n",
      "00071\t        void scasum_sub_( const int*, const void *, const int*, float *);\n",
      "00072\t\n",
      "00073\t    /* Double Complex Precision */\n",
      "00074\t\n",
      "00075\t        void zswap_( const int*, void *, const int*, void *, const int*);\n",
      "00076\t        void zcopy_( const int*, const void *, const int*, void *, const int*);\n",
      "00077\t        void zaxpy_( const int*, const void *, const void *, const int*, void *, const int*);\n",
      "00078\t        void zswap_( const int*, void *, const int*, void *, const int*);\n",
      "00079\t        void zdotc_sub_( const int*, const void *, const int*, const void *, const int*, void *);\n",
      "00080\t        void zdotu_sub_( const int*, const void *, const int*, const void *, const int*, void *);\n",
      "00081\t        void zdscal_( const int*, const double *, void *, const int*);\n",
      "00082\t        void zscal_( const int*, const void *, void *, const int*);\n",
      "00083\t        void dznrm2_sub_( const int*, const void *, const int*, double *);\n",
      "00084\t        void dzasum_sub_( const int*, const void *, const int*, double *);\n",
      "00085\t        void izamax_sub_( const int*, const void *, const int*, const int*);\n",
      "00086\t\n",
      "00087\t    /***********/\n",
      "00088\t    /* Level 2 */\n",
      "00089\t    /***********/\n",
      "00090\t\n",
      "00091\t    /* Single Precision */\n",
      "00092\t\n",
      "00093\t        void sgemv_(char*, const int*, const int*, const float *, const float *, const int*, const float *, const int*, const float *, float *, const int*);\n",
      "00094\t        void sgbmv_(char*, const int*, const int*, const int*, const int*, const float *,  const float *, const int*, const float *, const int*, const float *, float *, const int*);\n",
      "00095\t        void ssymv_(char*, const int*, const float *, const float *, const int*, const float *,  const int*, const float *, float *, const int*);\n",
      "00096\t        void ssbmv_(char*, const int*, const int*, const float *, const float *, const int*, const float *, const int*, const float *, float *, const int*);\n",
      "00097\t        void sspmv_(char*, const int*, const float *, const float *, const float *, const int*, const float *, float *, const int*);\n",
      "00098\t        void strmv_( char*, char*, char*, const int*, const float *, const int*, float *, const int*);\n",
      "00099\t        void stbmv_( char*, char*, char*, const int*, const int*, const float *, const int*, float *, const int*);\n",
      "00100\t        void strsv_( char*, char*, char*, const int*, const float *, const int*, float *, const int*);\n",
      "00101\t        void stbsv_( char*, char*, char*, const int*, const int*, const float *, const int*, float *, const int*);\n",
      "00102\t        void stpmv_( char*, char*, char*, const int*, const float *, float *, const int*);\n",
      "00103\t        void stpsv_( char*, char*, char*, const int*, const float *, float *, const int*);\n",
      "00104\t        void sger_( const int*, const int*, const float *, const float *, const int*, const float *, const int*, float *, const int*);\n",
      "00105\t        void ssyr_(char*, const int*, const float *, const float *, const int*, float *, const int*);\n",
      "00106\t        void sspr_(char*, const int*, const float *, const float *, const int*, float *);\n",
      "00107\t        void sspr2_(char*, const int*, const float *, const float *, const int*, const float *, const int*,  float *);\n",
      "00108\t        void ssyr2_(char*, const int*, const float *, const float *, const int*, const float *, const int*,  float *, const int*);\n",
      "00109\t\n",
      "00110\t    /* Double Precision */\n",
      "00111\t\n",
      "00112\t        void dgemv_(char*, const int*, const int*, const double *, const double *, const int*, const double *, const int*, const double *, double *, const int*);\n",
      "00113\t        void dgbmv_(char*, const int*, const int*, const int*, const int*, const double *,  const double *, const int*, const double *, const int*, const double *, double *, const int*);\n",
      "00114\t        void dsymv_(char*, const int*, const double *, const double *, const int*, const double *,  const int*, const double *, double *, const int*);\n",
      "00115\t        void dsbmv_(char*, const int*, const int*, const double *, const double *, const int*, const double *, const int*, const double *, double *, const int*);\n",
      "00116\t        void dspmv_(char*, const int*, const double *, const double *, const double *, const int*, const double *, double *, const int*);\n",
      "00117\t        void dtrmv_( char*, char*, char*, const int*, const double *, const int*, double *, const int*);\n",
      "00118\t        void dtbmv_( char*, char*, char*, const int*, const int*, const double *, const int*, double *, const int*);\n",
      "00119\t        void dtrsv_( char*, char*, char*, const int*, const double *, const int*, double *, const int*);\n",
      "00120\t        void dtbsv_( char*, char*, char*, const int*, const int*, const double *, const int*, double *, const int*);\n",
      "00121\t        void dtpmv_( char*, char*, char*, const int*, const double *, double *, const int*);\n",
      "00122\t        void dtpsv_( char*, char*, char*, const int*, const double *, double *, const int*);\n",
      "00123\t        void dger_( const int*, const int*, const double *, const double *, const int*, const double *, const int*, double *, const int*);\n",
      "00124\t        void dsyr_(char*, const int*, const double *, const double *, const int*, double *, const int*);\n",
      "00125\t        void dspr_(char*, const int*, const double *, const double *, const int*, double *);\n",
      "00126\t        void dspr2_(char*, const int*, const double *, const double *, const int*, const double *, const int*,  double *);\n",
      "00127\t        void dsyr2_(char*, const int*, const double *, const double *, const int*, const double *, const int*,  double *, const int*);\n",
      "00128\t\n",
      "00129\t    /* Single Complex Precision */\n",
      "00130\t\n",
      "00131\t        void cgemv_(char*, const int*, const int*, const void *, const void *, const int*, const void *, const int*, const void *, void *, const int*);\n",
      "00132\t        void cgbmv_(char*, const int*, const int*, const int*, const int*, const void *,  const void *, const int*, const void *, const int*, const void *, void *, const int*);\n",
      "00133\t        void chemv_(char*, const int*, const void *, const void *, const int*, const void *, const int*, const void *, void *, const int*);\n",
      "00134\t        void chbmv_(char*, const int*, const int*, const void *, const void *, const int*, const void *, const int*, const void *, void *, const int*);\n",
      "00135\t        void chpmv_(char*, const int*, const void *, const void *, const void *, const int*, const void *, void *, const int*);\n",
      "00136\t        void ctrmv_( char*, char*, char*, const int*, const void *, const int*, void *, const int*);\n",
      "00137\t        void ctbmv_( char*, char*, char*, const int*, const int*, const void *, const int*, void *, const int*);\n",
      "00138\t        void ctpmv_( char*, char*, char*, const int*, const void *, void *, const int*);\n",
      "00139\t        void ctrsv_( char*, char*, char*, const int*, const void *, const int*, void *, const int*);\n",
      "00140\t        void ctbsv_( char*, char*, char*, const int*, const int*, const void *, const int*, void *, const int*);\n",
      "00141\t        void ctpsv_( char*, char*, char*, const int*, const void *, void *,const int*);\n",
      "00142\t        void cgerc_( const int*, const int*, const void *, const void *, const int*, const void *, const int*, void *, const int*);\n",
      "00143\t        void cgeru_( const int*, const int*, const void *, const void *, const int*, const void *, const int*, void *,  const int*);\n",
      "00144\t        void cher_(char*, const int*, const float *, const void *, const int*, void *, const int*);\n",
      "00145\t        void cher2_(char*, const int*, const void *, const void *, const int*, const void *, const int*, void *, const int*);\n",
      "00146\t        void chpr_(char*, const int*, const float *, const void *, const int*, void *);\n",
      "00147\t        void chpr2_(char*, const int*, const float *, const void *, const int*, const void *, const int*, void *);\n",
      "00148\t\n",
      "00149\t    /* Double Complex Precision */\n",
      "00150\t\n",
      "00151\t        void zgemv_(char*, const int*, const int*, const void *, const void *, const int*, const void *, const int*, const void *, void *, const int*);\n",
      "00152\t        void zgbmv_(char*, const int*, const int*, const int*, const int*, const void *,  const void *, const int*, const void *, const int*, const void *, void *, const int*);\n",
      "00153\t        void zhemv_(char*, const int*, const void *, const void *, const int*, const void *, const int*, const void *, void *, const int*);\n",
      "00154\t        void zhbmv_(char*, const int*, const int*, const void *, const void *, const int*, const void *, const int*, const void *, void *, const int*);\n",
      "00155\t        void zhpmv_(char*, const int*, const void *, const void *, const void *, const int*, const void *, void *, const int*);\n",
      "00156\t        void ztrmv_( char*, char*, char*, const int*, const void *, const int*, void *, const int*);\n",
      "00157\t        void ztbmv_( char*, char*, char*, const int*, const int*, const void *, const int*, void *, const int*);\n",
      "00158\t        void ztpmv_( char*, char*, char*, const int*, const void *, void *, const int*);\n",
      "00159\t        void ztrsv_( char*, char*, char*, const int*, const void *, const int*, void *, const int*);\n",
      "00160\t        void ztbsv_( char*, char*, char*, const int*, const int*, const void *, const int*, void *, const int*);\n",
      "00161\t        void ztpsv_( char*, char*, char*, const int*, const void *, void *,const int*);\n",
      "00162\t        void zgerc_( const int*, const int*, const void *, const void *, const int*, const void *, const int*, void *, const int*);\n",
      "00163\t        void zgeru_( const int*, const int*, const void *, const void *, const int*, const void *, const int*, void *,  const int*);\n",
      "00164\t        void zher_(char*, const int*, const double *, const void *, const int*, void *, const int*);\n",
      "00165\t        void zher2_(char*, const int*, const void *, const void *, const int*, const void *, const int*, void *, const int*);\n",
      "00166\t        void zhpr_(char*, const int*, const double *, const void *, const int*, void *);\n",
      "00167\t        void zhpr2_(char*, const int*, const double *, const void *, const int*, const void *, const int*, void *);\n",
      "00168\t\n",
      "00169\t    /***********/\n",
      "00170\t    /* Level 3 */\n",
      "00171\t    /***********/\n",
      "00172\t\n",
      "00173\t    /* Single Precision */\n",
      "00174\t\n",
      "00175\t        void sgemm_(char*, char*, const int*, const int*, const int*, const float *, const float *, const int*, const float *, const int*, const float *, float *, const int*);\n",
      "00176\t        void ssymm_(char*, char*, const int*, const int*, const float *, const float *, const int*, const float *, const int*, const float *, float *, const int*);\n",
      "00177\t        void ssyrk_(char*, char*, const int*, const int*, const float *, const float *, const int*, const float *, float *, const int*);\n",
      "00178\t        void ssyr2k_(char*, char*, const int*, const int*, const float *, const float *, const int*, const float *, const int*, const float *, float *, const int*);\n",
      "00179\t        void strmm_(char*, char*, char*, char*, const int*, const int*, const float *, const float *, const int*, float *, const int*);\n",
      "00180\t        void strsm_(char*, char*, char*, char*, const int*, const int*, const float *, const float *, const int*, float *, const int*);\n",
      "00181\t\n",
      "00182\t    /* Double Precision */\n",
      "00183\t\n",
      "00184\t        void dgemm_(char*, char*, const int*, const int*, const int*, const double *, const double *, const int*, const double *, const int*, const double *, double *, const int*);\n",
      "00185\t        void dsymm_(char*, char*, const int*, const int*, const double *, const double *, const int*, const double *, const int*, const double *, double *, const int*);\n",
      "00186\t        void dsyrk_(char*, char*, const int*, const int*, const double *, const double *, const int*, const double *, double *, const int*);\n",
      "00187\t        void dsyr2k_(char*, char*, const int*, const int*, const double *, const double *, const int*, const double *, const int*, const double *, double *, const int*);\n",
      "00188\t        void dtrmm_(char*, char*, char*, char*, const int*, const int*, const double *, const double *, const int*, double *, const int*);\n",
      "00189\t        void dtrsm_(char*, char*, char*, char*, const int*, const int*, const double *, const double *, const int*, double *, const int*);\n",
      "00190\t\n",
      "00191\t    /* Single Complex Precision */\n",
      "00192\t\n",
      "00193\t        void cgemm_(char*, char*, const int*, const int*, const int*, const float *, const float *, const int*, const float *, const int*, const float *, float *, const int*);\n",
      "00194\t        void csymm_(char*, char*, const int*, const int*, const float *, const float *, const int*, const float *, const int*, const float *, float *, const int*);\n",
      "00195\t        void chemm_(char*, char*, const int*, const int*, const float *, const float *, const int*, const float *, const int*, const float *, float *, const int*);\n",
      "00196\t        void csyrk_(char*, char*, const int*, const int*, const float *, const float *, const int*, const float *, float *, const int*);\n",
      "00197\t        void cherk_(char*, char*, const int*, const int*, const float *, const float *, const int*, const float *, float *, const int*);\n",
      "00198\t        void csyr2k_(char*, char*, const int*, const int*, const float *, const float *, const int*, const float *, const int*, const float *, float *, const int*);\n",
      "00199\t        void cher2k_(char*, char*, const int*, const int*, const float *, const float *, const int*, const float *, const int*, const float *, float *, const int*);\n",
      "00200\t        void ctrmm_(char*, char*, char*, char*, const int*, const int*, const float *, const float *, const int*, float *, const int*);\n",
      "00201\t        void ctrsm_(char*, char*, char*, char*, const int*, const int*, const float *, const float *, const int*, float *, const int*);\n",
      "00202\t\n",
      "00203\t    /* Double Complex Precision */\n",
      "00204\t\n",
      "00205\t        void zgemm_(char*, char*, const int*, const int*, const int*, const double *, const double *, const int*, const double *, const int*, const double *, double *, const int*);\n",
      "00206\t        void zsymm_(char*, char*, const int*, const int*, const double *, const double *, const int*, const double *, const int*, const double *, double *, const int*);\n",
      "00207\t        void zhemm_(char*, char*, const int*, const int*, const double *, const double *, const int*, const double *, const int*, const double *, double *, const int*);\n",
      "00208\t        void zsyrk_(char*, char*, const int*, const int*, const double *, const double *, const int*, const double *, double *, const int*);\n",
      "00209\t        void zherk_(char*, char*, const int*, const int*, const double *, const double *, const int*, const double *, double *, const int*);\n",
      "00210\t        void zsyr2k_(char*, char*, const int*, const int*, const double *, const double *, const int*, const double *, const int*, const double *, double *, const int*);\n",
      "00211\t        void zher2k_(char*, char*, const int*, const int*, const double *, const double *, const int*, const double *, const int*, const double *, double *, const int*);\n",
      "00212\t        void ztrmm_(char*, char*, char*, char*, const int*, const int*, const double *, const double *, const int*, double *, const int*);\n",
      "00213\t        void ztrsm_(char*, char*, char*, char*, const int*, const int*, const double *, const double *, const int*, double *, const int*);\n",
      "00214\t\n",
      "00215\t    }\n",
      "00216\t    \n",
      "00217\t        #ifndef MOD\n",
      "00218\t        #define MOD %\n",
      "00219\t        #endif\n",
      "00220\t        static double time_time() // a time function like time.time()\n",
      "00221\t        {\n",
      "00222\t            struct timeval tv;\n",
      "00223\t            gettimeofday(&tv, 0);\n",
      "00224\t            return (double) tv.tv_sec + (double) tv.tv_usec / 1000000.0;\n",
      "00225\t        }\n",
      "00226\t        \n",
      "00227\t\n",
      "00228\t    namespace {\n",
      "00229\t    struct __struct_compiled_op_de61f4c333d06430fc7dc014bf04eb25 {\n",
      "00230\t        PyObject* __ERROR;\n",
      "00231\t\n",
      "00232\t        PyObject* storage_V3;\n",
      "00233\tPyObject* storage_V5;\n",
      "00234\tPyObject* storage_V1;\n",
      "00235\t        \n",
      "00236\t\n",
      "00237\t        __struct_compiled_op_de61f4c333d06430fc7dc014bf04eb25() {\n",
      "00238\t            // This is only somewhat safe because we:\n",
      "00239\t            //  1) Are not a virtual class\n",
      "00240\t            //  2) Do not use any virtual classes in the members\n",
      "00241\t            //  3) Deal with mostly POD and pointers\n",
      "00242\t\n",
      "00243\t            // If this changes, we would have to revise this, but for\n",
      "00244\t            // now I am tired of chasing segfaults because\n",
      "00245\t            // initialization code had an error and some pointer has\n",
      "00246\t            // a junk value.\n",
      "00247\t            memset(this, 0, sizeof(*this));\n",
      "00248\t        }\n",
      "00249\t        ~__struct_compiled_op_de61f4c333d06430fc7dc014bf04eb25(void) {\n",
      "00250\t            cleanup();\n",
      "00251\t        }\n",
      "00252\t\n",
      "00253\t        int init(PyObject* __ERROR, PyObject* storage_V3, PyObject* storage_V5, PyObject* storage_V1) {\n",
      "00254\t            Py_XINCREF(storage_V3);\n",
      "00255\tPy_XINCREF(storage_V5);\n",
      "00256\tPy_XINCREF(storage_V1);\n",
      "00257\t            this->storage_V3 = storage_V3;\n",
      "00258\tthis->storage_V5 = storage_V5;\n",
      "00259\tthis->storage_V1 = storage_V1;\n",
      "00260\t            \n",
      "00261\t\n",
      "00262\t\n",
      "00263\t\n",
      "00264\t\n",
      "00265\t            this->__ERROR = __ERROR;\n",
      "00266\t            return 0;\n",
      "00267\t        }\n",
      "00268\t        void cleanup(void) {\n",
      "00269\t            __label_1:\n",
      "00270\t\n",
      "00271\tdouble __DUMMY_1;\n",
      "00272\t__label_3:\n",
      "00273\t\n",
      "00274\tdouble __DUMMY_3;\n",
      "00275\t__label_5:\n",
      "00276\t\n",
      "00277\tdouble __DUMMY_5;\n",
      "00278\t__label_8:\n",
      "00279\t\n",
      "00280\tdouble __DUMMY_8;\n",
      "00281\t\n",
      "00282\t            Py_XDECREF(this->storage_V3);\n",
      "00283\tPy_XDECREF(this->storage_V5);\n",
      "00284\tPy_XDECREF(this->storage_V1);\n",
      "00285\t        }\n",
      "00286\t        int run(void) {\n",
      "00287\t            int __failure = 0;\n",
      "00288\t            \n",
      "00289\t    PyObject* py_V1;\n",
      "00290\t    \n",
      "00291\t        PyArrayObject* V1;\n",
      "00292\t        \n",
      "00293\t            typedef npy_float32 dtype_V1;\n",
      "00294\t            \n",
      "00295\t    PyObject* py_V3;\n",
      "00296\t    \n",
      "00297\t        PyArrayObject* V3;\n",
      "00298\t        \n",
      "00299\t            typedef npy_float32 dtype_V3;\n",
      "00300\t            \n",
      "00301\t    PyObject* py_V5;\n",
      "00302\t    \n",
      "00303\t        PyArrayObject* V5;\n",
      "00304\t        \n",
      "00305\t            typedef npy_float32 dtype_V5;\n",
      "00306\t            \n",
      "00307\t{\n",
      "00308\t\n",
      "00309\t    py_V1 = Py_None;\n",
      "00310\t    {Py_XINCREF(py_V1);}\n",
      "00311\t    \n",
      "00312\t        V1 = NULL;\n",
      "00313\t        \n",
      "00314\t{\n",
      "00315\t\n",
      "00316\t    py_V3 = PyList_GET_ITEM(storage_V3, 0);\n",
      "00317\t    {Py_XINCREF(py_V3);}\n",
      "00318\t    \n",
      "00319\t            V3 = NULL;\n",
      "00320\t            if (py_V3 == Py_None) {\n",
      "00321\t                // We can either fail here or set V3 to NULL and rely on Ops\n",
      "00322\t                // using tensors to handle the NULL case, but if they fail to do so\n",
      "00323\t                // they'll end up with nasty segfaults, so this is public service.\n",
      "00324\t                PyErr_SetString(PyExc_ValueError, \"expected an ndarray, not None\");\n",
      "00325\t                {\n",
      "00326\t        __failure = 4;\n",
      "00327\t        if (!PyErr_Occurred()) {\n",
      "00328\t            PyErr_SetString(PyExc_RuntimeError,\n",
      "00329\t                \"Unexpected error in an Op's C code. \"\n",
      "00330\t                \"No Python exception was set.\");\n",
      "00331\t            }\n",
      "00332\t        goto __label_4;}\n",
      "00333\t            }\n",
      "00334\t            if (!PyArray_Check(py_V3)) {\n",
      "00335\t                PyErr_SetString(PyExc_ValueError, \"expected an ndarray\");\n",
      "00336\t                {\n",
      "00337\t        __failure = 4;\n",
      "00338\t        if (!PyErr_Occurred()) {\n",
      "00339\t            PyErr_SetString(PyExc_RuntimeError,\n",
      "00340\t                \"Unexpected error in an Op's C code. \"\n",
      "00341\t                \"No Python exception was set.\");\n",
      "00342\t            }\n",
      "00343\t        goto __label_4;}\n",
      "00344\t            }\n",
      "00345\t            // We expect NPY_FLOAT32\n",
      "00346\t            if (!PyArray_ISALIGNED((PyArrayObject*) py_V3)) {\n",
      "00347\t                PyArrayObject * tmp = (PyArrayObject*) py_V3;\n",
      "00348\t                PyErr_Format(PyExc_NotImplementedError,\n",
      "00349\t                             \"expected an aligned array of type %ld \"\n",
      "00350\t                             \"(NPY_FLOAT32), got non-aligned array of type %ld\"\n",
      "00351\t                             \" with %ld dimensions, with 3 last dims \"\n",
      "00352\t                             \"%ld, %ld, %ld\"\n",
      "00353\t                             \" and 3 last strides %ld %ld, %ld.\",\n",
      "00354\t                             (long int) NPY_FLOAT32,\n",
      "00355\t                             (long int) PyArray_TYPE((PyArrayObject*) py_V3),\n",
      "00356\t                             (long int) PyArray_NDIM(tmp),\n",
      "00357\t                             (long int) PyArray_NDIM(tmp) >= 3 ?\n",
      "00358\t            PyArray_DIMS(tmp)[PyArray_NDIM(tmp)-3] : -1,\n",
      "00359\t                             (long int) PyArray_NDIM(tmp) >= 2 ?\n",
      "00360\t            PyArray_DIMS(tmp)[PyArray_NDIM(tmp)-2] : -1,\n",
      "00361\t                             (long int) PyArray_NDIM(tmp) >= 1 ?\n",
      "00362\t            PyArray_DIMS(tmp)[PyArray_NDIM(tmp)-1] : -1,\n",
      "00363\t                             (long int) PyArray_NDIM(tmp) >= 3 ?\n",
      "00364\t            PyArray_STRIDES(tmp)[PyArray_NDIM(tmp)-3] : -1,\n",
      "00365\t                             (long int) PyArray_NDIM(tmp) >= 2 ?\n",
      "00366\t            PyArray_STRIDES(tmp)[PyArray_NDIM(tmp)-2] : -1,\n",
      "00367\t                             (long int) PyArray_NDIM(tmp) >= 1 ?\n",
      "00368\t            PyArray_STRIDES(tmp)[PyArray_NDIM(tmp)-1] : -1\n",
      "00369\t            );\n",
      "00370\t                {\n",
      "00371\t        __failure = 4;\n",
      "00372\t        if (!PyErr_Occurred()) {\n",
      "00373\t            PyErr_SetString(PyExc_RuntimeError,\n",
      "00374\t                \"Unexpected error in an Op's C code. \"\n",
      "00375\t                \"No Python exception was set.\");\n",
      "00376\t            }\n",
      "00377\t        goto __label_4;}\n",
      "00378\t            }\n",
      "00379\t            // This is a TypeError to be consistent with DEBUG_MODE\n",
      "00380\t            // Note: DEBUG_MODE also tells the name of the container\n",
      "00381\t            if (PyArray_TYPE((PyArrayObject*) py_V3) != NPY_FLOAT32) {\n",
      "00382\t                PyErr_Format(PyExc_TypeError,\n",
      "00383\t                             \"expected type_num %d (NPY_FLOAT32) got %d\",\n",
      "00384\t                             NPY_FLOAT32, PyArray_TYPE((PyArrayObject*) py_V3));\n",
      "00385\t                {\n",
      "00386\t        __failure = 4;\n",
      "00387\t        if (!PyErr_Occurred()) {\n",
      "00388\t            PyErr_SetString(PyExc_RuntimeError,\n",
      "00389\t                \"Unexpected error in an Op's C code. \"\n",
      "00390\t                \"No Python exception was set.\");\n",
      "00391\t            }\n",
      "00392\t        goto __label_4;}\n",
      "00393\t            }\n",
      "00394\t            \n",
      "00395\t        V3 = (PyArrayObject*)(py_V3);\n",
      "00396\t        Py_XINCREF(V3);\n",
      "00397\t        \n",
      "00398\t{\n",
      "00399\t\n",
      "00400\t    py_V5 = PyList_GET_ITEM(storage_V5, 0);\n",
      "00401\t    {Py_XINCREF(py_V5);}\n",
      "00402\t    \n",
      "00403\t            V5 = NULL;\n",
      "00404\t            if (py_V5 == Py_None) {\n",
      "00405\t                // We can either fail here or set V5 to NULL and rely on Ops\n",
      "00406\t                // using tensors to handle the NULL case, but if they fail to do so\n",
      "00407\t                // they'll end up with nasty segfaults, so this is public service.\n",
      "00408\t                PyErr_SetString(PyExc_ValueError, \"expected an ndarray, not None\");\n",
      "00409\t                {\n",
      "00410\t        __failure = 6;\n",
      "00411\t        if (!PyErr_Occurred()) {\n",
      "00412\t            PyErr_SetString(PyExc_RuntimeError,\n",
      "00413\t                \"Unexpected error in an Op's C code. \"\n",
      "00414\t                \"No Python exception was set.\");\n",
      "00415\t            }\n",
      "00416\t        goto __label_6;}\n",
      "00417\t            }\n",
      "00418\t            if (!PyArray_Check(py_V5)) {\n",
      "00419\t                PyErr_SetString(PyExc_ValueError, \"expected an ndarray\");\n",
      "00420\t                {\n",
      "00421\t        __failure = 6;\n",
      "00422\t        if (!PyErr_Occurred()) {\n",
      "00423\t            PyErr_SetString(PyExc_RuntimeError,\n",
      "00424\t                \"Unexpected error in an Op's C code. \"\n",
      "00425\t                \"No Python exception was set.\");\n",
      "00426\t            }\n",
      "00427\t        goto __label_6;}\n",
      "00428\t            }\n",
      "00429\t            // We expect NPY_FLOAT32\n",
      "00430\t            if (!PyArray_ISALIGNED((PyArrayObject*) py_V5)) {\n",
      "00431\t                PyArrayObject * tmp = (PyArrayObject*) py_V5;\n",
      "00432\t                PyErr_Format(PyExc_NotImplementedError,\n",
      "00433\t                             \"expected an aligned array of type %ld \"\n",
      "00434\t                             \"(NPY_FLOAT32), got non-aligned array of type %ld\"\n",
      "00435\t                             \" with %ld dimensions, with 3 last dims \"\n",
      "00436\t                             \"%ld, %ld, %ld\"\n",
      "00437\t                             \" and 3 last strides %ld %ld, %ld.\",\n",
      "00438\t                             (long int) NPY_FLOAT32,\n",
      "00439\t                             (long int) PyArray_TYPE((PyArrayObject*) py_V5),\n",
      "00440\t                             (long int) PyArray_NDIM(tmp),\n",
      "00441\t                             (long int) PyArray_NDIM(tmp) >= 3 ?\n",
      "00442\t            PyArray_DIMS(tmp)[PyArray_NDIM(tmp)-3] : -1,\n",
      "00443\t                             (long int) PyArray_NDIM(tmp) >= 2 ?\n",
      "00444\t            PyArray_DIMS(tmp)[PyArray_NDIM(tmp)-2] : -1,\n",
      "00445\t                             (long int) PyArray_NDIM(tmp) >= 1 ?\n",
      "00446\t            PyArray_DIMS(tmp)[PyArray_NDIM(tmp)-1] : -1,\n",
      "00447\t                             (long int) PyArray_NDIM(tmp) >= 3 ?\n",
      "00448\t            PyArray_STRIDES(tmp)[PyArray_NDIM(tmp)-3] : -1,\n",
      "00449\t                             (long int) PyArray_NDIM(tmp) >= 2 ?\n",
      "00450\t            PyArray_STRIDES(tmp)[PyArray_NDIM(tmp)-2] : -1,\n",
      "00451\t                             (long int) PyArray_NDIM(tmp) >= 1 ?\n",
      "00452\t            PyArray_STRIDES(tmp)[PyArray_NDIM(tmp)-1] : -1\n",
      "00453\t            );\n",
      "00454\t                {\n",
      "00455\t        __failure = 6;\n",
      "00456\t        if (!PyErr_Occurred()) {\n",
      "00457\t            PyErr_SetString(PyExc_RuntimeError,\n",
      "00458\t                \"Unexpected error in an Op's C code. \"\n",
      "00459\t                \"No Python exception was set.\");\n",
      "00460\t            }\n",
      "00461\t        goto __label_6;}\n",
      "00462\t            }\n",
      "00463\t            // This is a TypeError to be consistent with DEBUG_MODE\n",
      "00464\t            // Note: DEBUG_MODE also tells the name of the container\n",
      "00465\t            if (PyArray_TYPE((PyArrayObject*) py_V5) != NPY_FLOAT32) {\n",
      "00466\t                PyErr_Format(PyExc_TypeError,\n",
      "00467\t                             \"expected type_num %d (NPY_FLOAT32) got %d\",\n",
      "00468\t                             NPY_FLOAT32, PyArray_TYPE((PyArrayObject*) py_V5));\n",
      "00469\t                {\n",
      "00470\t        __failure = 6;\n",
      "00471\t        if (!PyErr_Occurred()) {\n",
      "00472\t            PyErr_SetString(PyExc_RuntimeError,\n",
      "00473\t                \"Unexpected error in an Op's C code. \"\n",
      "00474\t                \"No Python exception was set.\");\n",
      "00475\t            }\n",
      "00476\t        goto __label_6;}\n",
      "00477\t            }\n",
      "00478\t            \n",
      "00479\t        V5 = (PyArrayObject*)(py_V5);\n",
      "00480\t        Py_XINCREF(V5);\n",
      "00481\t        \n",
      "00482\t{\n",
      "00483\t// Op class Dot22\n",
      "00484\t\n",
      "00485\t        int unit = 0;\n",
      "00486\t\n",
      "00487\t        int type_num = PyArray_DESCR(V3)->type_num;\n",
      "00488\t        int type_size = PyArray_DESCR(V3)->elsize; // in bytes\n",
      "00489\t\n",
      "00490\t        npy_intp* Nx = PyArray_DIMS(V3);\n",
      "00491\t        npy_intp* Ny = PyArray_DIMS(V5);\n",
      "00492\t        npy_intp* Nz = 0; //PyArray_DIMS(V1);\n",
      "00493\t\n",
      "00494\t        npy_intp* Sx = PyArray_STRIDES(V3);\n",
      "00495\t        npy_intp* Sy = PyArray_STRIDES(V5);\n",
      "00496\t        npy_intp* Sz = 0; //PyArray_STRIDES(V1);\n",
      "00497\t\n",
      "00498\t        //strides for x, y, z in dimensions 0, 1\n",
      "00499\t        int sx_0, sx_1, sy_0, sy_1, sz_0, sz_1;\n",
      "00500\t        \n",
      "00501\t        if (PyArray_NDIM(V3) != 2) {\n",
      "00502\t            PyErr_Format(PyExc_NotImplementedError,\n",
      "00503\t                         \"rank(x) != 2. rank(x) is %d.\",\n",
      "00504\t                         PyArray_NDIM(V3));\n",
      "00505\t            {\n",
      "00506\t        __failure = 7;\n",
      "00507\t        if (!PyErr_Occurred()) {\n",
      "00508\t            PyErr_SetString(PyExc_RuntimeError,\n",
      "00509\t                \"Unexpected error in an Op's C code. \"\n",
      "00510\t                \"No Python exception was set.\");\n",
      "00511\t            }\n",
      "00512\t        goto __label_7;};\n",
      "00513\t        }\n",
      "00514\t        if (PyArray_NDIM(V5) != 2) {\n",
      "00515\t            PyErr_Format(PyExc_NotImplementedError,\n",
      "00516\t                         \"rank(y) != 2. rank(y) is %d.\", PyArray_NDIM(V5));\n",
      "00517\t            {\n",
      "00518\t        __failure = 7;\n",
      "00519\t        if (!PyErr_Occurred()) {\n",
      "00520\t            PyErr_SetString(PyExc_RuntimeError,\n",
      "00521\t                \"Unexpected error in an Op's C code. \"\n",
      "00522\t                \"No Python exception was set.\");\n",
      "00523\t            }\n",
      "00524\t        goto __label_7;};\n",
      "00525\t        }\n",
      "00526\t        if (V1 && PyArray_NDIM(V1) != 2) {\n",
      "00527\t            PyErr_Format(PyExc_NotImplementedError,\n",
      "00528\t                         \"rank(z) != 2. rank(z) is %d.\", PyArray_NDIM(V1));\n",
      "00529\t            {\n",
      "00530\t        __failure = 7;\n",
      "00531\t        if (!PyErr_Occurred()) {\n",
      "00532\t            PyErr_SetString(PyExc_RuntimeError,\n",
      "00533\t                \"Unexpected error in an Op's C code. \"\n",
      "00534\t                \"No Python exception was set.\");\n",
      "00535\t            }\n",
      "00536\t        goto __label_7;};\n",
      "00537\t        }\n",
      "00538\t        \n",
      "00539\t        if ((NULL == V1)\n",
      "00540\t            || (PyArray_DIMS(V1)[0] != PyArray_DIMS(V3)[0])\n",
      "00541\t            || (PyArray_DIMS(V1)[1] != PyArray_DIMS(V5)[1]))\n",
      "00542\t        {\n",
      "00543\t            if (NULL != V1) Py_XDECREF(V1);\n",
      "00544\t            npy_intp dims[2];\n",
      "00545\t            dims[0] = PyArray_DIMS(V3)[0];\n",
      "00546\t            dims[1] = PyArray_DIMS(V5)[1];\n",
      "00547\t            V1 = (PyArrayObject*)PyArray_SimpleNew(2, dims,\n",
      "00548\t                            PyArray_TYPE(V3));\n",
      "00549\t            //fprintf(stderr, \"Dot Allocating %i %i\\n\", dims[0], dims[1]);\n",
      "00550\t            if(!V1) {\n",
      "00551\t                PyErr_SetString(PyExc_MemoryError,\n",
      "00552\t                                \"failed to alloc dot22 output\");\n",
      "00553\t                {\n",
      "00554\t        __failure = 7;\n",
      "00555\t        if (!PyErr_Occurred()) {\n",
      "00556\t            PyErr_SetString(PyExc_RuntimeError,\n",
      "00557\t                \"Unexpected error in an Op's C code. \"\n",
      "00558\t                \"No Python exception was set.\");\n",
      "00559\t            }\n",
      "00560\t        goto __label_7;}\n",
      "00561\t            }\n",
      "00562\t        }\n",
      "00563\t        Nz = PyArray_DIMS(V1);\n",
      "00564\t        Sz = PyArray_STRIDES(V1);\n",
      "00565\t\n",
      "00566\t        \n",
      "00567\t        if ((PyArray_DESCR(V3)->type_num != NPY_DOUBLE)\n",
      "00568\t            && (PyArray_DESCR(V3)->type_num != NPY_FLOAT))\n",
      "00569\t        {PyErr_SetString(PyExc_NotImplementedError, \"type(x) is not double or float\"); {\n",
      "00570\t        __failure = 7;\n",
      "00571\t        if (!PyErr_Occurred()) {\n",
      "00572\t            PyErr_SetString(PyExc_RuntimeError,\n",
      "00573\t                \"Unexpected error in an Op's C code. \"\n",
      "00574\t                \"No Python exception was set.\");\n",
      "00575\t            }\n",
      "00576\t        goto __label_7;};}\n",
      "00577\t\n",
      "00578\t        if ((PyArray_DESCR(V5)->type_num != NPY_DOUBLE)\n",
      "00579\t            && (PyArray_DESCR(V5)->type_num != NPY_FLOAT))\n",
      "00580\t        {PyErr_SetString(PyExc_NotImplementedError, \"type(y) is not double or float\"); {\n",
      "00581\t        __failure = 7;\n",
      "00582\t        if (!PyErr_Occurred()) {\n",
      "00583\t            PyErr_SetString(PyExc_RuntimeError,\n",
      "00584\t                \"Unexpected error in an Op's C code. \"\n",
      "00585\t                \"No Python exception was set.\");\n",
      "00586\t            }\n",
      "00587\t        goto __label_7;};}\n",
      "00588\t\n",
      "00589\t        if ((PyArray_DESCR(V1)->type_num != NPY_DOUBLE)\n",
      "00590\t            && (PyArray_DESCR(V1)->type_num != NPY_FLOAT))\n",
      "00591\t        {PyErr_SetString(PyExc_NotImplementedError, \"type(z) is not double or float\"); {\n",
      "00592\t        __failure = 7;\n",
      "00593\t        if (!PyErr_Occurred()) {\n",
      "00594\t            PyErr_SetString(PyExc_RuntimeError,\n",
      "00595\t                \"Unexpected error in an Op's C code. \"\n",
      "00596\t                \"No Python exception was set.\");\n",
      "00597\t            }\n",
      "00598\t        goto __label_7;};}\n",
      "00599\t\n",
      "00600\t        if ((PyArray_DESCR(V3)->type_num != PyArray_DESCR(V5)->type_num)\n",
      "00601\t            ||(PyArray_DESCR(V3)->type_num != PyArray_DESCR(V1)->type_num))\n",
      "00602\t        { PyErr_SetString(PyExc_NotImplementedError, \"type(x), type(y), type(z) are not all the same\"); {\n",
      "00603\t        __failure = 7;\n",
      "00604\t        if (!PyErr_Occurred()) {\n",
      "00605\t            PyErr_SetString(PyExc_RuntimeError,\n",
      "00606\t                \"Unexpected error in an Op's C code. \"\n",
      "00607\t                \"No Python exception was set.\");\n",
      "00608\t            }\n",
      "00609\t        goto __label_7;}; }\n",
      "00610\t        \n",
      "00611\t        if (Nx[0] != Nz[0])\n",
      "00612\t        {\n",
      "00613\t            PyErr_Format(PyExc_ValueError,\n",
      "00614\t                \"Shape mismatch: x has %ld rows but z has %ld rows\",\n",
      "00615\t                (long int)Nx[0], (long int)Nz[0]);\n",
      "00616\t            {\n",
      "00617\t        __failure = 7;\n",
      "00618\t        if (!PyErr_Occurred()) {\n",
      "00619\t            PyErr_SetString(PyExc_RuntimeError,\n",
      "00620\t                \"Unexpected error in an Op's C code. \"\n",
      "00621\t                \"No Python exception was set.\");\n",
      "00622\t            }\n",
      "00623\t        goto __label_7;};\n",
      "00624\t        }\n",
      "00625\t        if (Nx[1] != Ny[0])\n",
      "00626\t        {\n",
      "00627\t            PyErr_Format(PyExc_ValueError,\n",
      "00628\t                \"Shape mismatch: x has %ld cols (and %ld rows) but y has %ld rows (and %ld cols)\",\n",
      "00629\t                (long int)Nx[1], (long int)Nx[0], (long int)Ny[0], (long int)Ny[1]);\n",
      "00630\t            {\n",
      "00631\t        __failure = 7;\n",
      "00632\t        if (!PyErr_Occurred()) {\n",
      "00633\t            PyErr_SetString(PyExc_RuntimeError,\n",
      "00634\t                \"Unexpected error in an Op's C code. \"\n",
      "00635\t                \"No Python exception was set.\");\n",
      "00636\t            }\n",
      "00637\t        goto __label_7;};\n",
      "00638\t        }\n",
      "00639\t        if (Ny[1] != Nz[1])\n",
      "00640\t        {\n",
      "00641\t            PyErr_Format(PyExc_ValueError,\n",
      "00642\t                \"Shape mismatch: y has %ld cols but z has %ld cols\",\n",
      "00643\t                (long int)Ny[1], (long int)Nz[1]);\n",
      "00644\t            {\n",
      "00645\t        __failure = 7;\n",
      "00646\t        if (!PyErr_Occurred()) {\n",
      "00647\t            PyErr_SetString(PyExc_RuntimeError,\n",
      "00648\t                \"Unexpected error in an Op's C code. \"\n",
      "00649\t                \"No Python exception was set.\");\n",
      "00650\t            }\n",
      "00651\t        goto __label_7;};\n",
      "00652\t        }\n",
      "00653\t\n",
      "00654\t        // We must not raise an error when Nx[1] == 0. This would disable cases\n",
      "00655\t        // that numpy.dot accept.\n",
      "00656\t        \n",
      "00657\t        /*\n",
      "00658\t        If some matrices are not contiguous on either dimensions,\n",
      "00659\t        or have invalid strides, copy their content into a contiguous one\n",
      "00660\t        */\n",
      "00661\t        if ((Sx[0] < 1) || (Sx[1] < 1) || (Sx[0] MOD type_size) || (Sx[1] MOD type_size)\n",
      "00662\t            || ((Sx[0] != type_size) && (Sx[1] != type_size)))\n",
      "00663\t        {\n",
      "00664\t            PyArrayObject * _x_copy = (PyArrayObject *) PyArray_Copy(V3);\n",
      "00665\t            if (!_x_copy)\n",
      "00666\t                {\n",
      "00667\t        __failure = 7;\n",
      "00668\t        if (!PyErr_Occurred()) {\n",
      "00669\t            PyErr_SetString(PyExc_RuntimeError,\n",
      "00670\t                \"Unexpected error in an Op's C code. \"\n",
      "00671\t                \"No Python exception was set.\");\n",
      "00672\t            }\n",
      "00673\t        goto __label_7;}\n",
      "00674\t            Py_XDECREF(V3);\n",
      "00675\t            V3 = _x_copy;\n",
      "00676\t            Sx = PyArray_STRIDES(V3);\n",
      "00677\t        }\n",
      "00678\t\n",
      "00679\t        if ((Sy[0] < 1) || (Sy[1] < 1) || (Sy[0] MOD type_size) || (Sy[1] MOD type_size)\n",
      "00680\t            || ((Sy[0] != type_size) && (Sy[1] != type_size)))\n",
      "00681\t        {\n",
      "00682\t            PyArrayObject * _y_copy = (PyArrayObject *) PyArray_Copy(V5);\n",
      "00683\t            if (!_y_copy)\n",
      "00684\t                {\n",
      "00685\t        __failure = 7;\n",
      "00686\t        if (!PyErr_Occurred()) {\n",
      "00687\t            PyErr_SetString(PyExc_RuntimeError,\n",
      "00688\t                \"Unexpected error in an Op's C code. \"\n",
      "00689\t                \"No Python exception was set.\");\n",
      "00690\t            }\n",
      "00691\t        goto __label_7;}\n",
      "00692\t            Py_XDECREF(V5);\n",
      "00693\t            V5 = _y_copy;\n",
      "00694\t            Sy = PyArray_STRIDES(V5);\n",
      "00695\t        }\n",
      "00696\t\n",
      "00697\t        if ((Sz[0] < 1) || (Sz[1] < 1) || (Sz[0] MOD type_size) || (Sz[1] MOD type_size)\n",
      "00698\t            || ((Sz[0] != type_size) && (Sz[1] != type_size)))\n",
      "00699\t        {\n",
      "00700\t            PyArrayObject * _z_copy = (PyArrayObject *) PyArray_Copy(V1);\n",
      "00701\t            if (!_z_copy)\n",
      "00702\t                {\n",
      "00703\t        __failure = 7;\n",
      "00704\t        if (!PyErr_Occurred()) {\n",
      "00705\t            PyErr_SetString(PyExc_RuntimeError,\n",
      "00706\t                \"Unexpected error in an Op's C code. \"\n",
      "00707\t                \"No Python exception was set.\");\n",
      "00708\t            }\n",
      "00709\t        goto __label_7;}\n",
      "00710\t            Py_XDECREF(V1);\n",
      "00711\t            V1 = _z_copy;\n",
      "00712\t            Sz = PyArray_STRIDES(V1);\n",
      "00713\t        }\n",
      "00714\t        \n",
      "00715\t        /*\n",
      "00716\t        encode the stride structure of _x,_y,_zout into a single integer\n",
      "00717\t        */\n",
      "00718\t        unit |= ((Sx[1] == type_size || Nx[1]==1) ? 0x0 : (Sx[0] == type_size || Nx[0]==1) ? 0x1 : 0x2) << 8;\n",
      "00719\t        unit |= ((Sy[1] == type_size || Ny[1]==1) ? 0x0 : (Sy[0] == type_size || Ny[0]==1) ? 0x1 : 0x2) << 4;\n",
      "00720\t        unit |= ((Sz[1] == type_size || Nz[1]==1) ? 0x0 : (Sz[0] == type_size || Nz[0]==1) ? 0x1 : 0x2) << 0;\n",
      "00721\t        \n",
      "00722\t        /* create appropriate strides for malformed matrices that are row or column\n",
      "00723\t         * vectors, or empty matrices.\n",
      "00724\t         * In that case, the value of the stride does not really matter, but\n",
      "00725\t         * some versions of BLAS insist that:\n",
      "00726\t         *  - they are not smaller than the number of elements in the array,\n",
      "00727\t         *  - they are not 0.\n",
      "00728\t         */\n",
      "00729\t        sx_0 = (Nx[0] > 1) ? Sx[0]/type_size : (Nx[1] + 1);\n",
      "00730\t        sx_1 = (Nx[1] > 1) ? Sx[1]/type_size : (Nx[0] + 1);\n",
      "00731\t        sy_0 = (Ny[0] > 1) ? Sy[0]/type_size : (Ny[1] + 1);\n",
      "00732\t        sy_1 = (Ny[1] > 1) ? Sy[1]/type_size : (Ny[0] + 1);\n",
      "00733\t        sz_0 = (Nz[0] > 1) ? Sz[0]/type_size : (Nz[1] + 1);\n",
      "00734\t        sz_1 = (Nz[1] > 1) ? Sz[1]/type_size : (Nz[0] + 1);\n",
      "00735\t        \n",
      "00736\t        switch (type_num)\n",
      "00737\t        {\n",
      "00738\t        \n",
      "00739\t            case NPY_FLOAT:\n",
      "00740\t            {\n",
      "00741\t        \n",
      "00742\t                float a = 1.0;\n",
      "00743\t                float b = 0.0;\n",
      "00744\t        \n",
      "00745\t                float* x = (float*)PyArray_DATA(V3);\n",
      "00746\t                float* y = (float*)PyArray_DATA(V5);\n",
      "00747\t                float* z = (float*)PyArray_DATA(V1);\n",
      "00748\t                char N = 'N';\n",
      "00749\t                char T = 'T';\n",
      "00750\t                int Nz0 = Nz[0], Nz1 = Nz[1], Nx1 = Nx[1];\n",
      "00751\t                //std::cerr << (unit/256) MOD 16 << (unit / 16) MOD 16 << unit MOD 16<< '\\n';\n",
      "00752\t                //double t0 = time_time();\n",
      "00753\t                switch(unit)\n",
      "00754\t                {\n",
      "00755\t                    case 0x000: sgemm_(&N, &N, &Nz1, &Nz0, &Nx1, &a, y, &sy_0, x, &sx_0, &b, z, &sz_0); break;\n",
      "00756\t                    case 0x100: sgemm_(&N, &T, &Nz1, &Nz0, &Nx1, &a, y, &sy_0, x, &sx_1, &b, z, &sz_0); break;\n",
      "00757\t                    case 0x010: sgemm_(&T, &N, &Nz1, &Nz0, &Nx1, &a, y, &sy_1, x, &sx_0, &b, z, &sz_0); break;\n",
      "00758\t                    case 0x110: sgemm_(&T, &T, &Nz1, &Nz0, &Nx1, &a, y, &sy_1, x, &sx_1, &b, z, &sz_0); break;\n",
      "00759\t                    case 0x001: sgemm_(&T, &T, &Nz0, &Nz1, &Nx1, &a, x, &sx_0, y, &sy_0, &b, z, &sz_1); break;\n",
      "00760\t                    case 0x101: sgemm_(&N, &T, &Nz0, &Nz1, &Nx1, &a, x, &sx_1, y, &sy_0, &b, z, &sz_1); break;\n",
      "00761\t                    case 0x011: sgemm_(&T, &N, &Nz0, &Nz1, &Nx1, &a, x, &sx_0, y, &sy_1, &b, z, &sz_1); break;\n",
      "00762\t                    case 0x111: sgemm_(&N, &N, &Nz0, &Nz1, &Nx1, &a, x, &sx_1, y, &sy_1, &b, z, &sz_1); break;\n",
      "00763\t                    default: PyErr_SetString(PyExc_ValueError, \"some matrix has no unit stride\"); {\n",
      "00764\t        __failure = 7;\n",
      "00765\t        if (!PyErr_Occurred()) {\n",
      "00766\t            PyErr_SetString(PyExc_RuntimeError,\n",
      "00767\t                \"Unexpected error in an Op's C code. \"\n",
      "00768\t                \"No Python exception was set.\");\n",
      "00769\t            }\n",
      "00770\t        goto __label_7;};\n",
      "00771\t                };\n",
      "00772\t                //fprintf(stderr, \"Calling sgemm %i %i %i %i took %f\\n\", unit, Nz1, Nz0, Nx1, time_time() - t0);\n",
      "00773\t        \n",
      "00774\t            }\n",
      "00775\t            break;\n",
      "00776\t            case NPY_DOUBLE:\n",
      "00777\t            {\n",
      "00778\t        \n",
      "00779\t                double a = 1.0;\n",
      "00780\t                double b = 0.0;\n",
      "00781\t        \n",
      "00782\t                double* x = (double*)PyArray_DATA(V3);\n",
      "00783\t                double* y = (double*)PyArray_DATA(V5);\n",
      "00784\t                double* z = (double*)PyArray_DATA(V1);\n",
      "00785\t                char N = 'N';\n",
      "00786\t                char T = 'T';\n",
      "00787\t                int Nz0 = Nz[0], Nz1 = Nz[1], Nx1 = Nx[1];\n",
      "00788\t                //std::cerr << (unit/256) MOD 16 << (unit / 16) MOD 16 << unit MOD 16<< '\\n';\n",
      "00789\t                //double t0 = time_time();\n",
      "00790\t                //fprintf(stderr, \"unit=%x N= %i %i %i S = %i %i %i %i %i %i\\n\", unit,\n",
      "00791\t                //Nz1, Nz0, Nx1,\n",
      "00792\t                //sy_0, sy_1,\n",
      "00793\t                //sx_0, sx_1,\n",
      "00794\t                //sz_0, sz_1\n",
      "00795\t                //);\n",
      "00796\t                switch(unit)\n",
      "00797\t                {\n",
      "00798\t                    case 0x000: dgemm_(&N, &N, &Nz1, &Nz0, &Nx1, &a, y,\n",
      "00799\t                                       &sy_0, x, &sx_0, &b, z, &sz_0); break;\n",
      "00800\t                    case 0x100: dgemm_(&N, &T, &Nz1, &Nz0, &Nx1, &a, y,\n",
      "00801\t                                       &sy_0, x, &sx_1, &b, z, &sz_0); break;\n",
      "00802\t                    case 0x010: dgemm_(&T, &N, &Nz1, &Nz0, &Nx1, &a, y,\n",
      "00803\t                                       &sy_1, x, &sx_0, &b, z, &sz_0); break;\n",
      "00804\t                    case 0x110: dgemm_(&T, &T, &Nz1, &Nz0, &Nx1, &a, y,\n",
      "00805\t                                       &sy_1, x, &sx_1, &b, z, &sz_0); break;\n",
      "00806\t                    case 0x001: dgemm_(&T, &T, &Nz0, &Nz1, &Nx1, &a, x,\n",
      "00807\t                                       &sx_0, y, &sy_0, &b, z, &sz_1); break;\n",
      "00808\t                    case 0x101: dgemm_(&N, &T, &Nz0, &Nz1, &Nx1, &a, x,\n",
      "00809\t                                       &sx_1, y, &sy_0, &b, z, &sz_1); break;\n",
      "00810\t                    case 0x011: dgemm_(&T, &N, &Nz0, &Nz1, &Nx1, &a, x,\n",
      "00811\t                                       &sx_0, y, &sy_1, &b, z, &sz_1); break;\n",
      "00812\t                    case 0x111: dgemm_(&N, &N, &Nz0, &Nz1, &Nx1, &a, x,\n",
      "00813\t                                       &sx_1, y, &sy_1, &b, z, &sz_1); break;\n",
      "00814\t                    default: PyErr_SetString(PyExc_ValueError,\n",
      "00815\t                                             \"some matrix has no unit stride\");\n",
      "00816\t                             {\n",
      "00817\t        __failure = 7;\n",
      "00818\t        if (!PyErr_Occurred()) {\n",
      "00819\t            PyErr_SetString(PyExc_RuntimeError,\n",
      "00820\t                \"Unexpected error in an Op's C code. \"\n",
      "00821\t                \"No Python exception was set.\");\n",
      "00822\t            }\n",
      "00823\t        goto __label_7;};\n",
      "00824\t                };\n",
      "00825\t                //fprintf(stderr, \"Calling dgemm %i %i %i %i took %f\\n\",\n",
      "00826\t                //        unit, Nz1, Nz0, Nx1, time_time()- t0);\n",
      "00827\t        \n",
      "00828\t            }\n",
      "00829\t            break;\n",
      "00830\t        }\n",
      "00831\t        __label_7:\n",
      "00832\t\n",
      "00833\tdouble __DUMMY_7;\n",
      "00834\t\n",
      "00835\t}\n",
      "00836\t__label_6:\n",
      "00837\t\n",
      "00838\t        if (V5) {\n",
      "00839\t            Py_XDECREF(V5);\n",
      "00840\t        }\n",
      "00841\t        \n",
      "00842\t    {Py_XDECREF(py_V5);}\n",
      "00843\t    \n",
      "00844\tdouble __DUMMY_6;\n",
      "00845\t\n",
      "00846\t}\n",
      "00847\t__label_4:\n",
      "00848\t\n",
      "00849\t        if (V3) {\n",
      "00850\t            Py_XDECREF(V3);\n",
      "00851\t        }\n",
      "00852\t        \n",
      "00853\t    {Py_XDECREF(py_V3);}\n",
      "00854\t    \n",
      "00855\tdouble __DUMMY_4;\n",
      "00856\t\n",
      "00857\t}\n",
      "00858\t__label_2:\n",
      "00859\t\n",
      "00860\t    if (!__failure) {\n",
      "00861\t      \n",
      "00862\t        {Py_XDECREF(py_V1);}\n",
      "00863\t        if (!V1) {\n",
      "00864\t            Py_INCREF(Py_None);\n",
      "00865\t            py_V1 = Py_None;\n",
      "00866\t        }\n",
      "00867\t        else if ((void*)py_V1 != (void*)V1) {\n",
      "00868\t            py_V1 = (PyObject*)V1;\n",
      "00869\t        }\n",
      "00870\t\n",
      "00871\t        {Py_XINCREF(py_V1);}\n",
      "00872\t\n",
      "00873\t        if (V1 && !PyArray_ISALIGNED((PyArrayObject*) py_V1)) {\n",
      "00874\t            PyErr_Format(PyExc_NotImplementedError,\n",
      "00875\t                         \"c_sync: expected an aligned array, got non-aligned array of type %ld\"\n",
      "00876\t                         \" with %ld dimensions, with 3 last dims \"\n",
      "00877\t                         \"%ld, %ld, %ld\"\n",
      "00878\t                         \" and 3 last strides %ld %ld, %ld.\",\n",
      "00879\t                         (long int) PyArray_TYPE((PyArrayObject*) py_V1),\n",
      "00880\t                         (long int) PyArray_NDIM(V1),\n",
      "00881\t                         (long int) PyArray_NDIM(V1) >= 3 ?\n",
      "00882\t        PyArray_DIMS(V1)[PyArray_NDIM(V1)-3] : -1,\n",
      "00883\t                         (long int) PyArray_NDIM(V1) >= 2 ?\n",
      "00884\t        PyArray_DIMS(V1)[PyArray_NDIM(V1)-2] : -1,\n",
      "00885\t                         (long int) PyArray_NDIM(V1) >= 1 ?\n",
      "00886\t        PyArray_DIMS(V1)[PyArray_NDIM(V1)-1] : -1,\n",
      "00887\t                         (long int) PyArray_NDIM(V1) >= 3 ?\n",
      "00888\t        PyArray_STRIDES(V1)[PyArray_NDIM(V1)-3] : -1,\n",
      "00889\t                         (long int) PyArray_NDIM(V1) >= 2 ?\n",
      "00890\t        PyArray_STRIDES(V1)[PyArray_NDIM(V1)-2] : -1,\n",
      "00891\t                         (long int) PyArray_NDIM(V1) >= 1 ?\n",
      "00892\t        PyArray_STRIDES(V1)[PyArray_NDIM(V1)-1] : -1\n",
      "00893\t        );\n",
      "00894\t            {\n",
      "00895\t        __failure = 2;\n",
      "00896\t        if (!PyErr_Occurred()) {\n",
      "00897\t            PyErr_SetString(PyExc_RuntimeError,\n",
      "00898\t                \"Unexpected error in an Op's C code. \"\n",
      "00899\t                \"No Python exception was set.\");\n",
      "00900\t            }\n",
      "00901\t        goto __label_2;}\n",
      "00902\t        }\n",
      "00903\t        \n",
      "00904\t      PyObject* old = PyList_GET_ITEM(storage_V1, 0);\n",
      "00905\t      {Py_XINCREF(py_V1);}\n",
      "00906\t      PyList_SET_ITEM(storage_V1, 0, py_V1);\n",
      "00907\t      {Py_XDECREF(old);}\n",
      "00908\t    }\n",
      "00909\t    \n",
      "00910\t        if (V1) {\n",
      "00911\t            Py_XDECREF(V1);\n",
      "00912\t        }\n",
      "00913\t        \n",
      "00914\t    {Py_XDECREF(py_V1);}\n",
      "00915\t    \n",
      "00916\tdouble __DUMMY_2;\n",
      "00917\t\n",
      "00918\t}\n",
      "00919\t\n",
      "00920\t            \n",
      "00921\t        if (__failure) {\n",
      "00922\t            // When there is a failure, this code puts the exception\n",
      "00923\t            // in __ERROR.\n",
      "00924\t            PyObject* err_type = NULL;\n",
      "00925\t            PyObject* err_msg = NULL;\n",
      "00926\t            PyObject* err_traceback = NULL;\n",
      "00927\t            PyErr_Fetch(&err_type, &err_msg, &err_traceback);\n",
      "00928\t            if (!err_type) {err_type = Py_None;Py_INCREF(Py_None);}\n",
      "00929\t            if (!err_msg) {err_msg = Py_None; Py_INCREF(Py_None);}\n",
      "00930\t            if (!err_traceback) {err_traceback = Py_None; Py_INCREF(Py_None);}\n",
      "00931\t            PyObject* old_err_type = PyList_GET_ITEM(__ERROR, 0);\n",
      "00932\t            PyObject* old_err_msg = PyList_GET_ITEM(__ERROR, 1);\n",
      "00933\t            PyObject* old_err_traceback = PyList_GET_ITEM(__ERROR, 2);\n",
      "00934\t            PyList_SET_ITEM(__ERROR, 0, err_type);\n",
      "00935\t            PyList_SET_ITEM(__ERROR, 1, err_msg);\n",
      "00936\t            PyList_SET_ITEM(__ERROR, 2, err_traceback);\n",
      "00937\t            {Py_XDECREF(old_err_type);}\n",
      "00938\t            {Py_XDECREF(old_err_msg);}\n",
      "00939\t            {Py_XDECREF(old_err_traceback);}\n",
      "00940\t        }\n",
      "00941\t        // The failure code is returned to index what code block failed.\n",
      "00942\t        return __failure;\n",
      "00943\t        \n",
      "00944\t        }\n",
      "00945\t    };\n",
      "00946\t    }\n",
      "00947\t    \n",
      "00948\t\n",
      "00949\t        static int __struct_compiled_op_de61f4c333d06430fc7dc014bf04eb25_executor(__struct_compiled_op_de61f4c333d06430fc7dc014bf04eb25* self) {\n",
      "00950\t            return self->run();\n",
      "00951\t        }\n",
      "00952\t\n",
      "00953\t        static void __struct_compiled_op_de61f4c333d06430fc7dc014bf04eb25_destructor(void* executor, void* self) {\n",
      "00954\t            delete ((__struct_compiled_op_de61f4c333d06430fc7dc014bf04eb25*)self);\n",
      "00955\t        }\n",
      "00956\t        \n",
      "00957\t//////////////////////\n",
      "00958\t////  Functions\n",
      "00959\t//////////////////////\n",
      "00960\tstatic PyObject * instantiate(PyObject * self, PyObject *argtuple) {\n",
      "00961\t  assert(PyTuple_Check(argtuple));\n",
      "00962\t  if (4 != PyTuple_Size(argtuple)){ \n",
      "00963\t     PyErr_Format(PyExc_TypeError, \"Wrong number of arguments, expected 4, got %i\", (int)PyTuple_Size(argtuple));\n",
      "00964\t     return NULL;\n",
      "00965\t  }\n",
      "00966\t  __struct_compiled_op_de61f4c333d06430fc7dc014bf04eb25* struct_ptr = new __struct_compiled_op_de61f4c333d06430fc7dc014bf04eb25();\n",
      "00967\t  if (struct_ptr->init( PyTuple_GET_ITEM(argtuple, 0),PyTuple_GET_ITEM(argtuple, 1),PyTuple_GET_ITEM(argtuple, 2),PyTuple_GET_ITEM(argtuple, 3) ) != 0) {\n",
      "00968\t    delete struct_ptr;\n",
      "00969\t    return NULL;\n",
      "00970\t  }\n",
      "00971\t  PyObject* thunk = PyCObject_FromVoidPtrAndDesc((void*)(&__struct_compiled_op_de61f4c333d06430fc7dc014bf04eb25_executor), struct_ptr, __struct_compiled_op_de61f4c333d06430fc7dc014bf04eb25_destructor);\n",
      "00972\t  return thunk; }\n",
      "00973\t\n",
      "00974\t//////////////////////\n",
      "00975\t////  Module init\n",
      "00976\t//////////////////////\n",
      "00977\tstatic PyMethodDef MyMethods[] = {\n",
      "00978\t\t{\"instantiate\", instantiate, METH_VARARGS, \"undocumented\"} ,\n",
      "00979\t\t{NULL, NULL, 0, NULL}\n",
      "00980\t};\n",
      "00981\tPyMODINIT_FUNC initde61f4c333d06430fc7dc014bf04eb25(void){\n",
      "00982\t   import_array();\n",
      "00983\t   (void) Py_InitModule(\"de61f4c333d06430fc7dc014bf04eb25\", MyMethods);\n",
      "00984\t}\n",
      "00985\t\n",
      "Problem occurred during compilation with the command line below:\n",
      "C:\\TDM-GCC-64\\bin\\g++.exe -shared -g -O3 -fno-math-errno -Wno-unused-label -Wno-unused-variable -Wno-write-strings -march=sandybridge -mmmx -mno-3dnow -msse -msse2 -msse3 -mssse3 -mno-sse4a -mcx16 -msahf -mno-movbe -maes -mno-sha -mpclmul -mpopcnt -mno-abm -mno-lwp -mno-fma -mno-fma4 -mno-xop -mno-bmi -mno-bmi2 -mno-tbm -mavx -mno-avx2 -msse4.2 -msse4.1 -mno-lzcnt -mno-rtm -mno-hle -mno-rdrnd -mno-f16c -mno-fsgsbase -mno-rdseed -mno-prfchw -mno-adx -mfxsr -mxsave -mxsaveopt -mno-avx512f -mno-avx512er -mno-avx512cd -mno-avx512pf -mno-prefetchwt1 -mno-clflushopt -mno-xsavec -mno-xsaves -mno-avx512dq -mno-avx512bw -mno-avx512vl -mno-avx512ifma -mno-avx512vbmi -mno-clwb -mno-pcommit --param l1-cache-size=32 --param l1-cache-line-size=64 --param l2-cache-size=3072 -mtune=sandybridge -D NPY_NO_DEPRECATED_API=NPY_1_7_API_VERSION -m64 -DMS_WIN64 -IC:\\Users\\Yanjie\\Anaconda\\lib\\site-packages\\numpy\\core\\include -IC:\\Users\\Yanjie\\Anaconda\\include -IC:\\Users\\Yanjie\\Anaconda\\lib\\site-packages\\theano\\gof -o C:\\Users\\Yanjie\\AppData\\Local\\Theano\\compiledir_Windows-10-10.0.10586-Intel64_Family_6_Model_42_Stepping_7_GenuineIntel-2.7.11-64\\tmpzvqp1o\\de61f4c333d06430fc7dc014bf04eb25.pyd C:\\Users\\Yanjie\\AppData\\Local\\Theano\\compiledir_Windows-10-10.0.10586-Intel64_Family_6_Model_42_Stepping_7_GenuineIntel-2.7.11-64\\tmpzvqp1o\\mod.cpp -LC:\\Users\\Yanjie\\Anaconda\\libs -LC:\\Users\\Yanjie\\Anaconda -lpython27 -lblas\n"
     ]
    },
    {
     "ename": "Exception",
     "evalue": "('The following error happened while compiling the node', Dot22(X, Y), '\\n', 'Compilation failed (return status=1): C:\\\\Users\\\\Yanjie\\\\AppData\\\\Local\\\\Theano\\\\compiledir_Windows-10-10.0.10586-Intel64_Family_6_Model_42_Stepping_7_GenuineIntel-2.7.11-64\\\\tmpzvqp1o\\\\mod.cpp:3:31: fatal error: theano_mod_helper.h: No such file or directory\\r. compilation terminated.\\r. ', '[Dot22(X, Y)]')",
     "output_type": "error",
     "traceback": [
      "\u001b[1;31m---------------------------------------------------------------------------\u001b[0m",
      "\u001b[1;31mException\u001b[0m                                 Traceback (most recent call last)",
      "\u001b[1;32m<ipython-input-89-1e91345492a8>\u001b[0m in \u001b[0;36m<module>\u001b[1;34m()\u001b[0m\n\u001b[0;32m      8\u001b[0m \u001b[0mnp_end\u001b[0m \u001b[1;33m=\u001b[0m \u001b[0mtime\u001b[0m\u001b[1;33m.\u001b[0m\u001b[0mtime\u001b[0m\u001b[1;33m(\u001b[0m\u001b[1;33m)\u001b[0m\u001b[1;33m\u001b[0m\u001b[0m\n\u001b[0;32m      9\u001b[0m \u001b[0mX\u001b[0m\u001b[1;33m,\u001b[0m\u001b[0mY\u001b[0m \u001b[1;33m=\u001b[0m \u001b[0mtheano\u001b[0m\u001b[1;33m.\u001b[0m\u001b[0mtensor\u001b[0m\u001b[1;33m.\u001b[0m\u001b[0mmatrices\u001b[0m\u001b[1;33m(\u001b[0m\u001b[1;34m'XY'\u001b[0m\u001b[1;33m)\u001b[0m\u001b[1;33m\u001b[0m\u001b[0m\n\u001b[1;32m---> 10\u001b[1;33m \u001b[0mmf\u001b[0m \u001b[1;33m=\u001b[0m \u001b[0mtheano\u001b[0m\u001b[1;33m.\u001b[0m\u001b[0mfunction\u001b[0m\u001b[1;33m(\u001b[0m\u001b[1;33m[\u001b[0m\u001b[0mX\u001b[0m\u001b[1;33m,\u001b[0m\u001b[0mY\u001b[0m\u001b[1;33m]\u001b[0m\u001b[1;33m,\u001b[0m\u001b[0mX\u001b[0m\u001b[1;33m.\u001b[0m\u001b[0mdot\u001b[0m\u001b[1;33m(\u001b[0m\u001b[0mY\u001b[0m\u001b[1;33m)\u001b[0m\u001b[1;33m)\u001b[0m\u001b[1;33m\u001b[0m\u001b[0m\n\u001b[0m\u001b[0;32m     11\u001b[0m \u001b[0mt_start\u001b[0m \u001b[1;33m=\u001b[0m \u001b[0mtime\u001b[0m\u001b[1;33m.\u001b[0m\u001b[0mtime\u001b[0m\u001b[1;33m(\u001b[0m\u001b[1;33m)\u001b[0m\u001b[1;33m\u001b[0m\u001b[0m\n\u001b[0;32m     12\u001b[0m \u001b[0mtAB\u001b[0m \u001b[1;33m=\u001b[0m \u001b[0mmf\u001b[0m\u001b[1;33m(\u001b[0m\u001b[0mA\u001b[0m\u001b[1;33m,\u001b[0m\u001b[0mB\u001b[0m\u001b[1;33m)\u001b[0m\u001b[1;33m\u001b[0m\u001b[0m\n",
      "\u001b[1;32mC:\\Users\\Yanjie\\Anaconda\\lib\\site-packages\\theano\\compile\\function.pyc\u001b[0m in \u001b[0;36mfunction\u001b[1;34m(inputs, outputs, mode, updates, givens, no_default_updates, accept_inplace, name, rebuild_strict, allow_input_downcast, profile, on_unused_input)\u001b[0m\n",
      "\u001b[1;32mC:\\Users\\Yanjie\\Anaconda\\lib\\site-packages\\theano\\compile\\pfunc.pyc\u001b[0m in \u001b[0;36mpfunc\u001b[1;34m(params, outputs, mode, updates, givens, no_default_updates, accept_inplace, name, rebuild_strict, allow_input_downcast, profile, on_unused_input, output_keys)\u001b[0m\n",
      "\u001b[1;32mC:\\Users\\Yanjie\\Anaconda\\lib\\site-packages\\theano\\compile\\function_module.pyc\u001b[0m in \u001b[0;36morig_function\u001b[1;34m(inputs, outputs, mode, accept_inplace, name, profile, on_unused_input, output_keys)\u001b[0m\n",
      "\u001b[1;32mC:\\Users\\Yanjie\\Anaconda\\lib\\site-packages\\theano\\compile\\function_module.pyc\u001b[0m in \u001b[0;36mcreate\u001b[1;34m(self, input_storage, trustme, storage_map)\u001b[0m\n",
      "\u001b[1;32mC:\\Users\\Yanjie\\Anaconda\\lib\\site-packages\\theano\\gof\\link.pyc\u001b[0m in \u001b[0;36mmake_thunk\u001b[1;34m(self, input_storage, output_storage, storage_map)\u001b[0m\n",
      "\u001b[1;32mC:\\Users\\Yanjie\\Anaconda\\lib\\site-packages\\theano\\gof\\vm.pyc\u001b[0m in \u001b[0;36mmake_all\u001b[1;34m(self, profiler, input_storage, output_storage, storage_map)\u001b[0m\n",
      "\u001b[1;32mC:\\Users\\Yanjie\\Anaconda\\lib\\site-packages\\theano\\gof\\op.pyc\u001b[0m in \u001b[0;36mmake_thunk\u001b[1;34m(self, node, storage_map, compute_map, no_recycling)\u001b[0m\n",
      "\u001b[1;32mC:\\Users\\Yanjie\\Anaconda\\lib\\site-packages\\theano\\gof\\op.pyc\u001b[0m in \u001b[0;36mmake_c_thunk\u001b[1;34m(self, node, storage_map, compute_map, no_recycling)\u001b[0m\n",
      "\u001b[1;32mC:\\Users\\Yanjie\\Anaconda\\lib\\site-packages\\theano\\gof\\cc.pyc\u001b[0m in \u001b[0;36mmake_thunk\u001b[1;34m(self, input_storage, output_storage, storage_map, keep_lock)\u001b[0m\n",
      "\u001b[1;32mC:\\Users\\Yanjie\\Anaconda\\lib\\site-packages\\theano\\gof\\cc.pyc\u001b[0m in \u001b[0;36m__compile__\u001b[1;34m(self, input_storage, output_storage, storage_map, keep_lock)\u001b[0m\n",
      "\u001b[1;32mC:\\Users\\Yanjie\\Anaconda\\lib\\site-packages\\theano\\gof\\cc.pyc\u001b[0m in \u001b[0;36mcthunk_factory\u001b[1;34m(self, error_storage, in_storage, out_storage, storage_map, keep_lock)\u001b[0m\n",
      "\u001b[1;32mC:\\Users\\Yanjie\\Anaconda\\lib\\site-packages\\theano\\gof\\cmodule.pyc\u001b[0m in \u001b[0;36mmodule_from_key\u001b[1;34m(self, key, lnk, keep_lock)\u001b[0m\n",
      "\u001b[1;32mC:\\Users\\Yanjie\\Anaconda\\lib\\site-packages\\theano\\gof\\cc.pyc\u001b[0m in \u001b[0;36mcompile_cmodule\u001b[1;34m(self, location)\u001b[0m\n",
      "\u001b[1;32mC:\\Users\\Yanjie\\Anaconda\\lib\\site-packages\\theano\\gof\\cmodule.pyc\u001b[0m in \u001b[0;36mcompile_str\u001b[1;34m(module_name, src_code, location, include_dirs, lib_dirs, libs, preargs, py_module, hide_symbols)\u001b[0m\n",
      "\u001b[1;31mException\u001b[0m: ('The following error happened while compiling the node', Dot22(X, Y), '\\n', 'Compilation failed (return status=1): C:\\\\Users\\\\Yanjie\\\\AppData\\\\Local\\\\Theano\\\\compiledir_Windows-10-10.0.10586-Intel64_Family_6_Model_42_Stepping_7_GenuineIntel-2.7.11-64\\\\tmpzvqp1o\\\\mod.cpp:3:31: fatal error: theano_mod_helper.h: No such file or directory\\r. compilation terminated.\\r. ', '[Dot22(X, Y)]')"
     ]
    }
   ],
   "source": [
    "import numpy as np\n",
    "import time\n",
    "import theano\n",
    "A = np.random.rand(1000,10000).astype(theano.config.floatX)\n",
    "B = np.random.rand(10000,1000).astype(theano.config.floatX)\n",
    "np_start = time.time()\n",
    "AB = A.dot(B)\n",
    "np_end = time.time()\n",
    "X,Y = theano.tensor.matrices('XY')\n",
    "mf = theano.function([X,Y],X.dot(Y))\n",
    "t_start = time.time()\n",
    "tAB = mf(A,B)\n",
    "t_end = time.time()\n",
    "print(\"NP time: %f[s], theano time: %f[s] (times should be close when run on CPU!)\" %(\n",
    "                                           np_end-np_start, t_end-t_start))\n",
    "print(\"Result difference: %f\" % (np.abs(AB-tAB).max(), ))\n",
    "\n"
   ]
  },
  {
   "cell_type": "code",
   "execution_count": null,
   "metadata": {
    "collapsed": false
   },
   "outputs": [],
   "source": [
    "print aa[aa['minute']==789], bb[bb['minute']==789]"
   ]
  },
  {
   "cell_type": "code",
   "execution_count": null,
   "metadata": {
    "collapsed": true
   },
   "outputs": [],
   "source": [
    "class User(object):\n",
    "    def __init__(self, name, email):\n",
    "        self.name = name\n",
    "        self.email = email\n",
    "    def commit(self):\n",
    "        pass\n",
    "\n",
    "jason = User('jason', 'jason@email.com')\n",
    "jack = User('jack', 'jack@yahoo.com')"
   ]
  },
  {
   "cell_type": "code",
   "execution_count": 91,
   "metadata": {
    "collapsed": false
   },
   "outputs": [],
   "source": [
    "import os\n",
    "try:\n",
    "    user_paths = os.environ['PYTHONPATH'].split(os.pathsep)\n",
    "except KeyError:\n",
    "    user_paths = []"
   ]
  },
  {
   "cell_type": "code",
   "execution_count": 92,
   "metadata": {
    "collapsed": false
   },
   "outputs": [
    {
     "data": {
      "text/plain": [
       "[]"
      ]
     },
     "execution_count": 92,
     "metadata": {},
     "output_type": "execute_result"
    }
   ],
   "source": [
    "user_paths"
   ]
  },
  {
   "cell_type": "code",
   "execution_count": null,
   "metadata": {
    "collapsed": false
   },
   "outputs": [],
   "source": [
    "trainX, testX, trainY, testY = traintestsplit_tot[99]\n",
    "pred_X, pred_y = pr_data_tot[99]"
   ]
  },
  {
   "cell_type": "code",
   "execution_count": null,
   "metadata": {
    "collapsed": false
   },
   "outputs": [],
   "source": [
    "#trainX.drop('acc_time', axis=1, inplace=True)\n",
    "trainX.drop('day', axis=1, inplace=True)\n",
    "#testX.drop('acc_time', axis=1, inplace=True)\n",
    "testX.drop('day', axis=1, inplace=True)\n",
    "#pred_X.drop('acc_time', axis=1, inplace=True)\n",
    "pred_X.drop('day', axis=1, inplace=True)"
   ]
  },
  {
   "cell_type": "code",
   "execution_count": null,
   "metadata": {
    "collapsed": false,
    "scrolled": true
   },
   "outputs": [],
   "source": [
    "## using RF\n",
    "clf_rf = RandomForestClassifier()#n_estimators=1000, max_depth=100)\n",
    "clf_rf.fit(trainX, trainY)\n",
    "pred_rf = clf_rf.predict(testX)\n",
    "print precision_score(testY, pred_rf, average=None)\n",
    "print accuracy_score(testY, pred_rf)\n",
    "print recall_score(testY, pred_rf, average='macro')\n",
    "print recall_score(testY, pred_rf, average='micro')\n",
    "print confusion_matrix(testY, pred_rf)\n",
    "\n",
    "pred_rf = clf_rf.predict(pred_X)\n",
    "print precision_score(pred_y, pred_rf, average=None)\n",
    "print accuracy_score(pred_y, pred_rf)\n",
    "print recall_score(pred_y, pred_rf, average='macro')\n",
    "print recall_score(pred_y, pred_rf, average='micro')\n",
    "print confusion_matrix(pred_y, pred_rf)\n"
   ]
  },
  {
   "cell_type": "code",
   "execution_count": null,
   "metadata": {
    "collapsed": true
   },
   "outputs": [],
   "source": []
  },
  {
   "cell_type": "code",
   "execution_count": null,
   "metadata": {
    "collapsed": true
   },
   "outputs": [],
   "source": [
    "# knn\n",
    "clf_knn = KNeighborsClassifier(n_neighbors=1).fit(trainX, trainY)\n",
    "pred_knn = clf_knn.predict(testX)\n",
    "#print roc_auc_score(testY, pred_knn)\n",
    "print precision_score(testY, pred_knn, average=None)\n",
    "print accuracy_score(testY, pred_knn)\n",
    "print recall_score(testY, pred_knn, average='macro')\n",
    "print recall_score(testY, pred_knn, average='micro')\n",
    "print confusion_matrix(testY, pred_knn)\n",
    "\n",
    "pred_knn = clf_knn.predict(pred_X)\n",
    "print precision_score(pred_y, pred_knn, average=None)\n",
    "print accuracy_score(pred_y, pred_knn)\n",
    "print recall_score(pred_y, pred_knn, average='macro')\n",
    "print recall_score(pred_y, pred_knn, average='micro')\n",
    "print confusion_matrix(pred_y, pred_knn)"
   ]
  },
  {
   "cell_type": "code",
   "execution_count": null,
   "metadata": {
    "collapsed": false
   },
   "outputs": [],
   "source": [
    "# knn\n",
    "clf_knn = KNeighborsClassifier(n_neighbors=1).fit(trainX, trainY)\n",
    "pred_knn = clf_knn.predict(testX)\n",
    "#print roc_auc_score(testY, pred_knn)\n",
    "print precision_score(testY, pred_knn, average=None)\n",
    "print accuracy_score(testY, pred_knn)\n",
    "print recall_score(testY, pred_knn, average='macro')\n",
    "print recall_score(testY, pred_knn, average='micro')\n",
    "print confusion_matrix(testY, pred_knn)\n",
    "\n",
    "pred_knn = clf_knn.predict(pred_X)\n",
    "print precision_score(pred_y, pred_knn, average=None)\n",
    "print accuracy_score(pred_y, pred_knn)\n",
    "print recall_score(pred_y, pred_knn, average='macro')\n",
    "print recall_score(pred_y, pred_knn, average='micro')\n",
    "print confusion_matrix(pred_y, pred_knn)\n"
   ]
  },
  {
   "cell_type": "code",
   "execution_count": null,
   "metadata": {
    "collapsed": false
   },
   "outputs": [],
   "source": [
    "path = './agentdata.txt'\n",
    "columnname = [\"todrop\", \"acc_time\", \"day\", \"minute\", \"pid\", \"zone\", \"status\", \"xcor\", \"ycor\", \"tid\"]\n",
    "agentdata = rawimport(path, columnname)\n",
    "dt_stamp = [datetime.strptime(x,  '%Y-%m-%d %H:%M') for x in agentdata[\"acc_time\"]]\n",
    "dow = [datetime.isoweekday(x) for x in dt_stamp]\n",
    "hr = [x.hour for x in dt_stamp]\n",
    "minu = [x.minute for x in dt_stamp]\n",
    "agentdata['dow'] = dow\n",
    "agentdata['hour'] = hr\n",
    "agentdata['minute'] = minu\n",
    "\n",
    "\n",
    "path = './mobiletowers.txt'\n",
    "columnname = [\"todrop\", \"acc_time\", \"day\", \"minute\", \"pid\", \"tpid\", \"tzone\", \"radius\", \"tid\", \"txcor\", \"tycor\"]\n",
    "mobiledata = rawimport(path, columnname)\n",
    "\n"
   ]
  },
  {
   "cell_type": "code",
   "execution_count": null,
   "metadata": {
    "collapsed": true
   },
   "outputs": [],
   "source": [
    "dt_stamp = []\n",
    "for x in agentdata[\"acc_time\"].values:\n",
    "    dt_stamp.append(datetime.strptime(x, '%Y-%m-%d %H:%M'))\n",
    "dt_stamp"
   ]
  },
  {
   "cell_type": "code",
   "execution_count": null,
   "metadata": {
    "collapsed": false
   },
   "outputs": [],
   "source": [
    "#'agentdata['hour'] = hr\n",
    "agentdata['minute'] = minu"
   ]
  },
  {
   "cell_type": "code",
   "execution_count": null,
   "metadata": {
    "collapsed": false
   },
   "outputs": [],
   "source": [
    "\n",
    "for x in agentdata[\"acc_time\"].values:\n",
    "    print parse(x)\n",
    "\n"
   ]
  },
  {
   "cell_type": "code",
   "execution_count": null,
   "metadata": {
    "collapsed": false
   },
   "outputs": [],
   "source": [
    "# leave the last n day(s) out for testing purpose\n",
    "\n",
    "#mobiledata_ML = mobiledata[mobiledata['day'] <= (mobiledata['day'].max() - last_n)]\n",
    "mobiledata_ML = mobiledata.drop('radius', axis = 1)\n",
    "mobiledata_ML.drop('tid', axis=1, inplace=True)\n",
    "mobiledata_ML.drop('txcor', axis=1, inplace=True)\n",
    "mobiledata_ML.drop('tycor', axis=1, inplace=True)"
   ]
  },
  {
   "cell_type": "code",
   "execution_count": null,
   "metadata": {
    "collapsed": true
   },
   "outputs": [],
   "source": [
    "# prepare for ML\n",
    "X = mobiledata_ML.drop('tzone', axis=1)\n",
    "y = mobiledata_ML['tzone']\n",
    "trainX, testX, trainY, testY = train_test_split(X, y)"
   ]
  },
  {
   "cell_type": "code",
   "execution_count": null,
   "metadata": {
    "collapsed": false
   },
   "outputs": [],
   "source": [
    "#k fold cross-validation\n",
    "from sklearn.cross_validation import KFold\n",
    "\n",
    "for train_indices, test_indices in KFold(len(X), n_folds=3):\n",
    "    fold_trainX = X.iloc[train_indices, :]\n",
    "    fold_testX  = X.iloc[test_indices, :]\n",
    "    fold_trainY = y[train_indices]\n",
    "    fold_testY  = y[test_indices]\n",
    "    clf_knn = KNeighborsClassifier(n_neighbors=2).fit(fold_trainX, fold_trainY)\n",
    "    pred_knn = clf_knn.predict(fold_testX)\n",
    "    #print roc_auc_score(testY, pred_knn)\n",
    "    print precision_score(fold_testY, pred_knn, average='micro')  \n",
    "    print recall_score(fold_testY, pred_knn, average='micro')\n",
    "    confusion_matrix(fold_testY, pred_knn)\n",
    "    #print fold_trainY\n",
    "\n"
   ]
  },
  {
   "cell_type": "code",
   "execution_count": null,
   "metadata": {
    "collapsed": false
   },
   "outputs": [],
   "source": [
    "\n",
    "\n",
    "# knn\n",
    "clf_knn = KNeighborsClassifier(n_neighbors=1).fit(trainX, trainY)\n",
    "pred_knn = clf_knn.predict(testX)\n",
    "#print roc_auc_score(testY, pred_knn)\n",
    "print precision_score(testY, pred_knn, average=None)\n",
    "print accuracy_score(testY, pred_knn)\n",
    "print recall_score(testY, pred_knn, average='macro')\n",
    "print recall_score(testY, pred_knn, average='micro')\n",
    "print confusion_matrix(testY, pred_knn)\n",
    "cross_val_score(clf_knn, X, y, cv=3)"
   ]
  },
  {
   "cell_type": "code",
   "execution_count": null,
   "metadata": {
    "collapsed": false
   },
   "outputs": [],
   "source": [
    "## using ridge regression\n",
    "clf_rdg = RidgeClassifier(alpha=1).fit(trainX,trainY)\n",
    "pred_rdg = clf_rdg.predict(testX)\n",
    "print precision_score(testY, pred_rdg, average='micro')  \n",
    "print confusion_matrix(testY, pred_rdg)\n",
    "cross_val_score(clf_rdg, X, y, cv=3)"
   ]
  },
  {
   "cell_type": "code",
   "execution_count": null,
   "metadata": {
    "collapsed": false
   },
   "outputs": [],
   "source": [
    "## using RF\n",
    "clf_rf = RandomForestClassifier(n_estimators=100, max_depth=100)\n",
    "clf_rf.fit(trainX, trainY)\n",
    "pred_rf = clf_rf.predict(testX)\n",
    "print precision_score(testY, pred_rf, average='micro')  \n",
    "print confusion_matrix(testY, pred_rf)\n",
    "cross_val_score(clf_rf, X, y, cv=3)"
   ]
  },
  {
   "cell_type": "code",
   "execution_count": null,
   "metadata": {
    "collapsed": false
   },
   "outputs": [],
   "source": [
    "## using GBDT\n",
    "clf_gb = GradientBoostingClassifier(n_estimators=100, max_depth=3)\n",
    "clf_gb.fit(trainX, trainY)\n",
    "pred_gb = clf_gb.predict(testX)\n",
    "print precision_score(testY, pred_gb, average='micro')  \n",
    "print confusion_matrix(testY, pred_gb)\n",
    "cross_val_score(clf_gb, X, y, cv=3)\n",
    "#test_qualities = []\n",
    "# for p in clf_gb.staged_predict_proba(testX):\n",
    "#     test_qualities.append(precision_score(testY, p[:, 1]))\n",
    "# plt.plot(test_qualities)"
   ]
  },
  {
   "cell_type": "code",
   "execution_count": null,
   "metadata": {
    "collapsed": false
   },
   "outputs": [],
   "source": [
    "last_n = 1\n",
    "last_minutes = last_n * (-1440)\n",
    "pred_X = agentdata[last_minutes:].iloc[:,0:4]\n",
    "pred_X['tpid'] = 0\n",
    "pred_y = agentdata[last_minutes:].iloc[:,4]\n",
    "\n",
    "# pred_knn = trained_clf.clf1.predict(pred_X)\n",
    "# #print roc_auc_score(testY, pred_knn)\n",
    "# knn_AC = accuracy_score(pred_y, pred_knn)\n",
    "# knn_RC = recall_score(pred_y, pred_knn, average='macro')\n",
    "# knn_CM = confusion_matrix(pred_y, pred_knn)\n",
    "\n",
    "# ## using ridge regression\n",
    "# pred_rdg = trained_clf.clf2.predict(pred_X)\n",
    "# rdg_AC = accuracy_score(pred_y, pred_rdg)\n",
    "# rdg_RC = recall_score(pred_y, pred_rdg, average='macro')  \n",
    "# rdg_CM = confusion_matrix(pred_y, pred_rdg)\n",
    "\n",
    "# ## using RF\n",
    "# pred_rf = trained_clf.clf3.predict(pred_X)\n",
    "# rf_AC = accuracy_score(pred_y, pred_rf)\n",
    "# rf_RC = recall_score(pred_y, pred_rf, average='macro')  \n",
    "# rf_CM = confusion_matrix(pred_y, pred_rf)\n",
    "\n",
    "## using GBDT\n",
    "pred_gb = clf_gb.predict(pred_X)\n",
    "gb_AC = accuracy_score(pred_y, pred_gb)\n",
    "gb_RC = recall_score(pred_y, pred_gb, average='macro')  \n",
    "gb_CM = confusion_matrix(pred_y, pred_gb)"
   ]
  },
  {
   "cell_type": "code",
   "execution_count": null,
   "metadata": {
    "collapsed": false
   },
   "outputs": [],
   "source": [
    "gb_CM"
   ]
  },
  {
   "cell_type": "code",
   "execution_count": null,
   "metadata": {
    "collapsed": false
   },
   "outputs": [],
   "source": [
    "## using SVM\n",
    "## solving multi-classification problem?\n",
    "clf_svc = SVC()\n",
    "clf_svc.fit(trainX, trainY)\n",
    "pred_svc = clf_svc.predict(testX)\n",
    "print precision_score(testY, pred_svc, average='micro')  \n",
    "print confusion_matrix(testY, pred_svc)\n",
    "cross_val_score(clf_svc, X, y, cv=3)\n"
   ]
  },
  {
   "cell_type": "code",
   "execution_count": null,
   "metadata": {
    "collapsed": false
   },
   "outputs": [],
   "source": [
    "## prediction\n",
    "# pre_agent1 = mobiledata[:1]\n",
    "# pre_agent = pd.concat([pre_agent1]*1440)\n",
    "# pre_agent['day']=mobiledata['day'].max()+1\n",
    "# pre_agent['minute']=range(0,1440)\n",
    "# pre_agent['acc_time']=pre_agent['minute'] + pre_agent['day']*1440\n",
    "# pre_agent.drop('tzone', axis=1, inplace=True)\n",
    "# pre_agent.drop('radius', axis=1, inplace=True)\n",
    "# pre_agent.drop('tid', axis=1, inplace=True)\n",
    "# pre_agent.drop('txcor', axis=1, inplace=True)\n",
    "# pre_agent.drop('tycor', axis=1, inplace=True)\n",
    "pred_X = agentdata[-1440:].iloc[:,0:4]\n",
    "pred_X['tpid'] = 0\n",
    "pred_y = agentdata[-1440:].iloc[:,4]\n"
   ]
  },
  {
   "cell_type": "code",
   "execution_count": null,
   "metadata": {
    "collapsed": false
   },
   "outputs": [],
   "source": [
    "\n",
    "pred_knn = clf_knn.predict(pred_X)\n",
    "#print roc_auc_score(testY, pred_knn)\n",
    "knn_PR = precision_score(pred_y, pred_knn, average='micro')\n",
    "knn_CM = confusion_matrix(pred_y, pred_knn)\n",
    "\n",
    "## using ridge regression\n",
    "pred_rdg = clf_rdg.predict(pred_X)\n",
    "rdg_PR = precision_score(pred_y, pred_rdg, average='micro')  \n",
    "rdg_CM = confusion_matrix(pred_y, pred_rdg)\n",
    "\n",
    "## using RF\n",
    "pred_rf = clf_rf.predict(pred_X)\n",
    "rf_PR = precision_score(pred_y, pred_rf, average='micro')  \n",
    "rf_CM = confusion_matrix(pred_y, pred_rf)\n",
    "\n",
    "## using GBDT\n",
    "pred_gb = clf_gb.predict(pred_X)\n",
    "gb_PR = precision_score(pred_y, pred_gb, average='micro')  \n",
    "gb_CM = confusion_matrix(pred_y, pred_gb)\n",
    "\n",
    "print knn_PR, rdg_PR, rf_PR, gb_PR\n"
   ]
  },
  {
   "cell_type": "code",
   "execution_count": null,
   "metadata": {
    "collapsed": false
   },
   "outputs": [],
   "source": [
    "pred_gb\n",
    "\n",
    "\n",
    "\n",
    "\n"
   ]
  },
  {
   "cell_type": "code",
   "execution_count": null,
   "metadata": {
    "collapsed": true
   },
   "outputs": [],
   "source": [
    "pre_agent"
   ]
  },
  {
   "cell_type": "code",
   "execution_count": null,
   "metadata": {
    "collapsed": true
   },
   "outputs": [],
   "source": [
    "# prepare for ML\n",
    "X = mobiledata_fs_filled.drop('zone', axis=1)\n",
    "y = mobiledata_fs_filled['zone']\n",
    "trainX, testX, trainY, testY = train_test_split(X, y)\n",
    "\n",
    "## using KNN\n",
    "# weights might need to be changed - more weights towards the recent data?\n",
    "# metrics? canberra, minkowski\n",
    "clf_knn = KNeighborsClassifier(n_neighbors=1).fit(trainX, trainY)\n",
    "pred_knn = clf_knn.predict(testX)\n",
    "#print roc_auc_score(testY, pred_knn)\n",
    "knn_PR = precision_score(testY, pred_knn, average='micro')\n",
    "knn_CM = confusion_matrix(testY, pred_knn)\n",
    "\n",
    "## using ridge regression\n",
    "clf_rdg = RidgeClassifier(alpha=1).fit(trainX,trainY)\n",
    "pred_rdg = clf_rdg.predict(testX)\n",
    "rdg_PR = precision_score(testY, pred_rdg, average='micro')  \n",
    "rdg_CM = confusion_matrix(testY, pred_rdg)\n",
    "\n",
    "## using RF\n",
    "clf_rf = RandomForestClassifier(n_estimators=100, max_depth=10)\n",
    "clf_rf.fit(trainX, trainY)\n",
    "pred_rf = clf_rf.predict(testX)\n",
    "rf_PR = precision_score(testY, pred_rf, average='micro')  \n",
    "rf_CM = confusion_matrix(testY, pred_rf)\n",
    "\n",
    "## using GBDT\n",
    "clf_gb = GradientBoostingClassifier(n_estimators=100, max_depth=3)\n",
    "clf_gb.fit(trainX, trainY)\n",
    "pred_gb = clf_gb.predict(testX)\n",
    "gb_PR = precision_score(testY, pred_gb, average='micro')  \n",
    "gb_CM = confusion_matrix(testY, pred_gb)"
   ]
  },
  {
   "cell_type": "code",
   "execution_count": null,
   "metadata": {
    "collapsed": true
   },
   "outputs": [],
   "source": []
  },
  {
   "cell_type": "code",
   "execution_count": null,
   "metadata": {
    "collapsed": true
   },
   "outputs": [],
   "source": []
  },
  {
   "cell_type": "code",
   "execution_count": null,
   "metadata": {
    "collapsed": true
   },
   "outputs": [],
   "source": []
  },
  {
   "cell_type": "code",
   "execution_count": null,
   "metadata": {
    "collapsed": true
   },
   "outputs": [],
   "source": []
  },
  {
   "cell_type": "code",
   "execution_count": null,
   "metadata": {
    "collapsed": true
   },
   "outputs": [],
   "source": []
  },
  {
   "cell_type": "code",
   "execution_count": null,
   "metadata": {
    "collapsed": true
   },
   "outputs": [],
   "source": []
  },
  {
   "cell_type": "code",
   "execution_count": null,
   "metadata": {
    "collapsed": true
   },
   "outputs": [],
   "source": [
    "#class ReturnValue(object):\n",
    "#    def __init__(self, y0, y1):\n",
    "#        self.y0 = y0\n",
    "#        self.y1 = y1\n",
    "\n",
    "def data_input():\n",
    "    path = './agentdata.txt'\n",
    "    columnname = [\"todrop\", \"acc_time\", \"day\", \"minute\", \"pid\", \"zone\", \"status\", \"xcor\", \"ycor\", \"tid\"]\n",
    "    agentdata = rawimport(path, columnname)\n",
    "    \n",
    "    path = './mobiletowers.txt'\n",
    "    columnname = [\"todrop\", \"acc_time\", \"day\", \"minute\", \"pid\", \"tpid\", \"tzone\", \"radius\", \"tid\", \"txcor\", \"tycor\"]\n",
    "    mobiledata = rawimport(path, columnname)\n",
    "    \n",
    "    # extend data to full (missing data shown as NaN)\n",
    "    mobiledata = mobiledata.drop(labels = [\"tid\"], axis=1)\n",
    "\n",
    "    mobiledata_fs = pd.merge(agentdata, mobiledata, how = 'left', on = [\"acc_time\", 'day', 'minute', \"pid\"])\n",
    "    #mobiledata_fs = pd.merge(agentdata_ri, mobiledata_ri, how = 'left', left_index = True, right_index = True)\n",
    "    #print mobiledata_fs.count()\n",
    "    #mobiledata_fs\n",
    "# fill the missing data using NN (k=1)\n",
    "# the reason why \"day\" and \"minute\" need to be removed before imputation is that the imputation is done based on features.\n",
    "# in other words, the day and minute will have impacts on the imputed results\n",
    "# to maintain a continuity of a user between days it is necessary to remove \"day\" and \"minute\" before imputation and add them back later\n",
    "# also no need to imputate tower id\n",
    "    mobiledata_fs_test = mobiledata_fs.drop(labels = [\"day\"], axis=1)\n",
    "    mobiledata_fs_test = mobiledata_fs_test.drop(labels = [\"minute\"], axis=1)\n",
    "    mobiledata_fs_test = mobiledata_fs_test.drop(labels = [\"tid\"], axis=1)\n",
    "    mobiledata_fs_filled = KNN(k=1).complete(mobiledata_fs_test)\n",
    "    mobiledata_fs_filled = pd.DataFrame(mobiledata_fs_filled, columns = [\"acc_time\", \"pid\", \"zone\", \n",
    "                                                                     \"status\", \"xcor\", \"ycor\", \"tpid\", \"tzone\", \n",
    "                                                                     \"radius\", \"txcor\", \"tycor\"])\n",
    "# add the day and minute information back\n",
    "    mobiledata_daymin = mobiledata_fs.ix[:,[0, 1, 2, 3, 8]]\n",
    "    mobiledata_fs_filled = pd.merge(mobiledata_daymin, mobiledata_fs_filled, how = 'left', on = [\"acc_time\", \"pid\"])\n",
    "    mobiledata_cp = pd.merge(mobiledata_fs, mobiledata_fs_filled, how = 'left', on = [\"acc_time\", 'day', 'minute', \"pid\"])\n",
    "    mobiledata_fs_filled.fillna(-1, inplace=True)\n",
    "    \n",
    "    return (mobiledata_fs, mobiledata_fs_filled, mobiledata_cp)"
   ]
  },
  {
   "cell_type": "code",
   "execution_count": null,
   "metadata": {
    "collapsed": false
   },
   "outputs": [],
   "source": [
    "#run_NL()\n",
    "\n",
    "mobiledata_fs, mobiledata_fs_filled, mobiledata_cp = data_input()\n",
    "#miss_imput()"
   ]
  },
  {
   "cell_type": "code",
   "execution_count": null,
   "metadata": {
    "collapsed": false,
    "scrolled": true
   },
   "outputs": [],
   "source": [
    "print mobiledata_fs_filled.count()"
   ]
  },
  {
   "cell_type": "code",
   "execution_count": null,
   "metadata": {
    "collapsed": false
   },
   "outputs": [],
   "source": [
    "mobiledata_fs_filled.zone.max()\n"
   ]
  },
  {
   "cell_type": "code",
   "execution_count": null,
   "metadata": {
    "collapsed": false
   },
   "outputs": [],
   "source": [
    "fig = plt.figure(figsize=(20,10))\n",
    "ax1 = fig.add_subplot(2, 2, 1)\n",
    "ax2 = fig.add_subplot(2, 2, 2)\n",
    "mobiledata_sel = mobiledata_cp[mobiledata_cp['day'] == 0]\n",
    "ax1.scatter(mobiledata_sel['minute'], mobiledata_sel['tzone_x'])\n",
    "ax1.set_xticks(range(0, 1440, 200))\n",
    "ax1.set_yticks(range(0, 45, 15))\n",
    "ax2.plot(mobiledata_sel['minute'], mobiledata_sel['tzone_y'])\n",
    "ax2.set_xticks(range(0, 1440, 200))\n",
    "ax2.set_yticks(range(0, 45, 15))"
   ]
  },
  {
   "cell_type": "code",
   "execution_count": null,
   "metadata": {
    "collapsed": false
   },
   "outputs": [],
   "source": [
    "# checking the distribution of mobile phone calls\n",
    "fig2 = plt.figure(figsize=(10,5))\n",
    "ax = fig2.add_subplot(1, 1, 1)\n",
    "#ax.plot(mobiledata_fs['minute'][pd.notnull(mobiledata_fs['tzone'])], 'k.')\n",
    "#ax.plot(pd.notnull(mobiledata_fs['tzone']), 'k.')\n",
    "#ax.set_yticks([0, 1, 2])\n",
    "(mobiledata_fs['minute'][pd.notnull(mobiledata_fs['tzone'])]).hist(bins=12)\n",
    "#plt.hist(mobiledata_fs['minute'][pd.notnull(mobiledata_fs['tzone'])], bins=50)"
   ]
  },
  {
   "cell_type": "code",
   "execution_count": null,
   "metadata": {
    "collapsed": true
   },
   "outputs": [],
   "source": [
    "# ML\n",
    "def NL_ML(mobiledata_fs_filled):\n",
    "    # prepare for ML\n",
    "    X = mobiledata_fs_filled.drop('zone', axis=1)\n",
    "    y = mobiledata_fs_filled['zone']\n",
    "    trainX, testX, trainY, testY = train_test_split(X, y)\n",
    "    \n",
    "    ## using KNN\n",
    "    # weights might need to be changed - more weights towards the recent data?\n",
    "    # metrics? canberra, minkowski\n",
    "    clf_knn = KNeighborsClassifier(n_neighbors=1).fit(trainX, trainY)\n",
    "    pred_knn = clf_knn.predict(testX)\n",
    "    #print roc_auc_score(testY, pred_knn)\n",
    "    knn_PR = precision_score(testY, pred_knn, average='micro')\n",
    "    knn_CM = confusion_matrix(testY, pred_knn)\n",
    "    \n",
    "    ## using ridge regression\n",
    "    clf_rdg = RidgeClassifier(alpha=1).fit(trainX,trainY)\n",
    "    pred_rdg = clf_rdg.predict(testX)\n",
    "    rdg_PR = precision_score(testY, pred_rdg, average='micro')  \n",
    "    rdg_CM = confusion_matrix(testY, pred_rdg)\n",
    "    \n",
    "    ## using RF\n",
    "    clf_rf = RandomForestClassifier(n_estimators=100, max_depth=10)\n",
    "    clf_rf.fit(trainX, trainY)\n",
    "    pred_rf = clf_rf.predict(testX)\n",
    "    rf_PR = precision_score(testY, pred_rf, average='micro')  \n",
    "    rf_CM = confusion_matrix(testY, pred_rf)\n",
    "    \n",
    "    ## using GBDT\n",
    "    clf_gb = GradientBoostingClassifier(n_estimators=100, max_depth=3)\n",
    "    clf_gb.fit(trainX, trainY)\n",
    "    pred_gb = clf_gb.predict(testX)\n",
    "    gb_PR = precision_score(testY, pred_gb, average='micro')  \n",
    "    gb_CM = confusion_matrix(testY, pred_gb)\n",
    "    \n",
    "    return (knn_PR, knn_CM, rdg_PR, rdg_CM, rf_PR, rf_CM, gb_PR, gb_CM)"
   ]
  },
  {
   "cell_type": "code",
   "execution_count": null,
   "metadata": {
    "collapsed": false
   },
   "outputs": [],
   "source": []
  },
  {
   "cell_type": "code",
   "execution_count": null,
   "metadata": {
    "collapsed": false
   },
   "outputs": [],
   "source": []
  },
  {
   "cell_type": "code",
   "execution_count": null,
   "metadata": {
    "collapsed": false
   },
   "outputs": [],
   "source": []
  },
  {
   "cell_type": "code",
   "execution_count": null,
   "metadata": {
    "collapsed": false
   },
   "outputs": [],
   "source": [
    "fig3 = plt.figure(figsize=(10,5))\n",
    "ax = fig3.add_subplot(1, 1, 1)\n",
    "#ax.plot(mobiledata_fs['minute'][pd.notnull(mobiledata_fs['tzone'])], 'k.')\n",
    "#ax.plot(pd.notnull(mobiledata_fs['tzone']), 'k.')\n",
    "#ax.set_yticks([0, 1, 2])\n",
    "ax.plot(knn_all_PR, label='NN', color=\"g\")\n",
    "ax.plot(rdg_all_PR, label='Ridge', color=\"b\")\n",
    "ax.plot(rf_all_PR, label='RF', color=\"y\")\n",
    "ax.plot(gb_all_PR, label='GBDT', color=\"r\")\n",
    "ax.set_yticks([0, 0.2, 0.4, 0.6, 0.8, 1])\n",
    "ax.set_ylabel(\"precision\")\n",
    "ax.set_xlabel(\"Call Frequency - number of calls per day\")\n",
    "ax.set_xticklabels(range(1,10))\n",
    "ax.legend(loc='best')"
   ]
  },
  {
   "cell_type": "code",
   "execution_count": null,
   "metadata": {
    "collapsed": false
   },
   "outputs": [],
   "source": [
    "knn_all_PR"
   ]
  },
  {
   "cell_type": "code",
   "execution_count": null,
   "metadata": {
    "collapsed": false
   },
   "outputs": [],
   "source": [
    "t = NL_ML(comdata_fs_filled)"
   ]
  },
  {
   "cell_type": "code",
   "execution_count": null,
   "metadata": {
    "collapsed": false
   },
   "outputs": [],
   "source": [
    "print gb_all_PR\n"
   ]
  },
  {
   "cell_type": "code",
   "execution_count": null,
   "metadata": {
    "collapsed": false
   },
   "outputs": [],
   "source": [
    "print t\n"
   ]
  },
  {
   "cell_type": "code",
   "execution_count": null,
   "metadata": {
    "collapsed": false
   },
   "outputs": [],
   "source": [
    "# prepare for ML\n",
    "\n",
    "X = mobiledata_fs_filled.drop('zone', axis=1)\n",
    "y = mobiledata_fs_filled['zone']\n",
    "\n",
    "trainX, testX, trainY, testY = train_test_split(X, y)\n"
   ]
  },
  {
   "cell_type": "code",
   "execution_count": null,
   "metadata": {
    "collapsed": false
   },
   "outputs": [],
   "source": [
    "## using KNN\n",
    "# weights might need to be changed - more weights towards the recent data?\n",
    "# metrics? canberra, minkowski\n",
    "\n",
    "\n",
    "clf_knn = KNeighborsClassifier(n_neighbors=1).fit(trainX, trainY)\n",
    "pred_knn = clf_knn.predict(testX)\n",
    "#print roc_auc_score(testY, pred_knn)\n",
    "print precision_score(testY, pred_knn, average='micro')  \n",
    "print recall_score(testY, pred_knn, average='micro')\n",
    "confusion_matrix(testY, pred_knn)"
   ]
  },
  {
   "cell_type": "code",
   "execution_count": null,
   "metadata": {
    "collapsed": false
   },
   "outputs": [],
   "source": [
    "pred_knn.shape"
   ]
  },
  {
   "cell_type": "code",
   "execution_count": null,
   "metadata": {
    "collapsed": false
   },
   "outputs": [],
   "source": [
    "testX, pred_knn"
   ]
  },
  {
   "cell_type": "code",
   "execution_count": null,
   "metadata": {
    "collapsed": false
   },
   "outputs": [],
   "source": [
    "## using Ridge\n",
    "\n",
    "clf_rdg = RidgeClassifier(alpha=1).fit(trainX,trainY)\n",
    "pred_rdg = clf_rdg.predict(testX)\n",
    "print precision_score(testY, pred_rdg, average='micro')  \n",
    "print recall_score(testY, pred_rdg, average='micro')\n",
    "confusion_matrix(testY, pred_rdg)"
   ]
  },
  {
   "cell_type": "code",
   "execution_count": null,
   "metadata": {
    "collapsed": true
   },
   "outputs": [],
   "source": [
    "## using Lasso\n",
    "\n",
    "clf_las = Lasso(alpha=1).fit(trainX,trainY)\n",
    "pred_las = clf_las.predict(testX)\n",
    "print precision_score(testY, pred_las, average='micro')  \n",
    "print recall_score(testY, pred_las, average='micro')\n",
    "confusion_matrix(testY, pred_las)"
   ]
  },
  {
   "cell_type": "code",
   "execution_count": null,
   "metadata": {
    "collapsed": false
   },
   "outputs": [],
   "source": [
    "## using RF\n",
    "\n",
    "clf_rf = RandomForestClassifier(n_estimators=100, max_depth=10)\n",
    "clf_rf.fit(trainX, trainY)\n",
    "pred_rf = clf_rf.predict(testX)\n",
    "print precision_score(testY, pred_rf, average='micro')  \n",
    "print recall_score(testY, pred_rf, average='micro')\n",
    "confusion_matrix(testY, pred_rf)"
   ]
  },
  {
   "cell_type": "code",
   "execution_count": null,
   "metadata": {
    "collapsed": false
   },
   "outputs": [],
   "source": [
    "## using GBDT\n",
    "\n",
    "clf_gb = GradientBoostingClassifier(n_estimators=100, max_depth=3)\n",
    "clf_gb.fit(trainX, trainY)\n",
    "pred_gb = clf_gb.predict(testX)\n",
    "print precision_score(testY, pred_gb, average='micro')  \n",
    "print recall_score(testY, pred_gb, average='micro')\n",
    "confusion_matrix(testY, pred_gb)"
   ]
  },
  {
   "cell_type": "code",
   "execution_count": null,
   "metadata": {
    "collapsed": true
   },
   "outputs": [],
   "source": [
    "# neural network\n",
    "def fit_predict_NN(trainX, trainY, testX, activate_functions, hidden_layers):\n",
    "    X_ = theano.shared(trainX, name='X')\n",
    "    y_ = theano.shared(trainY, name='y')\n",
    "    param = T.vector()\n",
    "    dim = X.shape[1]\n",
    "    \n",
    "    def activation(data_, parameter):\n",
    "        n_previous = 0\n",
    "        dim_previous = dim\n",
    "        h = data_\n",
    "        for n_hidden, func in zip(hidden_layers, activate_functions):\n",
    "            N = dim_previous * n_hidden\n",
    "            W_ = parameter[n_previous:n_previous + N].reshape((dim_previous, n_hidden))\n",
    "            h = func(h.dot(W_))\n",
    "            dim_previous = n_hidden\n",
    "            n_previous += N\n",
    "\n",
    "        # output     \n",
    "        v_ = parameter[n_previous:]\n",
    "        output = h.dot(v_)\n",
    "        n_previous = n_previous + dim_previous\n",
    "        \n",
    "        return T.nnet.sigmoid(output), n_previous\n",
    "\n",
    "    p_sig = activation(X_, param)[0]\n",
    "    p_bck = 1 - p_sig\n",
    "    llh_ = y_.dot(T.log(p_sig)) + (1 - y_).dot(T.log(p_bck))\n",
    "    loss = -llh_\n",
    "    \n",
    "    # optimize\n",
    "    loss_function = theano.function([param], loss)\n",
    "    loss_grad = theano.function([param], theano.grad(loss, param))\n",
    "    result = minimize(loss_function, jac=loss_grad, x0=numpy.random.normal(size=activation(X_, param)[1]))\n",
    "    optimal_params = result['x']\n",
    "    \n",
    "    # predict data\n",
    "    data = T.matrix()\n",
    "    compiled_activation = theano.function([data, param], activation(data, param)[0])\n",
    "    \n",
    "    return compiled_activation(testX, optimal_params)\n"
   ]
  },
  {
   "cell_type": "code",
   "execution_count": null,
   "metadata": {
    "collapsed": true
   },
   "outputs": [],
   "source": [
    "## define activation function\n",
    "#sigmoid (which we used, T.nnet.sigmoid)\n",
    "#leaky ReLU (defined below)\n",
    "#softplus (T.nnet.softplus)\n",
    "\n",
    "def LeakyReLU(x):\n",
    "    return T.switch(x > 0, x, 0.5 * x)\n"
   ]
  },
  {
   "cell_type": "code",
   "execution_count": null,
   "metadata": {
    "collapsed": false
   },
   "outputs": [],
   "source": [
    "pred = fit_predict_NN(trainX, trainY, testX, [T.nnet.sigmoid] * 3, [20, 10, 5])\n",
    "print precision_score(testY, pred, average='micro')  \n",
    "print recall_score(testY, pred, average='micro')"
   ]
  },
  {
   "cell_type": "code",
   "execution_count": null,
   "metadata": {
    "collapsed": true
   },
   "outputs": [],
   "source": []
  },
  {
   "cell_type": "code",
   "execution_count": null,
   "metadata": {
    "collapsed": false
   },
   "outputs": [],
   "source": [
    "import numpy as np\n",
    "import time\n",
    "import theano\n",
    "A = np.random.rand(1000,10000).astype(theano.config.floatX)\n",
    "B = np.random.rand(10000,1000).astype(theano.config.floatX)\n",
    "np_start = time.time()\n",
    "AB = A.dot(B)\n",
    "np_end = time.time()\n",
    "X,Y = theano.tensor.matrices('XY')\n",
    "mf = theano.function([X,Y],X.dot(Y))\n",
    "t_start = time.time()\n",
    "tAB = mf(A,B)\n",
    "t_end = time.time()\n",
    "print(\"NP time: %f[s], theano time: %f[s] (times should be close when run on CPU!)\" %(\n",
    "                                           np_end-np_start, t_end-t_start))\n",
    "print(\"Result difference: %f\" % (np.abs(AB-tAB).max(), ))"
   ]
  },
  {
   "cell_type": "code",
   "execution_count": null,
   "metadata": {
    "collapsed": true
   },
   "outputs": [],
   "source": []
  }
 ],
 "metadata": {
  "kernelspec": {
   "display_name": "Python 2",
   "language": "python",
   "name": "python2"
  },
  "language_info": {
   "codemirror_mode": {
    "name": "ipython",
    "version": 2
   },
   "file_extension": ".py",
   "mimetype": "text/x-python",
   "name": "python",
   "nbconvert_exporter": "python",
   "pygments_lexer": "ipython2",
   "version": "2.7.11"
  }
 },
 "nbformat": 4,
 "nbformat_minor": 0
}
